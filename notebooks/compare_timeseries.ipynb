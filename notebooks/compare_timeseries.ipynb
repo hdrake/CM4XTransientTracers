{
 "cells": [
  {
   "cell_type": "code",
   "execution_count": 1,
   "id": "160ff084-e266-4f51-b836-4274e5b7d603",
   "metadata": {
    "tags": []
   },
   "outputs": [],
   "source": [
    "import os\n",
    "import xarray as xr\n",
    "import pandas as pd\n",
    "import netCDF4 as nc\n",
    "from pathlib import Path\n",
    "from natsort import natsorted\n",
    "import matplotlib.pyplot as plt\n",
    "import gc\n",
    "import os \n",
    "from os.path import exists\n",
    "import dask_labextension\n",
    "import numpy as np\n",
    "import xarray as xr"
   ]
  },
  {
   "cell_type": "code",
   "execution_count": 2,
   "id": "69b796dd-a687-4716-b411-4cb6dd64df8f",
   "metadata": {
    "tags": []
   },
   "outputs": [],
   "source": [
    "def plotsdir(x = \"\"): \n",
    "    return \"/scratch/anthony.meza/CM4X/CM4XTransientTracers/figures\" + x"
   ]
  },
  {
   "cell_type": "code",
   "execution_count": 3,
   "id": "6ac69e8b-f2fb-4c02-800a-57f123b015df",
   "metadata": {
    "tags": []
   },
   "outputs": [],
   "source": [
    "import gsw, xwmt, xgcm\n",
    "import cmocean.cm as cm"
   ]
  },
  {
   "cell_type": "code",
   "execution_count": 4,
   "id": "b5e83791-91cb-4734-800d-d0438d394974",
   "metadata": {
    "tags": []
   },
   "outputs": [
    {
     "name": "stdout",
     "output_type": "stream",
     "text": [
      "#!/usr/bin/env bash\n",
      "\n",
      "#SBATCH -J dask-worker\n",
      "#SBATCH -p scavenger\n",
      "#SBATCH -n 1\n",
      "#SBATCH --cpus-per-task=36\n",
      "#SBATCH --mem=38G\n",
      "#SBATCH -t 02:00:00\n",
      "\n",
      "/vortexfs1/home/anthony.meza/mambaforge/envs/atm_rivers/bin/python -m distributed.cli.dask_worker tcp://172.16.3.73:40583 --nthreads 36 --memory-limit 37.25GiB --name dummy-name --nanny --death-timeout 60 --interface ib0\n",
      "\n"
     ]
    }
   ],
   "source": [
    "from dask_jobqueue import SLURMCluster  # setup dask cluster \n",
    "cluster = SLURMCluster(\n",
    "    cores=36,\n",
    "    processes=1,\n",
    "    memory='40GB',\n",
    "    walltime='02:00:00',\n",
    "    queue='scavenger',\n",
    "    interface='ib0')\n",
    "print(cluster.job_script())\n",
    "cluster.scale(jobs=16)\n",
    "from dask.distributed import Client\n",
    "client = Client(cluster)"
   ]
  },
  {
   "cell_type": "code",
   "execution_count": 5,
   "id": "9ab13768-acf0-4b51-adfc-b583246243ee",
   "metadata": {
    "tags": []
   },
   "outputs": [
    {
     "data": {
      "text/html": [
       "<div>\n",
       "    <div style=\"width: 24px; height: 24px; background-color: #e1e1e1; border: 3px solid #9D9D9D; border-radius: 5px; position: absolute;\"> </div>\n",
       "    <div style=\"margin-left: 48px;\">\n",
       "        <h3 style=\"margin-bottom: 0px;\">Client</h3>\n",
       "        <p style=\"color: #9D9D9D; margin-bottom: 0px;\">Client-5970d89e-ed14-11ee-8fbe-3cfdfe55f880</p>\n",
       "        <table style=\"width: 100%; text-align: left;\">\n",
       "\n",
       "        <tr>\n",
       "        \n",
       "            <td style=\"text-align: left;\"><strong>Connection method:</strong> Cluster object</td>\n",
       "            <td style=\"text-align: left;\"><strong>Cluster type:</strong> dask_jobqueue.SLURMCluster</td>\n",
       "        \n",
       "        </tr>\n",
       "\n",
       "        \n",
       "            <tr>\n",
       "                <td style=\"text-align: left;\">\n",
       "                    <strong>Dashboard: </strong> <a href=\"/proxy/8787/status\" target=\"_blank\">/proxy/8787/status</a>\n",
       "                </td>\n",
       "                <td style=\"text-align: left;\"></td>\n",
       "            </tr>\n",
       "        \n",
       "\n",
       "        </table>\n",
       "\n",
       "        \n",
       "            <button style=\"margin-bottom: 12px;\" data-commandlinker-command=\"dask:populate-and-launch-layout\" data-commandlinker-args='{\"url\": \"/proxy/8787/status\" }'>\n",
       "                Launch dashboard in JupyterLab\n",
       "            </button>\n",
       "        \n",
       "\n",
       "        \n",
       "            <details>\n",
       "            <summary style=\"margin-bottom: 20px;\"><h3 style=\"display: inline;\">Cluster Info</h3></summary>\n",
       "            <div class=\"jp-RenderedHTMLCommon jp-RenderedHTML jp-mod-trusted jp-OutputArea-output\">\n",
       "    <div style=\"width: 24px; height: 24px; background-color: #e1e1e1; border: 3px solid #9D9D9D; border-radius: 5px; position: absolute;\">\n",
       "    </div>\n",
       "    <div style=\"margin-left: 48px;\">\n",
       "        <h3 style=\"margin-bottom: 0px; margin-top: 0px;\">SLURMCluster</h3>\n",
       "        <p style=\"color: #9D9D9D; margin-bottom: 0px;\">3700bb9b</p>\n",
       "        <table style=\"width: 100%; text-align: left;\">\n",
       "            <tr>\n",
       "                <td style=\"text-align: left;\">\n",
       "                    <strong>Dashboard:</strong> <a href=\"/proxy/8787/status\" target=\"_blank\">/proxy/8787/status</a>\n",
       "                </td>\n",
       "                <td style=\"text-align: left;\">\n",
       "                    <strong>Workers:</strong> 0\n",
       "                </td>\n",
       "            </tr>\n",
       "            <tr>\n",
       "                <td style=\"text-align: left;\">\n",
       "                    <strong>Total threads:</strong> 0\n",
       "                </td>\n",
       "                <td style=\"text-align: left;\">\n",
       "                    <strong>Total memory:</strong> 0 B\n",
       "                </td>\n",
       "            </tr>\n",
       "            \n",
       "        </table>\n",
       "\n",
       "        <details>\n",
       "            <summary style=\"margin-bottom: 20px;\">\n",
       "                <h3 style=\"display: inline;\">Scheduler Info</h3>\n",
       "            </summary>\n",
       "\n",
       "            <div style=\"\">\n",
       "    <div>\n",
       "        <div style=\"width: 24px; height: 24px; background-color: #FFF7E5; border: 3px solid #FF6132; border-radius: 5px; position: absolute;\"> </div>\n",
       "        <div style=\"margin-left: 48px;\">\n",
       "            <h3 style=\"margin-bottom: 0px;\">Scheduler</h3>\n",
       "            <p style=\"color: #9D9D9D; margin-bottom: 0px;\">Scheduler-ca50fe94-0008-40a0-9818-42659c4d218e</p>\n",
       "            <table style=\"width: 100%; text-align: left;\">\n",
       "                <tr>\n",
       "                    <td style=\"text-align: left;\">\n",
       "                        <strong>Comm:</strong> tcp://172.16.3.73:40583\n",
       "                    </td>\n",
       "                    <td style=\"text-align: left;\">\n",
       "                        <strong>Workers:</strong> 0\n",
       "                    </td>\n",
       "                </tr>\n",
       "                <tr>\n",
       "                    <td style=\"text-align: left;\">\n",
       "                        <strong>Dashboard:</strong> <a href=\"/proxy/8787/status\" target=\"_blank\">/proxy/8787/status</a>\n",
       "                    </td>\n",
       "                    <td style=\"text-align: left;\">\n",
       "                        <strong>Total threads:</strong> 0\n",
       "                    </td>\n",
       "                </tr>\n",
       "                <tr>\n",
       "                    <td style=\"text-align: left;\">\n",
       "                        <strong>Started:</strong> Just now\n",
       "                    </td>\n",
       "                    <td style=\"text-align: left;\">\n",
       "                        <strong>Total memory:</strong> 0 B\n",
       "                    </td>\n",
       "                </tr>\n",
       "            </table>\n",
       "        </div>\n",
       "    </div>\n",
       "\n",
       "    <details style=\"margin-left: 48px;\">\n",
       "        <summary style=\"margin-bottom: 20px;\">\n",
       "            <h3 style=\"display: inline;\">Workers</h3>\n",
       "        </summary>\n",
       "\n",
       "        \n",
       "\n",
       "    </details>\n",
       "</div>\n",
       "\n",
       "        </details>\n",
       "    </div>\n",
       "</div>\n",
       "            </details>\n",
       "        \n",
       "\n",
       "    </div>\n",
       "</div>"
      ],
      "text/plain": [
       "<Client: 'tcp://172.16.3.73:40583' processes=0 threads=0, memory=0 B>"
      ]
     },
     "execution_count": 5,
     "metadata": {},
     "output_type": "execute_result"
    }
   ],
   "source": [
    "client"
   ]
  },
  {
   "cell_type": "code",
   "execution_count": 6,
   "id": "c8bb8c29-f577-4e71-8468-4252f34d5b43",
   "metadata": {
    "tags": []
   },
   "outputs": [],
   "source": [
    "def get_sigma2(ds, keep_vars = False): \n",
    "    ds['p'] = xr.apply_ufunc(\n",
    "        gsw.p_from_z, ds.z, ds.lat, 0, 0, dask=\"parallelized\"\n",
    "    )\n",
    "\n",
    "\n",
    "    ds['sa'] = xr.apply_ufunc(\n",
    "        gsw.SA_from_SP,\n",
    "        ds.so,\n",
    "        ds.p,\n",
    "        ds.lon,\n",
    "        ds.lat,\n",
    "        dask=\"parallelized\",\n",
    "    )\n",
    "    ds['ct'] = xr.apply_ufunc(\n",
    "        gsw.CT_from_t,\n",
    "        ds.sa,\n",
    "        ds.thetao,\n",
    "        ds.p,\n",
    "        dask=\"parallelized\"\n",
    "    )\n",
    "\n",
    "    ds['sigma2'] = xr.apply_ufunc(\n",
    "        gsw.sigma2,\n",
    "        ds.sa,\n",
    "        ds.ct,\n",
    "        dask=\"parallelized\"\n",
    "    )\n",
    "    if keep_vars: \n",
    "        return ds\n",
    "    else: \n",
    "        return ds.drop_vars([\"p\", \"sa\", \"ct\"])"
   ]
  },
  {
   "cell_type": "code",
   "execution_count": 7,
   "id": "065e317b-9021-458f-bce7-660d7bea961c",
   "metadata": {
    "tags": []
   },
   "outputs": [],
   "source": [
    "def read_CM4X(fname): \n",
    "    return xr.open_mfdataset(\n",
    "        fname,\n",
    "        data_vars=\"minimal\",\n",
    "        coords=\"minimal\",\n",
    "        compat=\"override\",\n",
    "        parallel=True,\n",
    "        chunks={\"latitude\":-1, \"longitude\":-1, \"time\":-1, \"depth\":2},\n",
    "        engine=\"zarr\")\n",
    "\n",
    "def compute_depth_average(ds, zmin, zmax): \n",
    "    return ds.sel(zl = slice(zmin, zmax)).mean(\"zl\")"
   ]
  },
  {
   "cell_type": "code",
   "execution_count": 8,
   "id": "676c8aa8-f378-4e10-99a3-d09780a4d547",
   "metadata": {
    "tags": []
   },
   "outputs": [],
   "source": [
    "CM4Xp25_historical = read_CM4X(\"../../CM4Xp25_historical_transient_tracers.zarr\")\n",
    "CM4Xp25_ssp585 = read_CM4X(\"../../CM4Xp25_ssp585_transient_tracers.zarr\")\n",
    "CM4Xp25_piControl = read_CM4X(\"../../CM4Xp25_piControl_transient_tracers.zarr\")"
   ]
  },
  {
   "cell_type": "code",
   "execution_count": 9,
   "id": "ffbaeeee-a7f3-4448-a47f-7786c16585d6",
   "metadata": {
    "tags": []
   },
   "outputs": [],
   "source": [
    "cimoli_fnames = [\"../../CimoliData/CFC.nc\", \"../../CimoliData/CFC11.nc\", \"../../CimoliData/SF6.nc\"]"
   ]
  },
  {
   "cell_type": "code",
   "execution_count": 11,
   "id": "1d52cd55-9035-4948-96e4-d504e9bcd926",
   "metadata": {
    "tags": []
   },
   "outputs": [],
   "source": [
    "cimoli_ds = xr.open_mfdataset(cimoli_fnames, data_vars=\"minimal\",\n",
    "        coords=\"minimal\",\n",
    "        compat=\"override\",parallel=True,\n",
    "        chunks={\"latitude\":-1, \"longitude\":-1, \"time\":-1})"
   ]
  },
  {
   "cell_type": "code",
   "execution_count": 17,
   "id": "bb4aa21c-af71-4f93-b547-31f88f74a981",
   "metadata": {
    "tags": []
   },
   "outputs": [
    {
     "data": {
      "text/html": [
       "<div><svg style=\"position: absolute; width: 0; height: 0; overflow: hidden\">\n",
       "<defs>\n",
       "<symbol id=\"icon-database\" viewBox=\"0 0 32 32\">\n",
       "<path d=\"M16 0c-8.837 0-16 2.239-16 5v4c0 2.761 7.163 5 16 5s16-2.239 16-5v-4c0-2.761-7.163-5-16-5z\"></path>\n",
       "<path d=\"M16 17c-8.837 0-16-2.239-16-5v6c0 2.761 7.163 5 16 5s16-2.239 16-5v-6c0 2.761-7.163 5-16 5z\"></path>\n",
       "<path d=\"M16 26c-8.837 0-16-2.239-16-5v6c0 2.761 7.163 5 16 5s16-2.239 16-5v-6c0 2.761-7.163 5-16 5z\"></path>\n",
       "</symbol>\n",
       "<symbol id=\"icon-file-text2\" viewBox=\"0 0 32 32\">\n",
       "<path d=\"M28.681 7.159c-0.694-0.947-1.662-2.053-2.724-3.116s-2.169-2.030-3.116-2.724c-1.612-1.182-2.393-1.319-2.841-1.319h-15.5c-1.378 0-2.5 1.121-2.5 2.5v27c0 1.378 1.122 2.5 2.5 2.5h23c1.378 0 2.5-1.122 2.5-2.5v-19.5c0-0.448-0.137-1.23-1.319-2.841zM24.543 5.457c0.959 0.959 1.712 1.825 2.268 2.543h-4.811v-4.811c0.718 0.556 1.584 1.309 2.543 2.268zM28 29.5c0 0.271-0.229 0.5-0.5 0.5h-23c-0.271 0-0.5-0.229-0.5-0.5v-27c0-0.271 0.229-0.5 0.5-0.5 0 0 15.499-0 15.5 0v7c0 0.552 0.448 1 1 1h7v19.5z\"></path>\n",
       "<path d=\"M23 26h-14c-0.552 0-1-0.448-1-1s0.448-1 1-1h14c0.552 0 1 0.448 1 1s-0.448 1-1 1z\"></path>\n",
       "<path d=\"M23 22h-14c-0.552 0-1-0.448-1-1s0.448-1 1-1h14c0.552 0 1 0.448 1 1s-0.448 1-1 1z\"></path>\n",
       "<path d=\"M23 18h-14c-0.552 0-1-0.448-1-1s0.448-1 1-1h14c0.552 0 1 0.448 1 1s-0.448 1-1 1z\"></path>\n",
       "</symbol>\n",
       "</defs>\n",
       "</svg>\n",
       "<style>/* CSS stylesheet for displaying xarray objects in jupyterlab.\n",
       " *\n",
       " */\n",
       "\n",
       ":root {\n",
       "  --xr-font-color0: var(--jp-content-font-color0, rgba(0, 0, 0, 1));\n",
       "  --xr-font-color2: var(--jp-content-font-color2, rgba(0, 0, 0, 0.54));\n",
       "  --xr-font-color3: var(--jp-content-font-color3, rgba(0, 0, 0, 0.38));\n",
       "  --xr-border-color: var(--jp-border-color2, #e0e0e0);\n",
       "  --xr-disabled-color: var(--jp-layout-color3, #bdbdbd);\n",
       "  --xr-background-color: var(--jp-layout-color0, white);\n",
       "  --xr-background-color-row-even: var(--jp-layout-color1, white);\n",
       "  --xr-background-color-row-odd: var(--jp-layout-color2, #eeeeee);\n",
       "}\n",
       "\n",
       "html[theme=dark],\n",
       "body[data-theme=dark],\n",
       "body.vscode-dark {\n",
       "  --xr-font-color0: rgba(255, 255, 255, 1);\n",
       "  --xr-font-color2: rgba(255, 255, 255, 0.54);\n",
       "  --xr-font-color3: rgba(255, 255, 255, 0.38);\n",
       "  --xr-border-color: #1F1F1F;\n",
       "  --xr-disabled-color: #515151;\n",
       "  --xr-background-color: #111111;\n",
       "  --xr-background-color-row-even: #111111;\n",
       "  --xr-background-color-row-odd: #313131;\n",
       "}\n",
       "\n",
       ".xr-wrap {\n",
       "  display: block !important;\n",
       "  min-width: 300px;\n",
       "  max-width: 700px;\n",
       "}\n",
       "\n",
       ".xr-text-repr-fallback {\n",
       "  /* fallback to plain text repr when CSS is not injected (untrusted notebook) */\n",
       "  display: none;\n",
       "}\n",
       "\n",
       ".xr-header {\n",
       "  padding-top: 6px;\n",
       "  padding-bottom: 6px;\n",
       "  margin-bottom: 4px;\n",
       "  border-bottom: solid 1px var(--xr-border-color);\n",
       "}\n",
       "\n",
       ".xr-header > div,\n",
       ".xr-header > ul {\n",
       "  display: inline;\n",
       "  margin-top: 0;\n",
       "  margin-bottom: 0;\n",
       "}\n",
       "\n",
       ".xr-obj-type,\n",
       ".xr-array-name {\n",
       "  margin-left: 2px;\n",
       "  margin-right: 10px;\n",
       "}\n",
       "\n",
       ".xr-obj-type {\n",
       "  color: var(--xr-font-color2);\n",
       "}\n",
       "\n",
       ".xr-sections {\n",
       "  padding-left: 0 !important;\n",
       "  display: grid;\n",
       "  grid-template-columns: 150px auto auto 1fr 20px 20px;\n",
       "}\n",
       "\n",
       ".xr-section-item {\n",
       "  display: contents;\n",
       "}\n",
       "\n",
       ".xr-section-item input {\n",
       "  display: none;\n",
       "}\n",
       "\n",
       ".xr-section-item input + label {\n",
       "  color: var(--xr-disabled-color);\n",
       "}\n",
       "\n",
       ".xr-section-item input:enabled + label {\n",
       "  cursor: pointer;\n",
       "  color: var(--xr-font-color2);\n",
       "}\n",
       "\n",
       ".xr-section-item input:enabled + label:hover {\n",
       "  color: var(--xr-font-color0);\n",
       "}\n",
       "\n",
       ".xr-section-summary {\n",
       "  grid-column: 1;\n",
       "  color: var(--xr-font-color2);\n",
       "  font-weight: 500;\n",
       "}\n",
       "\n",
       ".xr-section-summary > span {\n",
       "  display: inline-block;\n",
       "  padding-left: 0.5em;\n",
       "}\n",
       "\n",
       ".xr-section-summary-in:disabled + label {\n",
       "  color: var(--xr-font-color2);\n",
       "}\n",
       "\n",
       ".xr-section-summary-in + label:before {\n",
       "  display: inline-block;\n",
       "  content: '►';\n",
       "  font-size: 11px;\n",
       "  width: 15px;\n",
       "  text-align: center;\n",
       "}\n",
       "\n",
       ".xr-section-summary-in:disabled + label:before {\n",
       "  color: var(--xr-disabled-color);\n",
       "}\n",
       "\n",
       ".xr-section-summary-in:checked + label:before {\n",
       "  content: '▼';\n",
       "}\n",
       "\n",
       ".xr-section-summary-in:checked + label > span {\n",
       "  display: none;\n",
       "}\n",
       "\n",
       ".xr-section-summary,\n",
       ".xr-section-inline-details {\n",
       "  padding-top: 4px;\n",
       "  padding-bottom: 4px;\n",
       "}\n",
       "\n",
       ".xr-section-inline-details {\n",
       "  grid-column: 2 / -1;\n",
       "}\n",
       "\n",
       ".xr-section-details {\n",
       "  display: none;\n",
       "  grid-column: 1 / -1;\n",
       "  margin-bottom: 5px;\n",
       "}\n",
       "\n",
       ".xr-section-summary-in:checked ~ .xr-section-details {\n",
       "  display: contents;\n",
       "}\n",
       "\n",
       ".xr-array-wrap {\n",
       "  grid-column: 1 / -1;\n",
       "  display: grid;\n",
       "  grid-template-columns: 20px auto;\n",
       "}\n",
       "\n",
       ".xr-array-wrap > label {\n",
       "  grid-column: 1;\n",
       "  vertical-align: top;\n",
       "}\n",
       "\n",
       ".xr-preview {\n",
       "  color: var(--xr-font-color3);\n",
       "}\n",
       "\n",
       ".xr-array-preview,\n",
       ".xr-array-data {\n",
       "  padding: 0 5px !important;\n",
       "  grid-column: 2;\n",
       "}\n",
       "\n",
       ".xr-array-data,\n",
       ".xr-array-in:checked ~ .xr-array-preview {\n",
       "  display: none;\n",
       "}\n",
       "\n",
       ".xr-array-in:checked ~ .xr-array-data,\n",
       ".xr-array-preview {\n",
       "  display: inline-block;\n",
       "}\n",
       "\n",
       ".xr-dim-list {\n",
       "  display: inline-block !important;\n",
       "  list-style: none;\n",
       "  padding: 0 !important;\n",
       "  margin: 0;\n",
       "}\n",
       "\n",
       ".xr-dim-list li {\n",
       "  display: inline-block;\n",
       "  padding: 0;\n",
       "  margin: 0;\n",
       "}\n",
       "\n",
       ".xr-dim-list:before {\n",
       "  content: '(';\n",
       "}\n",
       "\n",
       ".xr-dim-list:after {\n",
       "  content: ')';\n",
       "}\n",
       "\n",
       ".xr-dim-list li:not(:last-child):after {\n",
       "  content: ',';\n",
       "  padding-right: 5px;\n",
       "}\n",
       "\n",
       ".xr-has-index {\n",
       "  font-weight: bold;\n",
       "}\n",
       "\n",
       ".xr-var-list,\n",
       ".xr-var-item {\n",
       "  display: contents;\n",
       "}\n",
       "\n",
       ".xr-var-item > div,\n",
       ".xr-var-item label,\n",
       ".xr-var-item > .xr-var-name span {\n",
       "  background-color: var(--xr-background-color-row-even);\n",
       "  margin-bottom: 0;\n",
       "}\n",
       "\n",
       ".xr-var-item > .xr-var-name:hover span {\n",
       "  padding-right: 5px;\n",
       "}\n",
       "\n",
       ".xr-var-list > li:nth-child(odd) > div,\n",
       ".xr-var-list > li:nth-child(odd) > label,\n",
       ".xr-var-list > li:nth-child(odd) > .xr-var-name span {\n",
       "  background-color: var(--xr-background-color-row-odd);\n",
       "}\n",
       "\n",
       ".xr-var-name {\n",
       "  grid-column: 1;\n",
       "}\n",
       "\n",
       ".xr-var-dims {\n",
       "  grid-column: 2;\n",
       "}\n",
       "\n",
       ".xr-var-dtype {\n",
       "  grid-column: 3;\n",
       "  text-align: right;\n",
       "  color: var(--xr-font-color2);\n",
       "}\n",
       "\n",
       ".xr-var-preview {\n",
       "  grid-column: 4;\n",
       "}\n",
       "\n",
       ".xr-index-preview {\n",
       "  grid-column: 2 / 5;\n",
       "  color: var(--xr-font-color2);\n",
       "}\n",
       "\n",
       ".xr-var-name,\n",
       ".xr-var-dims,\n",
       ".xr-var-dtype,\n",
       ".xr-preview,\n",
       ".xr-attrs dt {\n",
       "  white-space: nowrap;\n",
       "  overflow: hidden;\n",
       "  text-overflow: ellipsis;\n",
       "  padding-right: 10px;\n",
       "}\n",
       "\n",
       ".xr-var-name:hover,\n",
       ".xr-var-dims:hover,\n",
       ".xr-var-dtype:hover,\n",
       ".xr-attrs dt:hover {\n",
       "  overflow: visible;\n",
       "  width: auto;\n",
       "  z-index: 1;\n",
       "}\n",
       "\n",
       ".xr-var-attrs,\n",
       ".xr-var-data,\n",
       ".xr-index-data {\n",
       "  display: none;\n",
       "  background-color: var(--xr-background-color) !important;\n",
       "  padding-bottom: 5px !important;\n",
       "}\n",
       "\n",
       ".xr-var-attrs-in:checked ~ .xr-var-attrs,\n",
       ".xr-var-data-in:checked ~ .xr-var-data,\n",
       ".xr-index-data-in:checked ~ .xr-index-data {\n",
       "  display: block;\n",
       "}\n",
       "\n",
       ".xr-var-data > table {\n",
       "  float: right;\n",
       "}\n",
       "\n",
       ".xr-var-name span,\n",
       ".xr-var-data,\n",
       ".xr-index-name div,\n",
       ".xr-index-data,\n",
       ".xr-attrs {\n",
       "  padding-left: 25px !important;\n",
       "}\n",
       "\n",
       ".xr-attrs,\n",
       ".xr-var-attrs,\n",
       ".xr-var-data,\n",
       ".xr-index-data {\n",
       "  grid-column: 1 / -1;\n",
       "}\n",
       "\n",
       "dl.xr-attrs {\n",
       "  padding: 0;\n",
       "  margin: 0;\n",
       "  display: grid;\n",
       "  grid-template-columns: 125px auto;\n",
       "}\n",
       "\n",
       ".xr-attrs dt,\n",
       ".xr-attrs dd {\n",
       "  padding: 0;\n",
       "  margin: 0;\n",
       "  float: left;\n",
       "  padding-right: 10px;\n",
       "  width: auto;\n",
       "}\n",
       "\n",
       ".xr-attrs dt {\n",
       "  font-weight: normal;\n",
       "  grid-column: 1;\n",
       "}\n",
       "\n",
       ".xr-attrs dt:hover span {\n",
       "  display: inline-block;\n",
       "  background: var(--xr-background-color);\n",
       "  padding-right: 10px;\n",
       "}\n",
       "\n",
       ".xr-attrs dd {\n",
       "  grid-column: 2;\n",
       "  white-space: pre-wrap;\n",
       "  word-break: break-all;\n",
       "}\n",
       "\n",
       ".xr-icon-database,\n",
       ".xr-icon-file-text2,\n",
       ".xr-no-icon {\n",
       "  display: inline-block;\n",
       "  vertical-align: middle;\n",
       "  width: 1em;\n",
       "  height: 1.5em !important;\n",
       "  stroke-width: 0;\n",
       "  stroke: currentColor;\n",
       "  fill: currentColor;\n",
       "}\n",
       "</style><pre class='xr-text-repr-fallback'>&lt;xarray.DataArray &#x27;longitude&#x27; (longitude: 720)&gt;\n",
       "array([  0. ,   0.5,   1. , ..., 358.5, 359. , 359.5])\n",
       "Coordinates:\n",
       "  * longitude  (longitude) float64 0.0 0.5 1.0 1.5 ... 358.0 358.5 359.0 359.5</pre><div class='xr-wrap' style='display:none'><div class='xr-header'><div class='xr-obj-type'>xarray.DataArray</div><div class='xr-array-name'>'longitude'</div><ul class='xr-dim-list'><li><span class='xr-has-index'>longitude</span>: 720</li></ul></div><ul class='xr-sections'><li class='xr-section-item'><div class='xr-array-wrap'><input id='section-4c55e290-3a33-494d-b5c1-c21c08f56c28' class='xr-array-in' type='checkbox' checked><label for='section-4c55e290-3a33-494d-b5c1-c21c08f56c28' title='Show/hide data repr'><svg class='icon xr-icon-database'><use xlink:href='#icon-database'></use></svg></label><div class='xr-array-preview xr-preview'><span>0.0 0.5 1.0 1.5 2.0 2.5 3.0 ... 357.0 357.5 358.0 358.5 359.0 359.5</span></div><div class='xr-array-data'><pre>array([  0. ,   0.5,   1. , ..., 358.5, 359. , 359.5])</pre></div></div></li><li class='xr-section-item'><input id='section-1d0610f9-85ef-4196-8230-2ab527408915' class='xr-section-summary-in' type='checkbox'  checked><label for='section-1d0610f9-85ef-4196-8230-2ab527408915' class='xr-section-summary' >Coordinates: <span>(1)</span></label><div class='xr-section-inline-details'></div><div class='xr-section-details'><ul class='xr-var-list'><li class='xr-var-item'><div class='xr-var-name'><span class='xr-has-index'>longitude</span></div><div class='xr-var-dims'>(longitude)</div><div class='xr-var-dtype'>float64</div><div class='xr-var-preview xr-preview'>0.0 0.5 1.0 ... 358.5 359.0 359.5</div><input id='attrs-ff0db0a8-1eda-42cc-84b8-531935c3d9f1' class='xr-var-attrs-in' type='checkbox' disabled><label for='attrs-ff0db0a8-1eda-42cc-84b8-531935c3d9f1' title='Show/Hide attributes'><svg class='icon xr-icon-file-text2'><use xlink:href='#icon-file-text2'></use></svg></label><input id='data-011e7320-5e9f-4ba8-9331-b7f62463b10a' class='xr-var-data-in' type='checkbox'><label for='data-011e7320-5e9f-4ba8-9331-b7f62463b10a' title='Show/Hide data repr'><svg class='icon xr-icon-database'><use xlink:href='#icon-database'></use></svg></label><div class='xr-var-attrs'><dl class='xr-attrs'></dl></div><div class='xr-var-data'><pre>array([  0. ,   0.5,   1. , ..., 358.5, 359. , 359.5])</pre></div></li></ul></div></li><li class='xr-section-item'><input id='section-8408ce26-d990-4c53-b54f-a7ed020bc07c' class='xr-section-summary-in' type='checkbox'  ><label for='section-8408ce26-d990-4c53-b54f-a7ed020bc07c' class='xr-section-summary' >Indexes: <span>(1)</span></label><div class='xr-section-inline-details'></div><div class='xr-section-details'><ul class='xr-var-list'><li class='xr-var-item'><div class='xr-index-name'><div>longitude</div></div><div class='xr-index-preview'>PandasIndex</div><div></div><input id='index-fc45dd3e-bb2f-4369-ae1a-697b3c8d8fc0' class='xr-index-data-in' type='checkbox'/><label for='index-fc45dd3e-bb2f-4369-ae1a-697b3c8d8fc0' title='Show/Hide index repr'><svg class='icon xr-icon-database'><use xlink:href='#icon-database'></use></svg></label><div class='xr-index-data'><pre>PandasIndex(Index([  0.0,   0.5,   1.0,   1.5,   2.0,   2.5,   3.0,   3.5,   4.0,   4.5,\n",
       "       ...\n",
       "       355.0, 355.5, 356.0, 356.5, 357.0, 357.5, 358.0, 358.5, 359.0, 359.5],\n",
       "      dtype=&#x27;float64&#x27;, name=&#x27;longitude&#x27;, length=720))</pre></div></li></ul></div></li><li class='xr-section-item'><input id='section-303c3200-f279-49ae-87c6-33f2ef7d7cb0' class='xr-section-summary-in' type='checkbox' disabled ><label for='section-303c3200-f279-49ae-87c6-33f2ef7d7cb0' class='xr-section-summary'  title='Expand/collapse section'>Attributes: <span>(0)</span></label><div class='xr-section-inline-details'></div><div class='xr-section-details'><dl class='xr-attrs'></dl></div></li></ul></div></div>"
      ],
      "text/plain": [
       "<xarray.DataArray 'longitude' (longitude: 720)>\n",
       "array([  0. ,   0.5,   1. , ..., 358.5, 359. , 359.5])\n",
       "Coordinates:\n",
       "  * longitude  (longitude) float64 0.0 0.5 1.0 1.5 ... 358.0 358.5 359.0 359.5"
      ]
     },
     "execution_count": 17,
     "metadata": {},
     "output_type": "execute_result"
    }
   ],
   "source": [
    "cimoli_ds.longitude"
   ]
  },
  {
   "cell_type": "code",
   "execution_count": null,
   "id": "6347b996-2986-491f-9596-faa1398bc0d8",
   "metadata": {
    "tags": []
   },
   "outputs": [],
   "source": [
    "cimoli_ds"
   ]
  },
  {
   "cell_type": "code",
   "execution_count": 9,
   "id": "0d310060-ba4a-4afe-9e9b-6fcfe8c0bb08",
   "metadata": {
    "tags": []
   },
   "outputs": [],
   "source": [
    "CFC_12_C = \n",
    "CFC_11_C = xr.open_mfdataset()\n",
    "SF6_C = xr.open_mfdataset()"
   ]
  },
  {
   "cell_type": "code",
   "execution_count": 53,
   "id": "692928bd-531d-4e4c-9919-bf693af60eb9",
   "metadata": {
    "tags": []
   },
   "outputs": [],
   "source": [
    "diff = -300 \n",
    "def get_time_series_cimoli(ds):\n",
    "    return ds.sel(longitude = slice(200, 220), latitude = slice(-40, -20)).mean([\"longitude\", \"latitude\"])\n",
    "    \n",
    "def get_time_series_CM4X(ds):\n",
    "    ds = ds.sel(xh = slice(200 + diff, 220 + diff), yh = slice(-40, -20))\n",
    "    ds = (ds * ds.thkcello).sum([\"xh\", \"yh\"]) / ds.thkcello.sum([\"xh\", \"yh\"])\n",
    "    ds = ds.compute()\n",
    "    ds[\"lon\"] = 210\n",
    "    ds[\"lat\"] = -30\n",
    "\n",
    "    return ds\n"
   ]
  },
  {
   "cell_type": "code",
   "execution_count": 54,
   "id": "c285def9-8859-46af-bea5-bdf92d1dd228",
   "metadata": {
    "tags": []
   },
   "outputs": [],
   "source": [
    "CM4_timeseries = get_time_series_CM4X(CM4Xp25_historical)\n",
    "CM4_timeseries = get_sigma2(CM4_timeseries).compute()\n",
    "CFC_12_ts = get_time_series_cimoli(CFC_12_C).compute()\n",
    "CFC_11_ts = get_time_series_cimoli(CFC_11_C).compute()\n",
    "SF6_ts = get_time_series_cimoli(SF6_C).compute()"
   ]
  },
  {
   "cell_type": "code",
   "execution_count": 55,
   "id": "748170a6-4710-4c5f-bf65-bdd41dbc25be",
   "metadata": {
    "tags": []
   },
   "outputs": [],
   "source": [
    "from scipy.interpolate import interp1d"
   ]
  },
  {
   "cell_type": "code",
   "execution_count": null,
   "id": "7bf5193e-8dcf-47a8-8632-72b9b9b84e90",
   "metadata": {
    "tags": []
   },
   "outputs": [],
   "source": []
  },
  {
   "cell_type": "code",
   "execution_count": null,
   "id": "c8041894-f2d1-4067-8dd8-f156f3469cb5",
   "metadata": {},
   "outputs": [],
   "source": []
  },
  {
   "cell_type": "code",
   "execution_count": 68,
   "id": "5e90b80d-02ad-422d-9617-b3232af2090a",
   "metadata": {
    "tags": []
   },
   "outputs": [],
   "source": [
    "CM4_sigma2 = CM4_timeseries.sigma2.values \n",
    "mask = (CM4_sigma2 > 35.5) * (CM4_sigma2 < 35.71)\n",
    "CFC_masked = (CM4_timeseries.cfc12 * mask * CM4_timeseries.thkcello).mean(\"zl\")* 1e9"
   ]
  },
  {
   "cell_type": "code",
   "execution_count": 69,
   "id": "7f8cd687-d8f9-4769-9ac5-7826101bb90d",
   "metadata": {
    "tags": []
   },
   "outputs": [
    {
     "data": {
      "text/plain": [
       "<matplotlib.collections.PathCollection at 0x2aac25792c80>"
      ]
     },
     "execution_count": 69,
     "metadata": {},
     "output_type": "execute_result"
    },
    {
     "data": {
      "image/png": "[encoded data removed]",
      "text/plain": [
       "<Figure size 640x480 with 1 Axes>"
      ]
     },
     "metadata": {},
     "output_type": "display_data"
    }
   ],
   "source": [
    "x = CFC_12_ts.sel(gamma_n = 2600, method = \"nearest\").cfc12_obs\n",
    "x_rec = CFC_12_ts.sel(gamma_n = 2600, method = \"nearest\").cfc12_rec\n",
    "\n",
    "plt.plot(CFC_12_ts.time, x_rec)\n",
    "plt.scatter(CFC_12_ts.time, x)\n",
    "plt.scatter(CFC_masked.year, CFC_masked)"
   ]
  },
  {
   "cell_type": "code",
   "execution_count": 70,
   "id": "27ea794b-7bc1-453f-8db9-d363738a16cc",
   "metadata": {},
   "outputs": [],
   "source": [
    "CM4_sigma2 = CM4_timeseries.sigma2.values \n",
    "mask = (CM4_sigma2 > 35.5) * (CM4_sigma2 < 35.71)\n",
    "\n",
    "CFC_masked = 1e9 * (CM4_timeseries.cfc11 * mask * CM4_timeseries.thkcello).sum(\"zl\") / (mask * CM4_timeseries.thkcello).sum(\"zl\")\n",
    "\n",
    "\n"
   ]
  },
  {
   "cell_type": "code",
   "execution_count": 81,
   "id": "a0e06126-1ce7-48d3-bfa5-88efcd4f81ce",
   "metadata": {
    "tags": []
   },
   "outputs": [],
   "source": [
    "CM4_sigma2 = CM4_timeseries.sigma2.values \n",
    "mask = (CM4_sigma2 > 35.2) * (CM4_sigma2 < 35.8)\n",
    "CFC_masked = 1e9 * (CM4_timeseries.sf6 * mask * CM4_timeseries.thkcello).sum(\"zl\") / (mask * CM4_timeseries.thkcello).sum(\"zl\")"
   ]
  },
  {
   "cell_type": "code",
   "execution_count": 82,
   "id": "4ac20170-cb61-4951-86d1-6cdb355a50ef",
   "metadata": {
    "tags": []
   },
   "outputs": [
    {
     "data": {
      "text/plain": [
       "[<matplotlib.lines.Line2D at 0x2aac2d9d5e10>]"
      ]
     },
     "execution_count": 82,
     "metadata": {},
     "output_type": "execute_result"
    },
    {
     "data": {
      "image/png": "[encoded data removed]",
      "text/plain": [
       "<Figure size 640x480 with 1 Axes>"
      ]
     },
     "metadata": {},
     "output_type": "display_data"
    }
   ],
   "source": [
    "x = SF6_ts.sel(gamma_n = 2600, method = \"nearest\").sf6_obs\n",
    "x_rec = SF6_ts.sel(gamma_n = 2600, method = \"nearest\").sf6_rec\n",
    "\n",
    "plt.plot(CFC_12_ts.time, x_rec)\n",
    "plt.scatter(CFC_12_ts.time, x)\n",
    "plt.plot(CFC_masked.year, CFC_masked)"
   ]
  },
  {
   "cell_type": "code",
   "execution_count": 90,
   "id": "4064c559-db9f-4d3a-89c0-d46bb0dd314c",
   "metadata": {},
   "outputs": [],
   "source": [
    "new_sigma_grid = np.linspace(CM4_timeseries.sigma2[0, :].min(), CM4_timeseries.sigma2[0, :].max())\n",
    "def interpolate_values(ds_sigma, ds_val):\n",
    "    unique_sigma, inds = np.unique(ds.sigma2, return_index = True)\n",
    "    interp = interp1d(unique_sigma, ds_val.values[inds], \n",
    "                      bounds_error = False, kind = \"cubic\", fill_value=np.nan)\n",
    "    return interp(new_sigma_grid)\n",
    "    \n",
    "\n",
    "\n",
    "CFC12_interp = np.zeros((len(new_sigma_grid), CM4_timeseries.cfc12.shape[0]))\n",
    "\n",
    "for (i, y) in enumerate(CM4_timeseries.year):\n",
    "    ds = CM4_timeseries.isel(year = i)\n",
    "    CFC12_interp[:, i] = interpolate_values(ds.sigma2, ds.cfc12)[:]"
   ]
  },
  {
   "cell_type": "code",
   "execution_count": 93,
   "id": "2a73cfc1-5b61-4952-ab22-ee7d3f02125d",
   "metadata": {
    "tags": []
   },
   "outputs": [
    {
     "data": {
      "text/plain": [
       "Text(510.3244949494949, 0.5, '$\\\\gamma_n$')"
      ]
     },
     "execution_count": 93,
     "metadata": {},
     "output_type": "execute_result"
    },
    {
     "data": {
      "image/png": "[encoded data removed]",
      "text/plain": [
       "<Figure size 1000x500 with 2 Axes>"
      ]
     },
     "metadata": {},
     "output_type": "display_data"
    }
   ],
   "source": [
    "fig, ax = plt.subplots(1,2,figsize=(10, 5), sharey = False, sharex = True)\n",
    "# fig.suptitle(\"Average CFC-12, CFC-11 and SF6 Concentrations along section P16 \\n t = 2010 - 2014\", fontsize = 14, y = 1, x = 0.5)\n",
    "\n",
    "fig.tight_layout()\n",
    "fig.subplots_adjust(wspace = 0.4, hspace = 0.3)\n",
    "\n",
    "\n",
    "# [a.set_ylim(23, 28) for a in axes[:, 1].flatten()]\n",
    "# [a.set_ylim(30, 37) for a in axes[:, 0].flatten()]\n",
    "[a.set_xlim(1940, 2020) for a in ax.flatten()]\n",
    "\n",
    "\n",
    "ax[0].pcolormesh(CM4_timeseries.year,new_sigma_grid,CFC12_interp * 1e9, vmin = 0, vmax = 2, shading = \"nearest\")\n",
    "ax[1].pcolormesh(CFC_12_ts.time,CFC_12_ts.gamma_n / 100,CFC_12_ts.cfc12_rec, vmin = 0, vmax = 2,shading = \"nearest\")\n",
    "\n",
    "# fig.colorbar(cm, ax = ax[:], label = \"CFC12 [pmol/kg]\", orientation = \"vertical\", fraction = 0.06)\n",
    "[a.invert_yaxis() for a in ax[:]]\n",
    "ax[0].set_title(\"CM4X Historical, 1/4° Resolution\")\n",
    "ax[1].set_title(\"TCM Reconstruction (Cimoli, et. al. 2023)\")\n",
    "ax[0].set_ylabel(r\"$\\sigma_2$\")\n",
    "ax[1].set_ylabel(r\"$\\gamma_n$\")"
   ]
  },
  {
   "cell_type": "code",
   "execution_count": null,
   "id": "e967cc8c-fbf4-4b2a-ad27-f8db9ad10cd7",
   "metadata": {},
   "outputs": [],
   "source": []
  }
 ],
 "metadata": {
  "kernelspec": {
   "display_name": "Python (Atmospheric Rivers)",
   "language": "python",
   "name": "atm_rivers"
  },
  "language_info": {
   "codemirror_mode": {
    "name": "ipython",
    "version": 3
   },
   "file_extension": ".py",
   "mimetype": "text/x-python",
   "name": "python",
   "nbconvert_exporter": "python",
   "pygments_lexer": "ipython3",
   "version": "3.10.10"
  }
 },
 "nbformat": 4,
 "nbformat_minor": 5
}
