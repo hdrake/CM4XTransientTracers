{
 "cells": [
  {
   "cell_type": "code",
   "execution_count": 1,
   "id": "fef38425-241d-4f70-880a-9f4cdee2ca22",
   "metadata": {},
   "outputs": [],
   "source": [
    "%load_ext autoreload\n",
    "%autoreload 2"
   ]
  },
  {
   "cell_type": "code",
   "execution_count": 2,
   "id": "1344ba68-cd49-4ab1-b0a2-5e54b05a5a63",
   "metadata": {},
   "outputs": [],
   "source": [
    "import warnings\n",
    "import matplotlib.pyplot as plt\n",
    "import numpy as np\n",
    "import xarray as xr\n",
    "import xbudget\n",
    "import regionate\n",
    "import xwmt\n",
    "import xwmb\n",
    "import xgcm\n",
    "import cartopy.crs as ccrs\n",
    "import CM4Xutils #needed to run: pip install nc-time-axis\n",
    "from regionate import MaskRegions, GriddedRegion\n",
    "import seaborn as sns\n",
    "import sys\n",
    "import matplotlib.ticker as mticker\n",
    "import warnings\n",
    "\n",
    "sys.path.insert(0, '/vortexfs1/home/anthony.meza/scratch/CM4XTransientTracers/src')\n",
    "from src import *\n",
    "sns.set_style(\"darkgrid\")"
   ]
  },
  {
   "cell_type": "code",
   "execution_count": 3,
   "id": "e11482ed-e75c-4c25-9988-9344dd04460c",
   "metadata": {},
   "outputs": [
    {
     "name": "stdout",
     "output_type": "stream",
     "text": [
      "xgcm version 0.8.2.dev15+g7492277 \n",
      "regionate version 0.1.1 \n",
      "xwmt version 0.3.0 \n",
      "xwmb version 0.2.1\n"
     ]
    }
   ],
   "source": [
    "print('xgcm version', xgcm.__version__, '\\nregionate version', regionate.__version__, '\\nxwmt version', xwmt.__version__, '\\nxwmb version', xwmb.__version__)"
   ]
  },
  {
   "cell_type": "code",
   "execution_count": 4,
   "id": "18692e2c-7026-4880-8de0-fc684338958f",
   "metadata": {},
   "outputs": [
    {
     "name": "stdout",
     "output_type": "stream",
     "text": [
      "#!/usr/bin/env bash\n",
      "\n",
      "#SBATCH -J dask-worker\n",
      "#SBATCH -e /vortexfs1/home/anthony.meza/scratch/CM4X/CM4XTransientTracers/WaterMassBudgets/logs/dask-worker-%J.err\n",
      "#SBATCH -o /vortexfs1/home/anthony.meza/scratch/CM4X/CM4XTransientTracers/WaterMassBudgets/logs/dask-worker-%J.out\n",
      "#SBATCH -p compute\n",
      "#SBATCH -n 1\n",
      "#SBATCH --cpus-per-task=36\n",
      "#SBATCH --mem=177G\n",
      "#SBATCH -t 02:00:00\n",
      "\n",
      "/vortexfs1/home/anthony.meza/miniforge3/envs/cm4x_analysis/bin/python -m distributed.cli.dask_worker tcp://172.16.3.57:37503 --name dummy-name --nthreads 36 --memory-limit 176.95GiB --nanny --death-timeout 60 --interface ib0\n",
      "\n"
     ]
    },
    {
     "data": {
      "text/html": [
       "<div>\n",
       "    <div style=\"width: 24px; height: 24px; background-color: #e1e1e1; border: 3px solid #9D9D9D; border-radius: 5px; position: absolute;\"> </div>\n",
       "    <div style=\"margin-left: 48px;\">\n",
       "        <h3 style=\"margin-bottom: 0px;\">Client</h3>\n",
       "        <p style=\"color: #9D9D9D; margin-bottom: 0px;\">Client-da73a643-4af6-11f0-bce8-3cfdfe55fde0</p>\n",
       "        <table style=\"width: 100%; text-align: left;\">\n",
       "\n",
       "        <tr>\n",
       "        \n",
       "            <td style=\"text-align: left;\"><strong>Connection method:</strong> Cluster object</td>\n",
       "            <td style=\"text-align: left;\"><strong>Cluster type:</strong> dask_jobqueue.SLURMCluster</td>\n",
       "        \n",
       "        </tr>\n",
       "\n",
       "        \n",
       "            <tr>\n",
       "                <td style=\"text-align: left;\">\n",
       "                    <strong>Dashboard: </strong> <a href=\"/proxy/8787/status\" target=\"_blank\">/proxy/8787/status</a>\n",
       "                </td>\n",
       "                <td style=\"text-align: left;\"></td>\n",
       "            </tr>\n",
       "        \n",
       "\n",
       "        </table>\n",
       "\n",
       "        \n",
       "            <button style=\"margin-bottom: 12px;\" data-commandlinker-command=\"dask:populate-and-launch-layout\" data-commandlinker-args='{\"url\": \"/proxy/8787/status\" }'>\n",
       "                Launch dashboard in JupyterLab\n",
       "            </button>\n",
       "        \n",
       "\n",
       "        \n",
       "            <details>\n",
       "            <summary style=\"margin-bottom: 20px;\"><h3 style=\"display: inline;\">Cluster Info</h3></summary>\n",
       "            <div class=\"jp-RenderedHTMLCommon jp-RenderedHTML jp-mod-trusted jp-OutputArea-output\">\n",
       "    <div style=\"width: 24px; height: 24px; background-color: #e1e1e1; border: 3px solid #9D9D9D; border-radius: 5px; position: absolute;\">\n",
       "    </div>\n",
       "    <div style=\"margin-left: 48px;\">\n",
       "        <h3 style=\"margin-bottom: 0px; margin-top: 0px;\">SLURMCluster</h3>\n",
       "        <p style=\"color: #9D9D9D; margin-bottom: 0px;\">a8c2c50b</p>\n",
       "        <table style=\"width: 100%; text-align: left;\">\n",
       "            <tr>\n",
       "                <td style=\"text-align: left;\">\n",
       "                    <strong>Dashboard:</strong> <a href=\"/proxy/8787/status\" target=\"_blank\">/proxy/8787/status</a>\n",
       "                </td>\n",
       "                <td style=\"text-align: left;\">\n",
       "                    <strong>Workers:</strong> 0\n",
       "                </td>\n",
       "            </tr>\n",
       "            <tr>\n",
       "                <td style=\"text-align: left;\">\n",
       "                    <strong>Total threads:</strong> 0\n",
       "                </td>\n",
       "                <td style=\"text-align: left;\">\n",
       "                    <strong>Total memory:</strong> 0 B\n",
       "                </td>\n",
       "            </tr>\n",
       "            \n",
       "        </table>\n",
       "\n",
       "        <details>\n",
       "            <summary style=\"margin-bottom: 20px;\">\n",
       "                <h3 style=\"display: inline;\">Scheduler Info</h3>\n",
       "            </summary>\n",
       "\n",
       "            <div style=\"\">\n",
       "    <div>\n",
       "        <div style=\"width: 24px; height: 24px; background-color: #FFF7E5; border: 3px solid #FF6132; border-radius: 5px; position: absolute;\"> </div>\n",
       "        <div style=\"margin-left: 48px;\">\n",
       "            <h3 style=\"margin-bottom: 0px;\">Scheduler</h3>\n",
       "            <p style=\"color: #9D9D9D; margin-bottom: 0px;\">Scheduler-57323ba1-7aa5-418e-a364-3b7b5d23a8b9</p>\n",
       "            <table style=\"width: 100%; text-align: left;\">\n",
       "                <tr>\n",
       "                    <td style=\"text-align: left;\">\n",
       "                        <strong>Comm:</strong> tcp://172.16.3.57:37503\n",
       "                    </td>\n",
       "                    <td style=\"text-align: left;\">\n",
       "                        <strong>Workers:</strong> 0\n",
       "                    </td>\n",
       "                </tr>\n",
       "                <tr>\n",
       "                    <td style=\"text-align: left;\">\n",
       "                        <strong>Dashboard:</strong> <a href=\"/proxy/8787/status\" target=\"_blank\">/proxy/8787/status</a>\n",
       "                    </td>\n",
       "                    <td style=\"text-align: left;\">\n",
       "                        <strong>Total threads:</strong> 0\n",
       "                    </td>\n",
       "                </tr>\n",
       "                <tr>\n",
       "                    <td style=\"text-align: left;\">\n",
       "                        <strong>Started:</strong> Just now\n",
       "                    </td>\n",
       "                    <td style=\"text-align: left;\">\n",
       "                        <strong>Total memory:</strong> 0 B\n",
       "                    </td>\n",
       "                </tr>\n",
       "            </table>\n",
       "        </div>\n",
       "    </div>\n",
       "\n",
       "    <details style=\"margin-left: 48px;\">\n",
       "        <summary style=\"margin-bottom: 20px;\">\n",
       "            <h3 style=\"display: inline;\">Workers</h3>\n",
       "        </summary>\n",
       "\n",
       "        \n",
       "\n",
       "    </details>\n",
       "</div>\n",
       "\n",
       "        </details>\n",
       "    </div>\n",
       "</div>\n",
       "            </details>\n",
       "        \n",
       "\n",
       "    </div>\n",
       "</div>"
      ],
      "text/plain": [
       "<Client: 'tcp://172.16.3.57:37503' processes=0 threads=0, memory=0 B>"
      ]
     },
     "execution_count": 4,
     "metadata": {},
     "output_type": "execute_result"
    }
   ],
   "source": [
    "from dask_jobqueue import SLURMCluster  # setup dask cluster \n",
    "from dask.distributed import Client\n",
    "\n",
    "log_directory=\"/vortexfs1/home/anthony.meza/scratch/CM4X/CM4XTransientTracers/WaterMassBudgets/logs\"\n",
    "\n",
    "cluster = SLURMCluster(\n",
    "    cores=36,\n",
    "    processes=1,\n",
    "    memory='190GB',\n",
    "    walltime='02:00:00',\n",
    "    queue='compute',\n",
    "    interface='ib0', \n",
    "log_directory = log_directory)\n",
    "print(cluster.job_script())\n",
    "cluster.scale(jobs=6)\n",
    "\n",
    "client = Client(cluster)\n",
    "client"
   ]
  },
  {
   "cell_type": "code",
   "execution_count": 5,
   "id": "fe7a7fd0-ee59-40a8-b1d2-6d0330cff0b1",
   "metadata": {},
   "outputs": [
    {
     "name": "stdout",
     "output_type": "stream",
     "text": [
      "Sectionate version: 0.2.1\n"
     ]
    }
   ],
   "source": [
    "import sectionate\n",
    "print(f\"Sectionate version: {sectionate.__version__}\")"
   ]
  },
  {
   "cell_type": "code",
   "execution_count": 6,
   "id": "4f8a2a68-87a5-4d73-8a07-9c245357fc3c",
   "metadata": {},
   "outputs": [],
   "source": [
    "from Streamfunctions import *\n",
    "from Streamfunctions_Sectionate import *\n",
    "\n",
    "rho0 = 1035. # kg/m3\n",
    "Sv_s_per_m3 = 1e-6\n",
    "Sv_s_per_kg = Sv_s_per_m3/rho0"
   ]
  },
  {
   "cell_type": "code",
   "execution_count": 7,
   "id": "fd4857dd-668b-4839-9174-e327133abeca",
   "metadata": {},
   "outputs": [],
   "source": [
    "get_transports = lambda ds: ds[[\"umo\", \"vmo\", \"thkcello\", \"sigma2_i\", \"zos\"]]\n",
    "datadir = lambda x=\"\" : \"/vortexfs1/home/anthony.meza/scratch/CM4XTransientTracers/data/\" + x\n",
    "ds = xr.open_mfdataset(\n",
    "        datadir(\"model/budgets_sigma2_1p5/CM4Xp125_budgets_sigma2_2020-2024.zarr\"),\n",
    "        data_vars=\"minimal\",\n",
    "        coords=\"minimal\",\n",
    "        compat=\"override\",\n",
    "        parallel=True,\n",
    "        preprocess = get_transports, \n",
    "        engine=\"zarr\")\n",
    "ds = ds.fillna(0.0)\n",
    "ds = ds.mean(\"time\", skipna = True).compute()\n",
    "ds_transport_snapshot = get_transports(ds).compute()"
   ]
  },
  {
   "cell_type": "code",
   "execution_count": 8,
   "id": "1dd5926d-caf7-432e-b0d4-bac90bd3b227",
   "metadata": {},
   "outputs": [],
   "source": [
    "grid = CM4Xutils.ds_to_grid(ds, Zprefix = \"sigma2\")"
   ]
  },
  {
   "cell_type": "code",
   "execution_count": 9,
   "id": "214caf95-2ddb-4386-b606-5c8b68f0798f",
   "metadata": {},
   "outputs": [],
   "source": [
    "ds[\"z\"] = approximate_z_top_down(ds)"
   ]
  },
  {
   "cell_type": "code",
   "execution_count": 10,
   "id": "beaf4e06-ee5a-4dda-b64f-6ec979dd9cfc",
   "metadata": {
    "scrolled": true
   },
   "outputs": [
    {
     "name": "stderr",
     "output_type": "stream",
     "text": [
      "/vortexfs1/home/anthony.meza/miniforge3/envs/cm4x_analysis/lib/python3.12/site-packages/xgcm/grid_ufunc.py:836: FutureWarning: The return type of `Dataset.dims` will be changed to return a set of dimension names in future, in order to be more consistent with `DataArray.dims`. To access a mapping from dimension names to lengths, please use `Dataset.sizes`.\n",
      "  out_dim: grid._ds.dims[out_dim] for arg in out_core_dims for out_dim in arg\n"
     ]
    },
    {
     "name": "stdout",
     "output_type": "stream",
     "text": [
      "35\n",
      "40\n",
      "45\n",
      "50\n"
     ]
    }
   ],
   "source": [
    "div_v = grid.diff(grid._ds[\"vmo\"], axis = \"Y\", boundary = \"fill\").fillna(0.0)\n",
    "div_v = div_v.compute() #calculate meridional divergence, can be used to calculate northwayrd transport\n",
    "\n",
    "geolat = ds.geolat.compute()\n",
    "grid._ds[\"geolat_v\"] = grid._ds[\"geolat_v\"].compute()\n",
    "grid._ds[\"geolat\"] = grid._ds[\"geolat\"].compute()\n",
    "\n",
    "lats = np.arange(35, 51, 1)\n",
    "\n",
    "reverse_sigma2 = lambda ds: ds.isel({\"sigma2_l\": slice(None, None, -1)})\n",
    "\n",
    "psi_lats_list = []\n",
    "mean_thk_list = []\n",
    "mean_depth_list = []\n",
    "mean_zos_list = []\n",
    "\n",
    "with warnings.catch_warnings():\n",
    "    warnings.simplefilter(action='ignore', category=FutureWarning)\n",
    "    warnings.simplefilter(action='ignore', category=UserWarning)\n",
    "    for lat in lats: \n",
    "\n",
    "        psi_lat = (div_v * (geolat >= lat))\n",
    "        psi_lat = psi_lat.where(psi_lat != 0).sum([\"xh\", \"yh\"], skipna = True)\n",
    "        diff_lat_mask = np.abs(grid.diff(1. * (grid._ds[\"geolat_v\"]>= lat), axis = \"Y\"))\n",
    "        diff_lat_mask = diff_lat_mask.where(diff_lat_mask > 0)\n",
    "\n",
    "        mean_depth = (ds[\"z\"] * diff_lat_mask)\n",
    "        mean_depth = mean_depth.where((diff_lat_mask > 0) * (ds[\"thkcello\"] > 0)).mean([\"xh\", \"yh\"], skipna = True)\n",
    "        mean_depth_list += [mean_depth.compute().assign_coords(lat=lat)]\n",
    "\n",
    "        psi_lat = (psi_lat.cumsum('sigma2_l') - psi_lat.sum('sigma2_l'))\n",
    "        psi_lat = psi_lat.assign_coords(lat=lat)  # single float value\n",
    "    \n",
    "        psi_lats_list += [psi_lat]\n",
    "        if (lat % 5) == 0: \n",
    "            print(lat)"
   ]
  },
  {
   "cell_type": "code",
   "execution_count": 11,
   "id": "938cf597-9ecc-42ff-94a1-5eb4486f29d4",
   "metadata": {},
   "outputs": [
    {
     "name": "stderr",
     "output_type": "stream",
     "text": [
      "/vortexfs1/home/anthony.meza/miniforge3/envs/cm4x_analysis/lib/python3.12/site-packages/numba/np/ufunc/gufunc.py:252: RuntimeWarning: invalid value encountered in _interp_1d_linear\n",
      "  return self.ufunc(*args, **kwargs)\n"
     ]
    }
   ],
   "source": [
    "psi_try = xr.concat(psi_lats_list, dim = \"lat\").sortby(\"lat\") \n",
    "depth_try = xr.concat(mean_depth_list, dim = \"lat\").sortby(\"lat\")\n",
    "\n",
    "psi_try_ds = -psi_try.rename(\"psi\").to_dataset()* Sv_s_per_kg\n",
    "psi_try_ds[\"sigma2_i\"] = ds[\"sigma2_i\"]\n",
    "psi_try_ds[\"z\"] = depth_try\n",
    "psi_try_ds\n",
    "\n",
    "psi_grid = Grid(psi_try_ds, coords={'Z': {'center':'sigma2_l'}}, periodic=False, autoparse_metadata = False)\n",
    "\n",
    "# # define the target values in density, linearly spaced\n",
    "z_target = np.linspace(-7000, 51, 50)\n",
    "\n",
    "# # and transform\n",
    "psi_transformed = psi_grid.transform(psi_try_ds.psi, 'Z', z_target, target_data=psi_try_ds[\"z\"], method = \"linear\", bypass_checks = False)\n"
   ]
  },
  {
   "cell_type": "code",
   "execution_count": 12,
   "id": "f2de4e63-bcec-4ea7-8a8f-0eff98512400",
   "metadata": {},
   "outputs": [],
   "source": [
    "from scipy import interpolate\n",
    "def interp_column(var_1d, depth_1d, new_z):\n",
    "    # 1) mask invalid\n",
    "    mask = np.isfinite(depth_1d)\n",
    "    if mask.sum() < 2:\n",
    "        return np.full(new_z.shape, np.nan)\n",
    "    d = depth_1d[mask]\n",
    "    v = var_1d[mask]\n",
    "    # 2) let scipy sort & interpolate\n",
    "    f = interp1d(\n",
    "        d, v,\n",
    "        kind='linear',\n",
    "        bounds_error=False,\n",
    "        fill_value=np.nan,\n",
    "        assume_sorted=False   # ← scipy will sort d & v internally\n",
    "    )\n",
    "    return f(new_z)\n",
    "\n",
    "# apply function over every (y,x) column\n",
    "psi_z = xr.apply_ufunc(\n",
    "    interp_column,\n",
    "    psi_try_ds['psi'], psi_try_ds['z'],\n",
    "    input_core_dims=[['sigma2_l'], ['sigma2_l']],\n",
    "    output_core_dims=[['Z']],\n",
    "    vectorize=True,\n",
    "    kwargs={'new_z': z_target},\n",
    "    dask='parallelized',\n",
    "    output_dtypes=[psi_try_ds['psi'].dtype]\n",
    ")\n",
    "\n",
    "# finally assign the new coordinate name\n",
    "psi_z = psi_z.assign_coords(Z=z_target)"
   ]
  },
  {
   "cell_type": "code",
   "execution_count": 13,
   "id": "bba3308b-a454-4855-8014-38496bf58961",
   "metadata": {},
   "outputs": [
    {
     "data": {
      "image/png": "[encoded data removed]",
      "text/plain": [
       "<Figure size 640x480 with 2 Axes>"
      ]
     },
     "metadata": {},
     "output_type": "display_data"
    }
   ],
   "source": [
    "levels = np.arange(-42, 42.1, 4)\n",
    "levels = np.sort(np.concatenate([levels, [0]])[:])\n",
    "psi_transformed = psi_transformed.where(np.abs(psi_transformed) > 1e-6)\n",
    "\n",
    "psi_z.isel(exp = 1).T.plot.contourf(levels = levels, extend = \"both\")\n",
    "plt.gca().set_facecolor(\"grey\")\n",
    "plt.gca().set_ylim(-7200, -100)\n",
    "plt.savefig(\"Control_streamfunction.png\", dpi = 200)"
   ]
  },
  {
   "cell_type": "code",
   "execution_count": 14,
   "id": "9405256a-2e43-4e3b-866e-0a8d0aa8bd73",
   "metadata": {},
   "outputs": [
    {
     "data": {
      "image/png": "[encoded data removed]",
      "text/plain": [
       "<Figure size 640x480 with 2 Axes>"
      ]
     },
     "metadata": {},
     "output_type": "display_data"
    }
   ],
   "source": [
    "levels = np.arange(-42, 42.1, 4)\n",
    "levels = np.sort(np.concatenate([levels, [0]])[:])\n",
    "# psi_transformed = psi_transformed.where(np.abs(psi_transformed) > 1e-6)\n",
    "\n",
    "psi_transformed.isel(exp = 0).T.plot.contourf(levels = levels, extend = \"both\")\n",
    "plt.gca().set_facecolor(\"grey\")\n",
    "plt.gca().set_ylim(-7200, -100)\n",
    "plt.savefig(\"Control_streamfunction.png\", dpi = 200)"
   ]
  },
  {
   "cell_type": "code",
   "execution_count": null,
   "id": "bb14eda2-6749-492a-a6bc-d2d7097dd501",
   "metadata": {},
   "outputs": [],
   "source": []
  },
  {
   "cell_type": "code",
   "execution_count": null,
   "id": "55e64a07-35a8-4b95-818d-4d4805f3f426",
   "metadata": {},
   "outputs": [],
   "source": []
  }
 ],
 "metadata": {
  "kernelspec": {
   "display_name": "Python 3 (ipykernel)",
   "language": "python",
   "name": "python3"
  },
  "language_info": {
   "codemirror_mode": {
    "name": "ipython",
    "version": 3
   },
   "file_extension": ".py",
   "mimetype": "text/x-python",
   "name": "python",
   "nbconvert_exporter": "python",
   "pygments_lexer": "ipython3",
   "version": "3.12.4"
  }
 },
 "nbformat": 4,
 "nbformat_minor": 5
}
