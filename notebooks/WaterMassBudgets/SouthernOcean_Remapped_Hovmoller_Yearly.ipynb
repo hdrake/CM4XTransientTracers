{
 "cells": [
  {
   "cell_type": "code",
   "execution_count": 1,
   "id": "fef38425-241d-4f70-880a-9f4cdee2ca22",
   "metadata": {},
   "outputs": [],
   "source": [
    "%load_ext autoreload\n",
    "%autoreload 2"
   ]
  },
  {
   "cell_type": "code",
   "execution_count": 2,
   "id": "1344ba68-cd49-4ab1-b0a2-5e54b05a5a63",
   "metadata": {},
   "outputs": [],
   "source": [
    "import warnings\n",
    "import matplotlib.pyplot as plt\n",
    "import numpy as np\n",
    "import xarray as xr\n",
    "import xbudget\n",
    "import regionate\n",
    "import xwmt\n",
    "import xwmb\n",
    "import xgcm\n",
    "import cartopy.crs as ccrs\n",
    "import CM4Xutils #needed to run: pip install nc-time-axis\n",
    "from regionate import MaskRegions, GriddedRegion\n",
    "import seaborn as sns\n",
    "import sys\n",
    "sys.path.insert(0, '/vortexfs1/home/anthony.meza/scratch/CM4XTransientTracers/src')\n",
    "from src import *\n",
    "sns.set_style(\"darkgrid\")"
   ]
  },
  {
   "cell_type": "code",
   "execution_count": 3,
   "id": "e11482ed-e75c-4c25-9988-9344dd04460c",
   "metadata": {},
   "outputs": [
    {
     "name": "stdout",
     "output_type": "stream",
     "text": [
      "xgcm version 0.8.2.dev15+g7492277 \n",
      "regionate version 0.1.1 \n",
      "xwmt version 0.3.0 \n",
      "xwmb version 0.2.1\n"
     ]
    }
   ],
   "source": [
    "print('xgcm version', xgcm.__version__, '\\nregionate version', regionate.__version__, '\\nxwmt version', xwmt.__version__, '\\nxwmb version', xwmb.__version__)"
   ]
  },
  {
   "cell_type": "markdown",
   "id": "a46f6332-4dc9-4a45-8514-4ea0a994cb02",
   "metadata": {},
   "source": [
    "## Request HPC Resources"
   ]
  },
  {
   "cell_type": "code",
   "execution_count": 4,
   "id": "30250de5-1ed4-4a27-af61-2457b1eac6bc",
   "metadata": {},
   "outputs": [
    {
     "name": "stdout",
     "output_type": "stream",
     "text": [
      "#!/usr/bin/env bash\n",
      "\n",
      "#SBATCH -J dask-worker\n",
      "#SBATCH -e /vortexfs1/home/anthony.meza/scratch/CM4X/CM4XTransientTracers/WaterMassBudgets/logs/dask-worker-%J.err\n",
      "#SBATCH -o /vortexfs1/home/anthony.meza/scratch/CM4X/CM4XTransientTracers/WaterMassBudgets/logs/dask-worker-%J.out\n",
      "#SBATCH -p compute\n",
      "#SBATCH -n 1\n",
      "#SBATCH --cpus-per-task=36\n",
      "#SBATCH --mem=94G\n",
      "#SBATCH -t 02:00:00\n",
      "\n",
      "/vortexfs1/home/anthony.meza/miniforge3/envs/cm4x_analysis/bin/python -m distributed.cli.dask_worker tcp://172.16.3.89:33195 --name dummy-name --nthreads 36 --memory-limit 93.13GiB --nanny --death-timeout 60 --interface ib0\n",
      "\n"
     ]
    },
    {
     "data": {
      "text/html": [
       "<div>\n",
       "    <div style=\"width: 24px; height: 24px; background-color: #e1e1e1; border: 3px solid #9D9D9D; border-radius: 5px; position: absolute;\"> </div>\n",
       "    <div style=\"margin-left: 48px;\">\n",
       "        <h3 style=\"margin-bottom: 0px;\">Client</h3>\n",
       "        <p style=\"color: #9D9D9D; margin-bottom: 0px;\">Client-808b455a-fb66-11ef-89d9-3cfdfe55dc60</p>\n",
       "        <table style=\"width: 100%; text-align: left;\">\n",
       "\n",
       "        <tr>\n",
       "        \n",
       "            <td style=\"text-align: left;\"><strong>Connection method:</strong> Cluster object</td>\n",
       "            <td style=\"text-align: left;\"><strong>Cluster type:</strong> dask_jobqueue.SLURMCluster</td>\n",
       "        \n",
       "        </tr>\n",
       "\n",
       "        \n",
       "            <tr>\n",
       "                <td style=\"text-align: left;\">\n",
       "                    <strong>Dashboard: </strong> <a href=\"/proxy/8787/status\" target=\"_blank\">/proxy/8787/status</a>\n",
       "                </td>\n",
       "                <td style=\"text-align: left;\"></td>\n",
       "            </tr>\n",
       "        \n",
       "\n",
       "        </table>\n",
       "\n",
       "        \n",
       "            <button style=\"margin-bottom: 12px;\" data-commandlinker-command=\"dask:populate-and-launch-layout\" data-commandlinker-args='{\"url\": \"/proxy/8787/status\" }'>\n",
       "                Launch dashboard in JupyterLab\n",
       "            </button>\n",
       "        \n",
       "\n",
       "        \n",
       "            <details>\n",
       "            <summary style=\"margin-bottom: 20px;\"><h3 style=\"display: inline;\">Cluster Info</h3></summary>\n",
       "            <div class=\"jp-RenderedHTMLCommon jp-RenderedHTML jp-mod-trusted jp-OutputArea-output\">\n",
       "    <div style=\"width: 24px; height: 24px; background-color: #e1e1e1; border: 3px solid #9D9D9D; border-radius: 5px; position: absolute;\">\n",
       "    </div>\n",
       "    <div style=\"margin-left: 48px;\">\n",
       "        <h3 style=\"margin-bottom: 0px; margin-top: 0px;\">SLURMCluster</h3>\n",
       "        <p style=\"color: #9D9D9D; margin-bottom: 0px;\">e3a83301</p>\n",
       "        <table style=\"width: 100%; text-align: left;\">\n",
       "            <tr>\n",
       "                <td style=\"text-align: left;\">\n",
       "                    <strong>Dashboard:</strong> <a href=\"/proxy/8787/status\" target=\"_blank\">/proxy/8787/status</a>\n",
       "                </td>\n",
       "                <td style=\"text-align: left;\">\n",
       "                    <strong>Workers:</strong> 0\n",
       "                </td>\n",
       "            </tr>\n",
       "            <tr>\n",
       "                <td style=\"text-align: left;\">\n",
       "                    <strong>Total threads:</strong> 0\n",
       "                </td>\n",
       "                <td style=\"text-align: left;\">\n",
       "                    <strong>Total memory:</strong> 0 B\n",
       "                </td>\n",
       "            </tr>\n",
       "            \n",
       "        </table>\n",
       "\n",
       "        <details>\n",
       "            <summary style=\"margin-bottom: 20px;\">\n",
       "                <h3 style=\"display: inline;\">Scheduler Info</h3>\n",
       "            </summary>\n",
       "\n",
       "            <div style=\"\">\n",
       "    <div>\n",
       "        <div style=\"width: 24px; height: 24px; background-color: #FFF7E5; border: 3px solid #FF6132; border-radius: 5px; position: absolute;\"> </div>\n",
       "        <div style=\"margin-left: 48px;\">\n",
       "            <h3 style=\"margin-bottom: 0px;\">Scheduler</h3>\n",
       "            <p style=\"color: #9D9D9D; margin-bottom: 0px;\">Scheduler-cdba167b-88d2-473d-bd4e-329410ec7bae</p>\n",
       "            <table style=\"width: 100%; text-align: left;\">\n",
       "                <tr>\n",
       "                    <td style=\"text-align: left;\">\n",
       "                        <strong>Comm:</strong> tcp://172.16.3.89:33195\n",
       "                    </td>\n",
       "                    <td style=\"text-align: left;\">\n",
       "                        <strong>Workers:</strong> 0\n",
       "                    </td>\n",
       "                </tr>\n",
       "                <tr>\n",
       "                    <td style=\"text-align: left;\">\n",
       "                        <strong>Dashboard:</strong> <a href=\"/proxy/8787/status\" target=\"_blank\">/proxy/8787/status</a>\n",
       "                    </td>\n",
       "                    <td style=\"text-align: left;\">\n",
       "                        <strong>Total threads:</strong> 0\n",
       "                    </td>\n",
       "                </tr>\n",
       "                <tr>\n",
       "                    <td style=\"text-align: left;\">\n",
       "                        <strong>Started:</strong> Just now\n",
       "                    </td>\n",
       "                    <td style=\"text-align: left;\">\n",
       "                        <strong>Total memory:</strong> 0 B\n",
       "                    </td>\n",
       "                </tr>\n",
       "            </table>\n",
       "        </div>\n",
       "    </div>\n",
       "\n",
       "    <details style=\"margin-left: 48px;\">\n",
       "        <summary style=\"margin-bottom: 20px;\">\n",
       "            <h3 style=\"display: inline;\">Workers</h3>\n",
       "        </summary>\n",
       "\n",
       "        \n",
       "\n",
       "    </details>\n",
       "</div>\n",
       "\n",
       "        </details>\n",
       "    </div>\n",
       "</div>\n",
       "            </details>\n",
       "        \n",
       "\n",
       "    </div>\n",
       "</div>"
      ],
      "text/plain": [
       "<Client: 'tcp://172.16.3.89:33195' processes=0 threads=0, memory=0 B>"
      ]
     },
     "execution_count": 4,
     "metadata": {},
     "output_type": "execute_result"
    }
   ],
   "source": [
    "from dask_jobqueue import SLURMCluster  # setup dask cluster \n",
    "from dask.distributed import Client\n",
    "\n",
    "log_directory=\"/vortexfs1/home/anthony.meza/scratch/CM4X/CM4XTransientTracers/WaterMassBudgets/logs\"\n",
    "\n",
    "cluster = SLURMCluster(\n",
    "    cores=36,\n",
    "    processes=1,\n",
    "    memory='100GB',\n",
    "    walltime='02:00:00',\n",
    "    queue='compute',\n",
    "    interface='ib0', \n",
    "log_directory = log_directory)\n",
    "print(cluster.job_script())\n",
    "cluster.scale(jobs=4)\n",
    "\n",
    "client = Client(cluster)\n",
    "client"
   ]
  },
  {
   "cell_type": "markdown",
   "id": "158f9eff-ddad-4e01-b33c-52f33858da46",
   "metadata": {},
   "source": [
    "## Load in data"
   ]
  },
  {
   "cell_type": "code",
   "execution_count": 6,
   "id": "a00935e1-3c5c-4ba0-91ce-a554645508de",
   "metadata": {},
   "outputs": [],
   "source": [
    "datadir = lambda x=\"\" : \"/vortexfs1/home/anthony.meza/scratch/CM4XTransientTracers/data/\" + x\n",
    "ds_yearly = xr.open_mfdataset(\n",
    "        datadir(\"model/yearly_output_0.25deg/CM4Xp125_historical_transient_tracers.zarr\"),\n",
    "        data_vars=\"minimal\",\n",
    "        coords=\"minimal\",\n",
    "        compat=\"override\",\n",
    "        parallel=True,\n",
    "        engine=\"zarr\")\n",
    "\n",
    "z_l = ds_yearly.zl.values\n",
    "z_i = np.zeros(len(z_l) + 1)\n",
    "for i in range(len(z_l)):\n",
    "    z_i[i + 1] = (2 * (z_l[i] - z_i[i])) + z_i[i]\n",
    "z_i[-1] += 2\n",
    "\n",
    "d_i = np.arange(0, 6500, 100)\n",
    "d_l = ((d_i[1:] - d_i[0:-1]) / 2) + d_i[0:-1]\n",
    "\n",
    "ds_yearly = approximate_z(ds_yearly, dim = \"zl\").rename({\"z\":\"depth\"})\n",
    "\n",
    "ds_yearly = ds_yearly.rename({\"zl\":\"z_l\"}).assign_coords({\"z_i\":z_i, \n",
    "                                     \"depth_i\":d_i, \n",
    "                                     \"depth_l\":d_i})\n",
    "\n",
    "grid = CM4Xutils.ds_to_grid(ds_yearly, Zprefix = \"z\")\n",
    "ds_yearly = ds_yearly.chunk({\"z_l\": -1, \"year\":1})"
   ]
  },
  {
   "cell_type": "code",
   "execution_count": 7,
   "id": "b8298adb-2300-42c6-8af3-d4fbac40ca1a",
   "metadata": {},
   "outputs": [
    {
     "name": "stderr",
     "output_type": "stream",
     "text": [
      "/vortexfs1/home/anthony.meza/miniforge3/envs/cm4x_analysis/lib/python3.12/site-packages/xgcm/transform.py:464: UserWarning: The `target data` input is not located on the cell bounds. This method will continue with linear interpolation with repeated boundary values. For most accurate results provide values on cell bounds.\n",
      "  warnings.warn(\n",
      "/vortexfs1/home/anthony.meza/miniforge3/envs/cm4x_analysis/lib/python3.12/site-packages/xgcm/grid_ufunc.py:836: FutureWarning: The return type of `Dataset.dims` will be changed to return a set of dimension names in future, in order to be more consistent with `DataArray.dims`. To access a mapping from dimension names to lengths, please use `Dataset.sizes`.\n",
      "  out_dim: grid._ds.dims[out_dim] for arg in out_core_dims for out_dim in arg\n",
      "/vortexfs1/home/anthony.meza/miniforge3/envs/cm4x_analysis/lib/python3.12/site-packages/xgcm/transform.py:245: FutureWarning: ``output_sizes`` should be given in the ``dask_gufunc_kwargs`` parameter. It will be removed as direct parameter in a future version.\n",
      "  out = xr.apply_ufunc(\n",
      "/vortexfs1/home/anthony.meza/miniforge3/envs/cm4x_analysis/lib/python3.12/site-packages/xgcm/transform.py:464: UserWarning: The `target data` input is not located on the cell bounds. This method will continue with linear interpolation with repeated boundary values. For most accurate results provide values on cell bounds.\n",
      "  warnings.warn(\n",
      "/vortexfs1/home/anthony.meza/miniforge3/envs/cm4x_analysis/lib/python3.12/site-packages/xgcm/grid_ufunc.py:836: FutureWarning: The return type of `Dataset.dims` will be changed to return a set of dimension names in future, in order to be more consistent with `DataArray.dims`. To access a mapping from dimension names to lengths, please use `Dataset.sizes`.\n",
      "  out_dim: grid._ds.dims[out_dim] for arg in out_core_dims for out_dim in arg\n",
      "/vortexfs1/home/anthony.meza/miniforge3/envs/cm4x_analysis/lib/python3.12/site-packages/xgcm/transform.py:245: FutureWarning: ``output_sizes`` should be given in the ``dask_gufunc_kwargs`` parameter. It will be removed as direct parameter in a future version.\n",
      "  out = xr.apply_ufunc(\n"
     ]
    }
   ],
   "source": [
    "cfc11_mass_by_depth = grid.transform((ds_yearly[\"cfc11\"] * ds_yearly[\"thkcello\"]).fillna(0.), 'Z', d_i,\n",
    "                                   target_data=ds_yearly[\"depth\"], method='conservative')\n",
    "layer_thickness_by_depth = grid.transform(ds_yearly[\"thkcello\"].fillna(0.), 'Z', d_i,\n",
    "                                   target_data=ds_yearly[\"depth\"], method='conservative')\n",
    "\n",
    "cfc11_by_depth = (cfc11_mass_by_depth / layer_thickness_by_depth).where(layer_thickness_by_depth != 0.0)\n",
    "cfc11_by_depth = xr.merge([cfc11_by_depth.rename(\"cfc11\"), layer_thickness_by_depth])"
   ]
  },
  {
   "cell_type": "code",
   "execution_count": null,
   "id": "3e980cdb-ee37-4224-bf72-7662afaa9cae",
   "metadata": {},
   "outputs": [],
   "source": []
  },
  {
   "cell_type": "code",
   "execution_count": 8,
   "id": "7afc7fe7-b087-4406-95b9-2754e015d2de",
   "metadata": {},
   "outputs": [],
   "source": [
    "cfc11_by_depth = cfc11_by_depth.where(cfc11_by_depth.geolat < -40)\n",
    "cfc11_by_z = ds_yearly[[\"cfc11\", \"thkcello\"]].where(ds_yearly.geolat < -40)"
   ]
  },
  {
   "cell_type": "code",
   "execution_count": 9,
   "id": "68fefacf-46f4-4fbb-824d-a2c694a525f0",
   "metadata": {},
   "outputs": [],
   "source": [
    "def volume_weighted_average(ds):\n",
    "    weights = ds.thkcello * ds.areacello\n",
    "    weighted_ds = (ds.drop([\"thkcello\"]) * weights).sum([\"xh\", \"yh\"]) / weights.sum([\"xh\", \"yh\"])\n",
    "    return weighted_ds"
   ]
  },
  {
   "cell_type": "code",
   "execution_count": 10,
   "id": "d5f2e539-0e20-484c-8e8d-ac23f309d3b5",
   "metadata": {},
   "outputs": [
    {
     "name": "stderr",
     "output_type": "stream",
     "text": [
      "/tmp/ipykernel_117209/477466137.py:3: DeprecationWarning: dropping variables using `drop` is deprecated; use drop_vars.\n",
      "  weighted_ds = (ds.drop([\"thkcello\"]) * weights).sum([\"xh\", \"yh\"]) / weights.sum([\"xh\", \"yh\"])\n"
     ]
    }
   ],
   "source": [
    "SO_cfc11 = volume_weighted_average(cfc11_by_depth).compute()"
   ]
  },
  {
   "cell_type": "code",
   "execution_count": 11,
   "id": "54c5e618-0b8b-43d3-9a60-3f03852c600f",
   "metadata": {},
   "outputs": [
    {
     "data": {
      "text/plain": [
       "<matplotlib.contour.QuadContourSet at 0x2aabb15f3e90>"
      ]
     },
     "execution_count": 11,
     "metadata": {},
     "output_type": "execute_result"
    },
    {
     "data": {
      "image/png": "[encoded data removed]",
      "text/plain": [
       "<Figure size 640x480 with 2 Axes>"
      ]
     },
     "metadata": {},
     "output_type": "display_data"
    }
   ],
   "source": [
    "levels = np.arange(0, 1.51, 0.25)\n",
    "\n",
    "((1e12/1035) * SO_cfc11.cfc11).sel(year = slice(1950, 2014)).T.plot.contourf(levels = levels)"
   ]
  },
  {
   "cell_type": "code",
   "execution_count": null,
   "id": "34d474d3-9f44-4e55-b246-8b4452e41c8e",
   "metadata": {},
   "outputs": [],
   "source": []
  }
 ],
 "metadata": {
  "kernelspec": {
   "display_name": "Python 3 (ipykernel)",
   "language": "python",
   "name": "python3"
  },
  "language_info": {
   "codemirror_mode": {
    "name": "ipython",
    "version": 3
   },
   "file_extension": ".py",
   "mimetype": "text/x-python",
   "name": "python",
   "nbconvert_exporter": "python",
   "pygments_lexer": "ipython3",
   "version": "3.12.4"
  }
 },
 "nbformat": 4,
 "nbformat_minor": 5
}
