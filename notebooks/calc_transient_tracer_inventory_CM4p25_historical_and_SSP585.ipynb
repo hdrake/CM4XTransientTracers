{
 "cells": [
  {
   "cell_type": "code",
   "execution_count": 1,
   "id": "4e620913-5da4-44af-9d2d-9e20c6872aac",
   "metadata": {},
   "outputs": [],
   "source": [
    "%load_ext autoreload\n",
    "%autoreload 2"
   ]
  },
  {
   "cell_type": "code",
   "execution_count": 2,
   "id": "c9c33ea3-720d-4ba8-a2e4-8a90cb46fb25",
   "metadata": {},
   "outputs": [],
   "source": [
    "import xarray as xr\n",
    "import warnings\n",
    "import matplotlib.pyplot as plt\n",
    "import os"
   ]
  },
  {
   "cell_type": "code",
   "execution_count": 3,
   "id": "bdaff485-790a-4bd5-9a96-8948ab500563",
   "metadata": {},
   "outputs": [],
   "source": [
    "import gfdl_utils.core as gu"
   ]
  },
  {
   "cell_type": "code",
   "execution_count": 4,
   "id": "cbe8e145-aef6-4028-8aa8-ccaf1c156114",
   "metadata": {},
   "outputs": [],
   "source": [
    "models = {\n",
    "    \"CM4p25\"  : {\"historical\":\"odiv-231\", \"ssp5\":\"odiv-232\"},\n",
    "    \"CM4p125\" : {\"historical\":\"odiv-255\", \"ssp5\":\"odiv-293\"}\n",
    "}\n",
    "\n",
    "pre = \"/archive/Raphael.Dussin/\"\n",
    "pp_dict = {\n",
    "    \"odiv-230\": f\"{pre}FMS2019.01.03_devgfdl_20221223/CM4_piControl_c192_OM4p25_v8/gfdl.ncrc4-intel18-prod-openmp/pp\",\n",
    "    \"odiv-231\": f\"{pre}FMS2019.01.03_devgfdl_20221223/CM4_historical_c192_OM4p25/gfdl.ncrc4-intel18-prod-openmp/pp\",\n",
    "    \"odiv-232\": f\"{pre}FMS2019.01.03_devgfdl_20221223/CM4_ssp585_c192_OM4p25/gfdl.ncrc4-intel18-prod-openmp/pp\",\n",
    "    \"odiv-209\": f\"{pre}FMS2019.01.03_devgfdl_20210706/CM4_piControl_c192_OM4p125_v7/gfdl.ncrc4-intel18-prod-openmp/pp\",\n",
    "    \"odiv-255\": f\"{pre}FMS2019.01.03_devgfdl_20230608/CM4_historical_c192_OM4p125/gfdl.ncrc5-intel22-prod-openmp/pp\",\n",
    "    \"odiv-293\": f\"{pre}FMS2019.01.03_devgfdl_20230608/CM4_ssp585_c192_OM4p125/gfdl.ncrc5-intel22-prod-openmp/pp\"\n",
    "}\n",
    "\n",
    "pre = \"/archive/Raphael.Dussin/datasets/\"\n",
    "sg_dict = {\n",
    "    \"OM4p25\": f\"{pre}OM4p25/c192_OM4_025_grid_No_mg_drag_v20160808_unpacked/ocean_hgrid.nc\",\n",
    "    \"OM4p125\": f\"{pre}OM4p125/mosaic_c192_om4p125_bedmachine_v20210310_hydrographyKDunne20210614_unpacked/ocean_hgrid.nc\"\n",
    "}\n",
    "\n",
    "def get_pathDict(run, time=\"*\", snap=False):\n",
    "    pp = pp_dict[run]\n",
    "    return {\n",
    "        \"pp\": pp,\n",
    "        \"ppname\": f\"ocean_inert_month\",\n",
    "        \"out\": \"ts\",\n",
    "        \"local\": \"monthly/5yr\",\n",
    "        \"time\": time,\n",
    "        \"add\": \"*\"\n",
    "    }"
   ]
  },
  {
   "cell_type": "code",
   "execution_count": 5,
   "id": "3f6a37da-12e1-42ea-8d64-410a7af539b6",
   "metadata": {},
   "outputs": [],
   "source": [
    "tracers = ['cfc11', 'cfc12', 'sf6']\n",
    "g_per_mol = {\n",
    "    \"cfc11\": 137.37,\n",
    "    \"cfc12\": 120.91,\n",
    "    \"sf6\": 146.06\n",
    "}\n",
    "Gg_per_g = 1.e-9\n",
    "sec_per_year = 365.25 * 24 * 60 * 60\n",
    "sec_per_nsec = 1.e-9"
   ]
  },
  {
   "cell_type": "code",
   "execution_count": null,
   "id": "673fbffb-b707-4e1f-b753-906c3ffbbc02",
   "metadata": {},
   "outputs": [
    {
     "name": "stdout",
     "output_type": "stream",
     "text": [
      "Loading inert tracer diagnostics for CM4p25\n",
      "Computing globally-integrated inventory for CM4p25: \n",
      "cfc11, "
     ]
    }
   ],
   "source": [
    "data_dict = {}\n",
    "\n",
    "for model, exps in models.items():\n",
    "    print(f\"Loading inert tracer diagnostics for {model}\")\n",
    "    hist = gu.open_frompp(**get_pathDict(exps[\"historical\"]), chunks={'time':1})\n",
    "    ssp5 = gu.open_frompp(**get_pathDict(exps[\"ssp5\"]), chunks={'time':1})\n",
    "    ds = xr.concat([hist, ssp5], dim=\"time\", combine_attrs=\"override\")\n",
    "\n",
    "    path_dict = get_pathDict(exps[\"historical\"])\n",
    "    og = xr.open_dataset(gu.get_pathstatic(path_dict[\"pp\"], path_dict[\"ppname\"]))\n",
    "    \n",
    "    inv_path = f\"../data/transient_tracer_inventory_{model}-SSP585.nc\"\n",
    "    if not(os.path.exists(inv_path)):\n",
    "        print(f\"Computing globally-integrated inventory for {model}: \")\n",
    "        inv = xr.Dataset()\n",
    "        for tr in tracers:\n",
    "            print(tr, end=\", \")\n",
    "            inv[f'{tr}_volumeint'] = (ds[tr]*ds['volcello']).sum(['xh', 'yh', 'zl']).compute()\n",
    "            \n",
    "            timax = inv[f'{tr}_volumeint'].argmax()\n",
    "            inv[f'fg{tr}_sink'] = ds[f'fg{tr}'].isel(time=slice(0, timax)).sum('time')\n",
    "            inv[f'fg{tr}_source'] = ds[f'fg{tr}'].isel(time=slice(timax, None)).sum('time')\n",
    "            \n",
    "            inv[f'fg{tr}_areaint_NH'] = (ds[f'fg{tr}']*og['areacello'].where(og['geolat']>=0)).sum(['xh', 'yh']).compute()\n",
    "            inv[f'fg{tr}_areaint_SH'] = (ds[f'fg{tr}']*og['areacello'].where(og['geolat']<0)).sum(['xh', 'yh']).compute()\n",
    "            inv[f'fg{tr}_areaint'] = inv[f'fg{tr}_areaint_SH'] + inv[f'fg{tr}_areaint_NH']\n",
    "            \n",
    "            Δt = ds['average_DT'].astype(\"float64\")*sec_per_nsec\n",
    "            inv[f'fg{tr}_areatimeint'] = (inv[f'fg{tr}_areaint']*Δt).cumsum(\"time\").compute()\n",
    "        print(\"\")\n",
    "        inv.to_netcdf(inv_path)\n",
    "    else:\n",
    "        print(f\"Loading globally-integrated inventory for {model}.\")\n",
    "        inv = xr.open_dataset(inv_path)\n",
    "        \n",
    "    data_dict[model] = {\"ds\":ds, \"og\":og, \"inv\":inv}"
   ]
  },
  {
   "cell_type": "code",
   "execution_count": null,
   "id": "4e388d2e-ba4e-43fc-92e9-f8c799d3b03c",
   "metadata": {},
   "outputs": [],
   "source": [
    "1+1"
   ]
  },
  {
   "cell_type": "code",
   "execution_count": null,
   "id": "2e0aa0ad-afce-45ee-a1fd-ae294d256540",
   "metadata": {},
   "outputs": [],
   "source": []
  }
 ],
 "metadata": {
  "kernelspec": {
   "display_name": "Python 3 (ipykernel)",
   "language": "python",
   "name": "python3"
  },
  "language_info": {
   "codemirror_mode": {
    "name": "ipython",
    "version": 3
   },
   "file_extension": ".py",
   "mimetype": "text/x-python",
   "name": "python",
   "nbconvert_exporter": "python",
   "pygments_lexer": "ipython3",
   "version": "3.10.6"
  }
 },
 "nbformat": 4,
 "nbformat_minor": 5
}
