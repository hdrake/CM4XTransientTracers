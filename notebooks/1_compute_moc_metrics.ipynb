{
 "cells": [
  {
   "cell_type": "code",
   "execution_count": 1,
   "id": "a8a9e802-6b85-4df8-8048-02a8dfbd4157",
   "metadata": {},
   "outputs": [],
   "source": [
    "%load_ext autoreload\n",
    "%autoreload 2"
   ]
  },
  {
   "cell_type": "code",
   "execution_count": 2,
   "id": "ded91706-36f3-493f-9942-82732c80b9d0",
   "metadata": {},
   "outputs": [],
   "source": [
    "import CM4Xutils\n",
    "import xarray as xr\n",
    "import numpy as np"
   ]
  },
  {
   "cell_type": "code",
   "execution_count": 3,
   "id": "f15a6e7d-8ee6-4622-acd3-2caf89662843",
   "metadata": {},
   "outputs": [],
   "source": [
    "def load_and_preprocess_msftyrho():\n",
    "    moc_dict = {\"piControl\":None, \"ssp585\":None}\n",
    "    times = {\"piControl\": \"010*01\", \"ssp585\": \"209*01\"}\n",
    "    ppname = \"ocean_month_rho2_refined\"\n",
    "    \n",
    "    for e in moc_dict.keys():\n",
    "        # Load datasets\n",
    "        pp = CM4Xutils.pp_dict[\"CM4Xp125\"][e]\n",
    "        filepaths = f\"{pp}/{ppname}/ts/monthly/5yr/{ppname}*{times[e]}*\"\n",
    "        ds = xr.open_mfdataset(filepaths, use_cftime=True)\n",
    "        og = xr.open_dataset(f\"{pp}/{ppname}/{ppname}.static.nc\")\n",
    "        og = og.assign_coords({\"yq\":ds.yq})\n",
    "\n",
    "        ds = ds.assign_coords({k:og[k] for k in og.data_vars})\n",
    "        moc_dict[e] = ds.isel(basin=2).mean(\"time\").compute()\n",
    "\n",
    "    return moc_dict"
   ]
  },
  {
   "cell_type": "code",
   "execution_count": 4,
   "id": "f7bafd35-edc8-4491-ab0b-8a7a78991584",
   "metadata": {},
   "outputs": [
    {
     "name": "stderr",
     "output_type": "stream",
     "text": [
      "/work/hfd/.conda/envs/CM4X/lib/python3.12/site-packages/xarray/conventions.py:286: SerializationWarning: variable 'msftyrho' has multiple fill values {1e+20, 1e+20} defined, decoding all values to NaN.\n",
      "  var = coder.decode(var, name=name)\n",
      "/work/hfd/.conda/envs/CM4X/lib/python3.12/site-packages/xarray/conventions.py:286: SerializationWarning: variable 'msftyrho' has multiple fill values {1e+20, 1e+20} defined, decoding all values to NaN.\n",
      "  var = coder.decode(var, name=name)\n",
      "/work/hfd/.conda/envs/CM4X/lib/python3.12/site-packages/xarray/conventions.py:286: SerializationWarning: variable 'msftyrho' has multiple fill values {1e+20, 1e+20} defined, decoding all values to NaN.\n",
      "  var = coder.decode(var, name=name)\n",
      "/work/hfd/.conda/envs/CM4X/lib/python3.12/site-packages/xarray/conventions.py:286: SerializationWarning: variable 'msftyrho' has multiple fill values {1e+20, 1e+20} defined, decoding all values to NaN.\n",
      "  var = coder.decode(var, name=name)\n"
     ]
    }
   ],
   "source": [
    "moc_dict = load_and_preprocess_msftyrho()"
   ]
  },
  {
   "cell_type": "code",
   "execution_count": 5,
   "id": "5bfdd1b5-25d1-49d0-aa6f-3cd66490c2e1",
   "metadata": {},
   "outputs": [],
   "source": [
    "def diagnose_moc_metrics(moc):\n",
    "    moc_metrics = xr.Dataset(coords={\"geolat_v\": moc.geolat_v.mean(\"xh\")})\n",
    "\n",
    "    moc_metrics[\"moc_timemean\"] = moc.msftyrho\n",
    "    moc_metrics.moc_timemean.attrs = {\n",
    "        \"long_name\": \"Mean residual overturning (msftyrho) over piControl years 101-110\",\n",
    "        \"units\": \"kg/s\"\n",
    "    }\n",
    "    moc_metrics[\"moc_timemean_lowlat\"] = moc.msftyrho.where((-20 <= moc_metrics.geolat_v) & (moc_metrics.geolat_v <= 20)).mean(\"yq\")\n",
    "    moc_metrics.moc_timemean_lowlat.attrs = {\n",
    "        \"long_name\": \"Mean residual overturning (msftyrho) between 20ºS and 20ºN over piControl years 101-110\",\n",
    "        \"units\": \"kg/s\"\n",
    "    }\n",
    "    \n",
    "    amoc = moc_metrics.moc_timemean_lowlat.max()\n",
    "    moc_metrics[\"rho2_i_amoc\"] = moc_metrics.moc_timemean_lowlat.idxmax()\n",
    "    moc_metrics.rho2_i_amoc.attrs = {\n",
    "        \"long_name\": \"potential density of the maximum AMOC, defined as the maximum of the `moc_timemean_lowlat` variable\",\n",
    "        \"units\": \"kg/m^3\"\n",
    "    }\n",
    "    \n",
    "    smoc = moc_metrics.moc_timemean_lowlat.sel(rho2_i=slice(moc_metrics.rho2_i_amoc, None)).min()\n",
    "    moc_metrics[\"rho2_i_smoc\"] = moc_metrics.moc_timemean_lowlat.sel(\n",
    "        rho2_i=slice(moc_metrics.rho2_i_amoc, None)\n",
    "    ).idxmin()\n",
    "    moc_metrics.rho2_i_smoc.attrs = {\n",
    "        \"long_name\": \"potential density of minimum SMOC, defined as the minimum of the `moc_timemean_lowlat` variable for potential densities larger than `rho2_i_amoc`\",\n",
    "        \"units\": \"kg/m^3\"\n",
    "    }\n",
    "\n",
    "    moc_metrics[\"rho2_i_interface\"] = np.abs(moc_metrics.moc_timemean_lowlat.sel(\n",
    "        rho2_i=slice(moc_metrics.rho2_i_amoc, moc_metrics.rho2_i_smoc)\n",
    "    )).idxmin()\n",
    "    moc_metrics.rho2_i_interface.attrs = {\n",
    "        \"long_name\": \"potential density of interface between the AMOC and SMOC cells, defined as the minimum absolute value of the `moc_timemean_lowlat` variable for potential densities between `rho2_i_amoc` and `rho2_i_smoc`\",\n",
    "        \"units\": \"kg/m^3\"\n",
    "    }\n",
    "\n",
    "    moc_metrics = moc_metrics.assign_coords(\n",
    "        {\"rho2_moc_i\": xr.DataArray(\n",
    "            np.array([\n",
    "                990.,\n",
    "                moc_metrics.rho2_i_amoc,\n",
    "                moc_metrics.rho2_i_interface,\n",
    "                moc_metrics.rho2_i_smoc,\n",
    "                1060.\n",
    "            ]),\n",
    "            dims=(\"rho2_moc_i\",)\n",
    "        )}\n",
    "    )\n",
    "\n",
    "    return moc_metrics"
   ]
  },
  {
   "cell_type": "code",
   "execution_count": 6,
   "id": "ace339f4-c67b-41dd-a32a-ba805505325a",
   "metadata": {},
   "outputs": [],
   "source": [
    "for e in moc_dict.keys():\n",
    "    moc_metrics = diagnose_moc_metrics(moc_dict[e])\n",
    "    moc_metrics.to_netcdf(f\"../data/processed/moc_metrics_{e}.nc\")\n",
    "    moc_metrics.close()"
   ]
  },
  {
   "cell_type": "code",
   "execution_count": null,
   "id": "786d42a1-6961-4af1-a5b3-96d733d9a99f",
   "metadata": {},
   "outputs": [],
   "source": []
  }
 ],
 "metadata": {
  "kernelspec": {
   "display_name": "Python 3 (ipykernel)",
   "language": "python",
   "name": "python3"
  },
  "language_info": {
   "codemirror_mode": {
    "name": "ipython",
    "version": 3
   },
   "file_extension": ".py",
   "mimetype": "text/x-python",
   "name": "python",
   "nbconvert_exporter": "python",
   "pygments_lexer": "ipython3",
   "version": "3.12.3"
  }
 },
 "nbformat": 4,
 "nbformat_minor": 5
}
