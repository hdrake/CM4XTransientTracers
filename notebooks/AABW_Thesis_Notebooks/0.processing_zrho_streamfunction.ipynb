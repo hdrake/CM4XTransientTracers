{
 "cells": [
  {
   "cell_type": "code",
   "execution_count": 1,
   "id": "fef38425-241d-4f70-880a-9f4cdee2ca22",
   "metadata": {},
   "outputs": [],
   "source": [
    "%load_ext autoreload\n",
    "%autoreload 2"
   ]
  },
  {
   "cell_type": "code",
   "execution_count": 2,
   "id": "1344ba68-cd49-4ab1-b0a2-5e54b05a5a63",
   "metadata": {},
   "outputs": [
    {
     "name": "stdout",
     "output_type": "stream",
     "text": [
      "Sectionate version: 0.2.2\n",
      "xgcm version 0.8.2.dev52+g5398098 \n",
      "regionate version 0.3.3 \n",
      "xwmt version 0.1.0 \n",
      "xwmb version 0.3.0\n"
     ]
    }
   ],
   "source": [
    "import warnings\n",
    "import matplotlib.pyplot as plt\n",
    "import numpy as np\n",
    "import xarray as xr\n",
    "import xbudget\n",
    "import regionate\n",
    "import xwmt\n",
    "import xwmb\n",
    "import xgcm\n",
    "import cartopy.crs as ccrs\n",
    "import CM4Xutils #needed to run: pip install nc-time-axis\n",
    "from regionate import MaskRegions, GriddedRegion\n",
    "import seaborn as sns\n",
    "import sys\n",
    "import matplotlib.ticker as mticker\n",
    "import sectionate\n",
    "from dask_jobqueue import SLURMCluster  # setup dask cluster \n",
    "from dask.distributed import Client\n",
    "import glob\n",
    "import cmocean.cm as cmo\n",
    "sys.path.insert(0, '/vortexfs1/home/anthony.meza/scratch/CM4XTransientTracers/src')\n",
    "from src import *\n",
    "sns.set_style(\"darkgrid\")\n",
    "\n",
    "print(f\"Sectionate version: {sectionate.__version__}\")\n",
    "print('xgcm version', xgcm.__version__, '\\nregionate version', regionate.__version__, '\\nxwmt version', xwmt.__version__, '\\nxwmb version', xwmb.__version__)"
   ]
  },
  {
   "cell_type": "code",
   "execution_count": 3,
   "id": "bdb34a3b-c361-4f9b-adde-1180c519322e",
   "metadata": {},
   "outputs": [],
   "source": [
    "datadir = lambda x=\"\" : \"/vortexfs1/home/anthony.meza/scratch/CM4XTransientTracers/data/model/budgets_sigma2_1p5/\" + x\n",
    "datafiles = glob.glob(datadir(\"CM4Xp125*\"))[20:]\n",
    "datafiles = sorted(datafiles)"
   ]
  },
  {
   "cell_type": "code",
   "execution_count": 4,
   "id": "91fdf87a-127e-4acd-b2e6-295c48d1fb58",
   "metadata": {},
   "outputs": [
    {
     "name": "stdout",
     "output_type": "stream",
     "text": [
      "#!/usr/bin/env bash\n",
      "\n",
      "#SBATCH -J dask-worker\n",
      "#SBATCH -e /vortexfs1/home/anthony.meza/scratch/CM4X/CM4XTransientTracers/WaterMassBudgets/logs/dask-worker-%J.err\n",
      "#SBATCH -o /vortexfs1/home/anthony.meza/scratch/CM4X/CM4XTransientTracers/WaterMassBudgets/logs/dask-worker-%J.out\n",
      "#SBATCH -p compute\n",
      "#SBATCH -n 1\n",
      "#SBATCH --cpus-per-task=36\n",
      "#SBATCH --mem=70G\n",
      "#SBATCH -t 03:00:00\n",
      "\n",
      "/vortexfs1/home/anthony.meza/miniforge3/envs/cm4x_analysis/bin/python -m distributed.cli.dask_worker tcp://172.16.3.96:43522 --name dummy-name --nthreads 36 --memory-limit 69.85GiB --nanny --death-timeout 60 --interface ib0\n",
      "\n"
     ]
    },
    {
     "data": {
      "text/html": [
       "<div>\n",
       "    <div style=\"width: 24px; height: 24px; background-color: #e1e1e1; border: 3px solid #9D9D9D; border-radius: 5px; position: absolute;\"> </div>\n",
       "    <div style=\"margin-left: 48px;\">\n",
       "        <h3 style=\"margin-bottom: 0px;\">Client</h3>\n",
       "        <p style=\"color: #9D9D9D; margin-bottom: 0px;\">Client-574f2892-61b3-11f0-879d-3cfdfe55a040</p>\n",
       "        <table style=\"width: 100%; text-align: left;\">\n",
       "\n",
       "        <tr>\n",
       "        \n",
       "            <td style=\"text-align: left;\"><strong>Connection method:</strong> Cluster object</td>\n",
       "            <td style=\"text-align: left;\"><strong>Cluster type:</strong> dask_jobqueue.SLURMCluster</td>\n",
       "        \n",
       "        </tr>\n",
       "\n",
       "        \n",
       "            <tr>\n",
       "                <td style=\"text-align: left;\">\n",
       "                    <strong>Dashboard: </strong> <a href=\"/proxy/8787/status\" target=\"_blank\">/proxy/8787/status</a>\n",
       "                </td>\n",
       "                <td style=\"text-align: left;\"></td>\n",
       "            </tr>\n",
       "        \n",
       "\n",
       "        </table>\n",
       "\n",
       "        \n",
       "            <button style=\"margin-bottom: 12px;\" data-commandlinker-command=\"dask:populate-and-launch-layout\" data-commandlinker-args='{\"url\": \"/proxy/8787/status\" }'>\n",
       "                Launch dashboard in JupyterLab\n",
       "            </button>\n",
       "        \n",
       "\n",
       "        \n",
       "            <details>\n",
       "            <summary style=\"margin-bottom: 20px;\"><h3 style=\"display: inline;\">Cluster Info</h3></summary>\n",
       "            <div class=\"jp-RenderedHTMLCommon jp-RenderedHTML jp-mod-trusted jp-OutputArea-output\">\n",
       "    <div style=\"width: 24px; height: 24px; background-color: #e1e1e1; border: 3px solid #9D9D9D; border-radius: 5px; position: absolute;\">\n",
       "    </div>\n",
       "    <div style=\"margin-left: 48px;\">\n",
       "        <h3 style=\"margin-bottom: 0px; margin-top: 0px;\">SLURMCluster</h3>\n",
       "        <p style=\"color: #9D9D9D; margin-bottom: 0px;\">2f456c20</p>\n",
       "        <table style=\"width: 100%; text-align: left;\">\n",
       "            <tr>\n",
       "                <td style=\"text-align: left;\">\n",
       "                    <strong>Dashboard:</strong> <a href=\"/proxy/8787/status\" target=\"_blank\">/proxy/8787/status</a>\n",
       "                </td>\n",
       "                <td style=\"text-align: left;\">\n",
       "                    <strong>Workers:</strong> 0\n",
       "                </td>\n",
       "            </tr>\n",
       "            <tr>\n",
       "                <td style=\"text-align: left;\">\n",
       "                    <strong>Total threads:</strong> 0\n",
       "                </td>\n",
       "                <td style=\"text-align: left;\">\n",
       "                    <strong>Total memory:</strong> 0 B\n",
       "                </td>\n",
       "            </tr>\n",
       "            \n",
       "        </table>\n",
       "\n",
       "        <details>\n",
       "            <summary style=\"margin-bottom: 20px;\">\n",
       "                <h3 style=\"display: inline;\">Scheduler Info</h3>\n",
       "            </summary>\n",
       "\n",
       "            <div style=\"\">\n",
       "    <div>\n",
       "        <div style=\"width: 24px; height: 24px; background-color: #FFF7E5; border: 3px solid #FF6132; border-radius: 5px; position: absolute;\"> </div>\n",
       "        <div style=\"margin-left: 48px;\">\n",
       "            <h3 style=\"margin-bottom: 0px;\">Scheduler</h3>\n",
       "            <p style=\"color: #9D9D9D; margin-bottom: 0px;\">Scheduler-e8e41201-b668-496e-9d81-ddc0f52722b4</p>\n",
       "            <table style=\"width: 100%; text-align: left;\">\n",
       "                <tr>\n",
       "                    <td style=\"text-align: left;\">\n",
       "                        <strong>Comm:</strong> tcp://172.16.3.96:43522\n",
       "                    </td>\n",
       "                    <td style=\"text-align: left;\">\n",
       "                        <strong>Workers:</strong> 0\n",
       "                    </td>\n",
       "                </tr>\n",
       "                <tr>\n",
       "                    <td style=\"text-align: left;\">\n",
       "                        <strong>Dashboard:</strong> <a href=\"/proxy/8787/status\" target=\"_blank\">/proxy/8787/status</a>\n",
       "                    </td>\n",
       "                    <td style=\"text-align: left;\">\n",
       "                        <strong>Total threads:</strong> 0\n",
       "                    </td>\n",
       "                </tr>\n",
       "                <tr>\n",
       "                    <td style=\"text-align: left;\">\n",
       "                        <strong>Started:</strong> Just now\n",
       "                    </td>\n",
       "                    <td style=\"text-align: left;\">\n",
       "                        <strong>Total memory:</strong> 0 B\n",
       "                    </td>\n",
       "                </tr>\n",
       "            </table>\n",
       "        </div>\n",
       "    </div>\n",
       "\n",
       "    <details style=\"margin-left: 48px;\">\n",
       "        <summary style=\"margin-bottom: 20px;\">\n",
       "            <h3 style=\"display: inline;\">Workers</h3>\n",
       "        </summary>\n",
       "\n",
       "        \n",
       "\n",
       "    </details>\n",
       "</div>\n",
       "\n",
       "        </details>\n",
       "    </div>\n",
       "</div>\n",
       "            </details>\n",
       "        \n",
       "\n",
       "    </div>\n",
       "</div>"
      ],
      "text/plain": [
       "<Client: 'tcp://172.16.3.96:43522' processes=0 threads=0, memory=0 B>"
      ]
     },
     "execution_count": 4,
     "metadata": {},
     "output_type": "execute_result"
    }
   ],
   "source": [
    "from dask_jobqueue import SLURMCluster  # setup dask cluster \n",
    "from dask.distributed import Client\n",
    "\n",
    "log_directory=\"/vortexfs1/home/anthony.meza/scratch/CM4X/CM4XTransientTracers/WaterMassBudgets/logs\"\n",
    "\n",
    "cluster = SLURMCluster(\n",
    "    cores=36,\n",
    "    processes=1,\n",
    "    memory='75GB',\n",
    "    walltime='03:00:00',\n",
    "    queue='compute',\n",
    "    interface='ib0', \n",
    "log_directory = log_directory)\n",
    "print(cluster.job_script())\n",
    "cluster.scale(jobs=6)\n",
    "\n",
    "client = Client(cluster)\n",
    "client"
   ]
  },
  {
   "cell_type": "code",
   "execution_count": 5,
   "id": "fd4857dd-668b-4839-9174-e327133abeca",
   "metadata": {},
   "outputs": [],
   "source": [
    "def get_transports(ds):\n",
    "    ds_sub = ds[[\"umo\", \"vmo\", \"thkcello\", \"sigma2_i\", \"zos\"]]\n",
    "\n",
    "    return ds_sub\n",
    "    \n",
    "datadir = lambda x=\"\" : \"/vortexfs1/home/anthony.meza/scratch/CM4XTransientTracers/data/\" + x\n",
    "ds = xr.open_mfdataset(\n",
    "        datafiles,\n",
    "        data_vars=\"minimal\",\n",
    "        coords=\"minimal\",\n",
    "        compat=\"override\",\n",
    "        parallel=True,\n",
    "        preprocess = get_transports, \n",
    "        engine=\"zarr\")\n",
    "ds[\"z\"] = approximate_z_top_down(ds, dim = \"sigma2\")\n",
    "ds = ds[[\"vmo\", \"z\", \"sigma2_i\"]]\n",
    "ds[\"z\"] = ds[\"z\"].sel(time = slice(\"1980\", \"2010\")).mean(\"time\").compute()\n",
    "\n",
    "grid = CM4Xutils.ds_to_grid(ds, Zprefix = \"sigma2\")"
   ]
  },
  {
   "cell_type": "code",
   "execution_count": 7,
   "id": "e3873147-ced1-474b-a92d-061ed373fb92",
   "metadata": {},
   "outputs": [],
   "source": [
    "div_v = grid.diff(ds[\"vmo\"].fillna(0.0), axis = \"Y\", boundary = \"fill\").fillna(0.0)"
   ]
  },
  {
   "cell_type": "code",
   "execution_count": 8,
   "id": "3c09181d-bac3-43c4-8f30-b6d31d8700aa",
   "metadata": {},
   "outputs": [
    {
     "name": "stderr",
     "output_type": "stream",
     "text": [
      "Computing ψ by latitude: 100%|██████████| 107/107 [00:13<00:00,  7.83it/s]\n",
      "Computing z by latitude: 100%|██████████| 107/107 [00:11<00:00,  9.07it/s]\n"
     ]
    }
   ],
   "source": [
    "lats = np.arange(-80, 80, 1.5)\n",
    "psi = meridional_streamfunction(grid, lats, div_v = div_v)"
   ]
  },
  {
   "cell_type": "code",
   "execution_count": 14,
   "id": "62ecdb35-db57-4b3b-b3ab-cd261b480fb7",
   "metadata": {},
   "outputs": [
    {
     "data": {
      "text/plain": [
       "Text(0.5, 1.0, 'Global Meridional Streamfunction')"
      ]
     },
     "execution_count": 14,
     "metadata": {},
     "output_type": "execute_result"
    },
    {
     "data": {
      "image/png": "[encoded data removed]",
      "text/plain": [
       "<Figure size 1300x400 with 2 Axes>"
      ]
     },
     "metadata": {},
     "output_type": "display_data"
    }
   ],
   "source": [
    "#define streamfunction levels\n",
    "levels = [-42, -38, -34, -30, -26, -22, -18, -14, -10, -6, -2, \n",
    "           0,   2,   6,  10,  14,  18,  22,  26,  30,  34,  38,  42]\n",
    "\n",
    "#select experiment \n",
    "exp = \"control\"\n",
    "\n",
    "# create one figure with two subplots\n",
    "fig, ax = plt.subplots(figsize=(13, 4), sharey=True)\n",
    "\n",
    "# first subplot: depth\n",
    "p1 = psi[\"psi\"].sel(exp=exp).plot.contourf(\n",
    "    ax=ax, x=\"geolat\", y=\"depth\", levels=levels,\n",
    "    add_colorbar=False, cmap='RdBu_r', extend = \"both\"\n",
    ")\n",
    "c1 = fig.colorbar(p1, ax=ax, pad=0.01, spacing='uniform',\n",
    "                  extend='both', shrink=0.95, orientation='vertical')\n",
    "c1.set_ticks(levels)\n",
    "c1.ax.tick_params(labelsize=10)\n",
    "ax.set_facecolor('gray')\n",
    "ax.set_xlim(-75, 75) #required for some reason \n",
    "ax.set_ylim(-5000, 0) #required for some reason \n",
    "# ax.invert_yaxis()\n",
    "ax.set_title(\"Global Meridional Streamfunction\")"
   ]
  },
  {
   "cell_type": "code",
   "execution_count": null,
   "id": "14f92f61-5ff8-4447-a60e-62df64881d91",
   "metadata": {},
   "outputs": [],
   "source": []
  }
 ],
 "metadata": {
  "kernelspec": {
   "display_name": "Python 3 (ipykernel)",
   "language": "python",
   "name": "python3"
  },
  "language_info": {
   "codemirror_mode": {
    "name": "ipython",
    "version": 3
   },
   "file_extension": ".py",
   "mimetype": "text/x-python",
   "name": "python",
   "nbconvert_exporter": "python",
   "pygments_lexer": "ipython3",
   "version": "3.12.4"
  }
 },
 "nbformat": 4,
 "nbformat_minor": 5
}
