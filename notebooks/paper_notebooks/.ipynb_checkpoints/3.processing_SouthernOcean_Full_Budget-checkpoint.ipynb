{
 "cells": [
  {
   "cell_type": "code",
   "execution_count": null,
   "id": "fef38425-241d-4f70-880a-9f4cdee2ca22",
   "metadata": {},
   "outputs": [],
   "source": [
    "%load_ext autoreload\n",
    "%autoreload 2"
   ]
  },
  {
   "cell_type": "code",
   "execution_count": null,
   "id": "e2e0ae96-754b-453c-bc47-d7b4255b92b2",
   "metadata": {},
   "outputs": [],
   "source": [
    "import warnings\n",
    "import matplotlib.pyplot as plt"
   ]
  },
  {
   "cell_type": "code",
   "execution_count": null,
   "id": "1344ba68-cd49-4ab1-b0a2-5e54b05a5a63",
   "metadata": {},
   "outputs": [],
   "source": [
    "import numpy as np\n",
    "import glob\n",
    "import xarray as xr\n",
    "import xbudget\n",
    "import regionate\n",
    "import xwmt\n",
    "import xwmb\n",
    "import xgcm\n",
    "import cartopy.crs as ccrs\n",
    "import CM4Xutils #needed to run pip install nc-time-axis\n",
    "from regionate import MaskRegions, GriddedRegion"
   ]
  },
  {
   "cell_type": "code",
   "execution_count": null,
   "id": "e11482ed-e75c-4c25-9988-9344dd04460c",
   "metadata": {},
   "outputs": [],
   "source": [
    "print('xgcm version', xgcm.__version__, '\\nregionate version', regionate.__version__, '\\nxwmt version', xwmt.__version__, '\\nxwmb version', xwmb.__version__)"
   ]
  },
  {
   "cell_type": "markdown",
   "id": "a46f6332-4dc9-4a45-8514-4ea0a994cb02",
   "metadata": {},
   "source": [
    "### Request HPC Resources"
   ]
  },
  {
   "cell_type": "code",
   "execution_count": null,
   "id": "30250de5-1ed4-4a27-af61-2457b1eac6bc",
   "metadata": {},
   "outputs": [],
   "source": [
    "from dask_jobqueue import SLURMCluster  # setup dask cluster \n",
    "from dask.distributed import Client\n",
    "\n",
    "log_directory=\"/vortexfs1/home/anthony.meza/scratch/CM4X/CM4XTransientTracers/WaterMassBudgets/logs\"\n",
    "\n",
    "cluster = SLURMCluster(\n",
    "    cores=36,\n",
    "    processes=1,\n",
    "    memory='190GB',\n",
    "    walltime='02:00:00',\n",
    "    queue='compute',\n",
    "    interface='ib0', \n",
    "log_directory = log_directory)\n",
    "print(cluster.job_script())\n",
    "cluster.scale(jobs=4)\n",
    "\n",
    "client = Client(cluster)\n",
    "client"
   ]
  },
  {
   "cell_type": "markdown",
   "id": "158f9eff-ddad-4e01-b33c-52f33858da46",
   "metadata": {},
   "source": [
    "### Load in data"
   ]
  },
  {
   "cell_type": "code",
   "execution_count": null,
   "id": "1f751650-c1f2-4bee-b9db-8bc16d15ff2c",
   "metadata": {},
   "outputs": [],
   "source": [
    "# Key water mass transformation budget terms\n",
    "\n",
    "budget_terms = ['Eulerian_tendency', 'advection', 'diffusion', \n",
    "            'boundary_fluxes', 'convergent_mass_transport', \n",
    "           'mass_tendency', 'mass_source', 'spurious_numerical_mixing', \n",
    "           \"surface_exchange_flux\", \"bottom_flux\", \"frazil_ice\", \n",
    "            \"surface_ocean_flux_advective_negative_rhs\"]\n",
    "\n",
    "other_budget_terms = [\"surface_ocean_flux_advective_negative_rhs_heat\", \n",
    "                     \"surface_ocean_flux_advective_negative_rhs_salt\", \n",
    "                     \"surface_exchange_flux_heat\", \n",
    "                     \"surface_exchange_flux_salt\", \n",
    "                     \"frazil_ice_heat\", \n",
    "                     \"bottom_flux_heat\",\n",
    "                     \"boundary_fluxes\", \n",
    "                     \"mass_tendency\", \n",
    "                     \"diffusion_heat\", \n",
    "                     \"diffusion_salt\",\n",
    "                     \"spurious_numerical_mixing\",\n",
    "                     \"convergent_mass_transport\"]\n",
    "budget_terms= sorted(list(set(budget_terms) | set(other_budget_terms)))"
   ]
  },
  {
   "cell_type": "code",
   "execution_count": null,
   "id": "9ea1345e-79d8-4ec5-ac83-0cfa847698a3",
   "metadata": {},
   "outputs": [],
   "source": [
    "decomp_budget_terms = [\"surface_exchange_flux_advective_evaporation_salt\", \n",
    "                    \"surface_exchange_flux_advective_rain_and_ice_salt\",\n",
    "                    \"surface_exchange_flux_advective_snow_salt\",\n",
    "                    \"surface_exchange_flux_advective_rivers_salt\", \n",
    "                    \"surface_exchange_flux_advective_icebergs_salt\",\n",
    "                    \"surface_exchange_flux_advective_virtual_precip_restoring_salt\",\n",
    "                    \"surface_exchange_flux_advective_sea_ice_salt\",\n",
    "                    \"surface_exchange_flux_nonadvective_longwave_heat\", \n",
    "                    \"surface_exchange_flux_nonadvective_shortwave_heat\",\n",
    "                    \"surface_exchange_flux_nonadvective_sensible_heat\",\n",
    "                    \"surface_exchange_flux_nonadvective_latent_heat\", \n",
    "                    \"surface_exchange_flux_advective_mass_transfer_heat\"]"
   ]
  },
  {
   "cell_type": "code",
   "execution_count": null,
   "id": "a2787a52-9019-4ddd-9460-9ff72cd6ba3e",
   "metadata": {
    "scrolled": true
   },
   "outputs": [],
   "source": [
    "datadir = lambda x=\"\" : \"/vortexfs1/home/anthony.meza/scratch/CM4XTransientTracers/data/model/budgets_sigma2/\" + x\n",
    "datafiles = glob.glob(datadir(\"CM4Xp125*\"))[20:]\n",
    "datafiles = sorted(datafiles)\n",
    "\n",
    "wmts = []\n",
    "\n",
    "for (t, file) in enumerate(datafiles): \n",
    "    print(file)\n",
    "    ds = xr.open_mfdataset(\n",
    "        file,\n",
    "        data_vars=\"minimal\",\n",
    "        coords=\"minimal\",\n",
    "        compat=\"override\",\n",
    "        parallel=True,\n",
    "        engine=\"zarr\")\n",
    "    ds = ds.fillna(0.)\n",
    "\n",
    "    ds['mask'] = (ds['geolat'] <= -40)\n",
    "\n",
    "\n",
    "    grid = CM4Xutils.ds_to_grid(ds, Zprefix = \"sigma2\")\n",
    "    grid._ds = grid._ds.assign_coords({\n",
    "        \"sigma2_l_target\": grid._ds['sigma2_l'].rename({\"sigma2_l\":\"sigma2_l_target\"}),\n",
    "        \"sigma2_i_target\": grid._ds['sigma2_i'].rename({\"sigma2_i\":\"sigma2_i_target\"}),\n",
    "    })\n",
    "    grid = xwmt.add_gridcoords(\n",
    "        grid,\n",
    "        {\"Z_target\": {\"center\": \"sigma2_l_target\", \"outer\": \"sigma2_i_target\"}},\n",
    "        {\"Z_target\": \"extend\"}\n",
    "    )\n",
    "    regions = MaskRegions(ds.mask, grid).region_dict\n",
    "    antarctic = regions[0] #there are more in this list if there are multiple contours \n",
    "    region = GriddedRegion(\"antarctic\", antarctic.lons, antarctic.lats, grid, \n",
    "                           ij=(antarctic.i, antarctic.j))\n",
    "    with warnings.catch_warnings():\n",
    "        warnings.simplefilter(action='ignore', category=FutureWarning)\n",
    "    \n",
    "        # budgets_dict = xbudget.load_preset_budget(model=\"MOM6_3Donly\")\n",
    "        budgets_dict = xbudget.load_yaml(datadir(\"../../MOM6_AABW.yaml\"))\n",
    "\n",
    "        xbudget.collect_budgets(grid, budgets_dict)\n",
    "        \n",
    "        wmb = xwmb.WaterMassBudget(\n",
    "            grid,\n",
    "            budgets_dict, \n",
    "            region\n",
    "        ) #if region not passed, the whole globe is taken\n",
    "        wmb.mass_budget(\"sigma2\", greater_than=True, default_bins=False, \n",
    "                        integrate=True, along_section=False)\n",
    "        \n",
    "        wmt = wmb.wmt[budget_terms].compute()\n",
    "        wmt = wmt.assign_coords({\"sigma2_i_target\": wmb.wmt[\"sigma2_i_target\"].compute()})\n",
    "\n",
    "        wmb_decomp = xwmb.WaterMassBudget(\n",
    "                grid,\n",
    "                budgets_dict, \n",
    "                region, \n",
    "                decompose=[\"surface_exchange_flux\", \"nonadvective\", \"advective\"]\n",
    "                ) #if region not passed, the whole globe is taken\n",
    "        wmb_decomp.mass_budget(\"sigma2\", greater_than=True, default_bins=False, \n",
    "                        integrate=True, along_section=False)\n",
    "        wmt_decomp = wmb_decomp.wmt[decomp_budget_terms].compute()\n",
    "        wmt_decomp = wmt_decomp.assign_coords({\"sigma2_i_target\": wmb_decomp.wmt[\"sigma2_i_target\"].compute()})\n",
    "\n",
    "        \n",
    "        wmts += [1 * xr.merge(1 * [wmt_decomp, wmt])]"
   ]
  },
  {
   "cell_type": "code",
   "execution_count": null,
   "id": "13c6a1b4-037d-4253-bf22-4b923b978ea4",
   "metadata": {},
   "outputs": [],
   "source": [
    "wmts_ds = xr.concat(wmts, dim = \"time\")\n",
    "savedir = \"/vortexfs1/home/anthony.meza/scratch/CM4XTransientTracers/data/model/\"\n",
    "wmts_ds.to_netcdf(savedir + \"Southern_Ocean_WMT_Budget.nc\")"
   ]
  },
  {
   "cell_type": "code",
   "execution_count": 16,
   "id": "54820195-2edf-430d-9e1e-c515276e02c9",
   "metadata": {},
   "outputs": [],
   "source": []
  }
 ],
 "metadata": {
  "kernelspec": {
   "display_name": "Python 3 (ipykernel)",
   "language": "python",
   "name": "python3"
  },
  "language_info": {
   "codemirror_mode": {
    "name": "ipython",
    "version": 3
   },
   "file_extension": ".py",
   "mimetype": "text/x-python",
   "name": "python",
   "nbconvert_exporter": "python",
   "pygments_lexer": "ipython3",
   "version": "3.12.4"
  }
 },
 "nbformat": 4,
 "nbformat_minor": 5
}
