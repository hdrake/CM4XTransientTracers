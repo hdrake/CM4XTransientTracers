{
 "cells": [
  {
   "cell_type": "code",
   "execution_count": 1,
   "id": "f1a20ada-ceb4-422f-896b-28f53c9403f9",
   "metadata": {
    "tags": []
   },
   "outputs": [],
   "source": [
    "import pandas as pd\n",
    "from cartopy import crs as ccrs\n",
    "import matplotlib.pyplot as plt\n",
    "import xarray as xr\n",
    "from xhistogram.xarray import histogram\n",
    "import numpy as np\n",
    "import gfdl_utils as gu\n",
    "import glob\n",
    "import re\n",
    "from scipy.interpolate import griddata\n",
    "import geopy\n",
    "import cmocean\n",
    "import gsw\n",
    "from geopy import distance\n",
    "import xesmf as xe\n",
    "import sectionate\n",
    "import sys\n",
    "sys.path.insert(0, '/vortexfs1/home/anthony.meza/scratch/CM4X/CM4XTransientTracers/src')\n",
    "from src import *"
   ]
  },
  {
   "cell_type": "code",
   "execution_count": 2,
   "id": "46a665f8-27cf-412d-866f-d280de96b6f8",
   "metadata": {
    "tags": []
   },
   "outputs": [],
   "source": [
    "plotsdir = lambda x=\"\" : \"/vortexfs1/home/anthony.meza/scratch/CM4X/CM4XTransientTracers/figures/\" + x\n",
    "datadir = lambda x=\"\" : \"/vortexfs1/home/anthony.meza/scratch/CM4X/CM4XTransientTracers/data/\" + x"
   ]
  },
  {
   "cell_type": "code",
   "execution_count": 3,
   "id": "f0aa635a-0e9b-4b39-8ad8-2a9515cfa6a9",
   "metadata": {
    "tags": []
   },
   "outputs": [],
   "source": [
    "def GLODAPP_LON_to_CM4X(lons):\n",
    "    lons_copy = 1 * lons \n",
    "    lons_copy[lons_copy > 60] -= 360\n",
    "    return lons_copy\n",
    "def CM4X_LON_to_GLODAPP(lons): \n",
    "    lons_copy = 1 * lons \n",
    "    lons_copy[(lons_copy > -300) * (lons_copy < -180)] +=360\n",
    "    return lons_copy\n",
    "\n",
    "def CM4X_to_reg_grid(ds): \n",
    "    xhcopy = 1 * ds.xh.values\n",
    "    xhcopy[(ds.xh > -300) * (ds.xh < -180)] += 360\n",
    "    \n",
    "    ds_copy = 1 * ds\n",
    "    ds_copy.coords['xh'] = 1 * xhcopy\n",
    "\n",
    "    return ds_copy.reindex({ \"xh\" : xhcopy})\n",
    "\n",
    "def read_CM4X(fname): \n",
    "    return xr.open_mfdataset(\n",
    "        fname,\n",
    "        data_vars=\"minimal\",\n",
    "        coords=\"minimal\",\n",
    "        compat=\"override\",\n",
    "        parallel=True,\n",
    "        chunks={\"latitude\":-1, \"longitude\":-1},\n",
    "        engine=\"zarr\")\n",
    "\n",
    "def compute_depth_average(ds, zmin, zmax): \n",
    "    return ds.sel(zl = slice(zmin, zmax)).mean(\"zl\")"
   ]
  },
  {
   "cell_type": "code",
   "execution_count": 4,
   "id": "bd9e937c-fcb6-414b-82e9-4f58cec6a5c2",
   "metadata": {
    "tags": []
   },
   "outputs": [
    {
     "name": "stdout",
     "output_type": "stream",
     "text": [
      "#!/usr/bin/env bash\n",
      "\n",
      "#SBATCH -J dask-worker\n",
      "#SBATCH -p compute\n",
      "#SBATCH -n 1\n",
      "#SBATCH --cpus-per-task=36\n",
      "#SBATCH --mem=140G\n",
      "#SBATCH -t 02:00:00\n",
      "\n",
      "/vortexfs1/home/anthony.meza/mambaforge/envs/atm_rivers/bin/python -m distributed.cli.dask_worker tcp://172.16.3.90:39092 --nthreads 36 --memory-limit 139.70GiB --name dummy-name --nanny --death-timeout 60 --interface ib0\n",
      "\n"
     ]
    },
    {
     "data": {
      "text/html": [
       "<div>\n",
       "    <div style=\"width: 24px; height: 24px; background-color: #e1e1e1; border: 3px solid #9D9D9D; border-radius: 5px; position: absolute;\"> </div>\n",
       "    <div style=\"margin-left: 48px;\">\n",
       "        <h3 style=\"margin-bottom: 0px;\">Client</h3>\n",
       "        <p style=\"color: #9D9D9D; margin-bottom: 0px;\">Client-25201690-fce2-11ee-b248-3cfdfe55fb40</p>\n",
       "        <table style=\"width: 100%; text-align: left;\">\n",
       "\n",
       "        <tr>\n",
       "        \n",
       "            <td style=\"text-align: left;\"><strong>Connection method:</strong> Cluster object</td>\n",
       "            <td style=\"text-align: left;\"><strong>Cluster type:</strong> dask_jobqueue.SLURMCluster</td>\n",
       "        \n",
       "        </tr>\n",
       "\n",
       "        \n",
       "            <tr>\n",
       "                <td style=\"text-align: left;\">\n",
       "                    <strong>Dashboard: </strong> <a href=\"/proxy/8787/status\" target=\"_blank\">/proxy/8787/status</a>\n",
       "                </td>\n",
       "                <td style=\"text-align: left;\"></td>\n",
       "            </tr>\n",
       "        \n",
       "\n",
       "        </table>\n",
       "\n",
       "        \n",
       "            <button style=\"margin-bottom: 12px;\" data-commandlinker-command=\"dask:populate-and-launch-layout\" data-commandlinker-args='{\"url\": \"/proxy/8787/status\" }'>\n",
       "                Launch dashboard in JupyterLab\n",
       "            </button>\n",
       "        \n",
       "\n",
       "        \n",
       "            <details>\n",
       "            <summary style=\"margin-bottom: 20px;\"><h3 style=\"display: inline;\">Cluster Info</h3></summary>\n",
       "            <div class=\"jp-RenderedHTMLCommon jp-RenderedHTML jp-mod-trusted jp-OutputArea-output\">\n",
       "    <div style=\"width: 24px; height: 24px; background-color: #e1e1e1; border: 3px solid #9D9D9D; border-radius: 5px; position: absolute;\">\n",
       "    </div>\n",
       "    <div style=\"margin-left: 48px;\">\n",
       "        <h3 style=\"margin-bottom: 0px; margin-top: 0px;\">SLURMCluster</h3>\n",
       "        <p style=\"color: #9D9D9D; margin-bottom: 0px;\">2a2abac8</p>\n",
       "        <table style=\"width: 100%; text-align: left;\">\n",
       "            <tr>\n",
       "                <td style=\"text-align: left;\">\n",
       "                    <strong>Dashboard:</strong> <a href=\"/proxy/8787/status\" target=\"_blank\">/proxy/8787/status</a>\n",
       "                </td>\n",
       "                <td style=\"text-align: left;\">\n",
       "                    <strong>Workers:</strong> 0\n",
       "                </td>\n",
       "            </tr>\n",
       "            <tr>\n",
       "                <td style=\"text-align: left;\">\n",
       "                    <strong>Total threads:</strong> 0\n",
       "                </td>\n",
       "                <td style=\"text-align: left;\">\n",
       "                    <strong>Total memory:</strong> 0 B\n",
       "                </td>\n",
       "            </tr>\n",
       "            \n",
       "        </table>\n",
       "\n",
       "        <details>\n",
       "            <summary style=\"margin-bottom: 20px;\">\n",
       "                <h3 style=\"display: inline;\">Scheduler Info</h3>\n",
       "            </summary>\n",
       "\n",
       "            <div style=\"\">\n",
       "    <div>\n",
       "        <div style=\"width: 24px; height: 24px; background-color: #FFF7E5; border: 3px solid #FF6132; border-radius: 5px; position: absolute;\"> </div>\n",
       "        <div style=\"margin-left: 48px;\">\n",
       "            <h3 style=\"margin-bottom: 0px;\">Scheduler</h3>\n",
       "            <p style=\"color: #9D9D9D; margin-bottom: 0px;\">Scheduler-fcb197e5-178f-474f-bd22-da6932e95629</p>\n",
       "            <table style=\"width: 100%; text-align: left;\">\n",
       "                <tr>\n",
       "                    <td style=\"text-align: left;\">\n",
       "                        <strong>Comm:</strong> tcp://172.16.3.90:39092\n",
       "                    </td>\n",
       "                    <td style=\"text-align: left;\">\n",
       "                        <strong>Workers:</strong> 0\n",
       "                    </td>\n",
       "                </tr>\n",
       "                <tr>\n",
       "                    <td style=\"text-align: left;\">\n",
       "                        <strong>Dashboard:</strong> <a href=\"/proxy/8787/status\" target=\"_blank\">/proxy/8787/status</a>\n",
       "                    </td>\n",
       "                    <td style=\"text-align: left;\">\n",
       "                        <strong>Total threads:</strong> 0\n",
       "                    </td>\n",
       "                </tr>\n",
       "                <tr>\n",
       "                    <td style=\"text-align: left;\">\n",
       "                        <strong>Started:</strong> Just now\n",
       "                    </td>\n",
       "                    <td style=\"text-align: left;\">\n",
       "                        <strong>Total memory:</strong> 0 B\n",
       "                    </td>\n",
       "                </tr>\n",
       "            </table>\n",
       "        </div>\n",
       "    </div>\n",
       "\n",
       "    <details style=\"margin-left: 48px;\">\n",
       "        <summary style=\"margin-bottom: 20px;\">\n",
       "            <h3 style=\"display: inline;\">Workers</h3>\n",
       "        </summary>\n",
       "\n",
       "        \n",
       "\n",
       "    </details>\n",
       "</div>\n",
       "\n",
       "        </details>\n",
       "    </div>\n",
       "</div>\n",
       "            </details>\n",
       "        \n",
       "\n",
       "    </div>\n",
       "</div>"
      ],
      "text/plain": [
       "<Client: 'tcp://172.16.3.90:39092' processes=0 threads=0, memory=0 B>"
      ]
     },
     "execution_count": 4,
     "metadata": {},
     "output_type": "execute_result"
    }
   ],
   "source": [
    "from dask_jobqueue import SLURMCluster  # setup dask cluster \n",
    "cluster = SLURMCluster(\n",
    "    cores=36,\n",
    "    processes=1,\n",
    "    memory='150GB',\n",
    "    walltime='02:00:00',\n",
    "    queue='compute',\n",
    "    interface='ib0')\n",
    "print(cluster.job_script())\n",
    "cluster.scale(jobs=16)\n",
    "from dask.distributed import Client\n",
    "client = Client(cluster)\n",
    "client"
   ]
  },
  {
   "cell_type": "code",
   "execution_count": 5,
   "id": "c1e9a90c-681c-470c-8627-efacb429bf62",
   "metadata": {
    "tags": []
   },
   "outputs": [],
   "source": [
    "# GLODAP:model variable naming conventions\n",
    "model2glodap_names = {'cfc12':'cfc12','cfc11':'cfc11','sf6':'sf6','thetao':'theta','so':'salinity'}\n",
    "variable_kwargs = {\n",
    "    'cfc12':{'conversion':1e12/1035,'cmap':'Greens','units':'pmolkg-1'},\n",
    "    'cfc11':{'conversion':1e12/1035,'cmap':'PuRd','units':'pmolkg-1'},\n",
    "    'sf6':{'conversion':1e12/1035 * 1e3,'cmap':'Blues','units':'fmolkg-1'},\n",
    "    'theta':{'conversion':1,'cmap':cmocean.cm.thermal,'units':'degK','bins':np.arange(-2,35,0.2),'anombins':np.arange(-4,4.05,0.05)},\n",
    "    'salinity':{'conversion':1,'cmap':cmocean.cm.haline,'units':'psu','bins':np.arange(32,37,0.05),'anombins':np.arange(-1,1.02,0.02)}\n",
    "}"
   ]
  },
  {
   "cell_type": "code",
   "execution_count": 6,
   "id": "b52aa1ef-cfc2-43ea-874b-6d836d38fb80",
   "metadata": {
    "tags": []
   },
   "outputs": [],
   "source": [
    "def read_CM4X(fname): \n",
    "    ds = xr.open_mfdataset(\n",
    "        fname,\n",
    "        data_vars=\"minimal\",\n",
    "        coords=\"minimal\",\n",
    "        compat=\"override\",\n",
    "        parallel=True,\n",
    "        chunks={\"latitude\":10, \"longitude\":10, \"zl\":-1, \"year\":10},\n",
    "        engine=\"zarr\")\n",
    "    \n",
    "    ds = ds.drop([\"lat\", \"lon\"])\n",
    "    ds = ds.rename({\"geolat\":\"lat\", \"geolon\":\"lon\"})\n",
    "    ds = approximate_z(ds)\n",
    "    # ds = ds.where(ds.thkcello > 1e-9)\n",
    "    return ds\n",
    "\n",
    "def compute_depth_average(ds, zmin, zmax): \n",
    "    return ds.sel(zl = slice(zmin, zmax)).mean(\"zl\")\n",
    "ds = read_CM4X(datadir(\"CM4Xp125_historical_transient_tracers.zarr\"))\n",
    "ds_lo = read_CM4X(datadir(\"CM4Xp25_historical_transient_tracers.zarr\"))"
   ]
  },
  {
   "cell_type": "code",
   "execution_count": 7,
   "id": "ef4821d6-4710-4fb7-914d-3e6dd15e5152",
   "metadata": {
    "tags": []
   },
   "outputs": [],
   "source": [
    "ds_locs = xr.Dataset()\n",
    "ds_locs[\"lon\"] = xr.DataArray(\n",
    "    data=np.arange(-299, 59), dims=(\"locations\") #need to regrid within model coordinates\n",
    ")\n",
    "ds_locs[\"lat\"] = xr.DataArray(data=np.repeat(-50, len(ds_locs[\"lon\"])), dims=(\"locations\"))"
   ]
  },
  {
   "cell_type": "code",
   "execution_count": null,
   "id": "5f347f5a-199f-4e07-af15-2b3222296846",
   "metadata": {
    "tags": []
   },
   "outputs": [],
   "source": [
    "regridder = xe.Regridder(ds, ds_locs[[\"lon\", \"lat\"]], \"bilinear\", locstream_out=True, periodic = False)\n",
    "section_dsm = regridder(ds).compute()\n",
    "section_dsm[\"lon\"] = (\"locations\", ds_locs[\"lon\"].values)\n",
    "section_dsm[\"lat\"] = (\"locations\", ds_locs[\"lat\"].values)\n",
    "section_dsm = get_sigma2(section_dsm).compute()\n",
    "\n",
    "\n",
    "regridder = xe.Regridder(ds_lo, ds_locs[[\"lon\", \"lat\"]], \"bilinear\", locstream_out=True, periodic = False)\n",
    "section_dsm_lo = regridder(ds_lo).compute()\n",
    "section_dsm_lo[\"lon\"] = (\"locations\", ds_locs[\"lon\"].values)\n",
    "section_dsm_lo[\"lat\"] = (\"locations\", ds_locs[\"lat\"].values)\n",
    "section_dsm_lo = get_sigma2(section_dsm_lo).compute()"
   ]
  },
  {
   "cell_type": "code",
   "execution_count": null,
   "id": "de19953c-16ce-4b98-b76d-18b8ee313f44",
   "metadata": {
    "tags": []
   },
   "outputs": [],
   "source": [
    "import cartopy.feature as cfeature;\n",
    "\n",
    "fig,ax=plt.subplots(figsize=(6,3),subplot_kw={'projection':ccrs.Robinson(central_longitude = 0)})\n",
    "ax.set_global()\n",
    "# ax.coastlines()\n",
    "ax.add_feature(cfeature.NaturalEarthFeature('physical', 'land', '50m', edgecolor=None, facecolor='grey', alpha = 0.4))\n",
    "\n",
    "x = CM4X_LON_to_GLODAPP(ds_locs['lon'])\n",
    "y = ds_locs['lat']\n",
    "l = ax.scatter(x,y,transform=ccrs.PlateCarree(),marker='.', alpha = 0.1)\n",
    "# \n",
    "# color = l[0].get_color()"
   ]
  },
  {
   "cell_type": "code",
   "execution_count": null,
   "id": "99c80d29-0fd3-4146-8ea2-29630da3f6c6",
   "metadata": {
    "tags": []
   },
   "outputs": [],
   "source": [
    "new_sigma_grid = np.linspace(section_dsm_lo.sigma2.min(), section_dsm_lo.sigma2.max())\n",
    "new_sigma_grid"
   ]
  },
  {
   "cell_type": "code",
   "execution_count": null,
   "id": "6cb1c47c-c487-43d0-86ca-e1873541b5ad",
   "metadata": {
    "tags": []
   },
   "outputs": [],
   "source": [
    "ds_sections = []\n",
    "ds_sections_lo = []\n",
    "\n",
    "for i in range(len(section_dsm.year)):\n",
    "    if (i %20) == 0:\n",
    "        print(i)\n",
    "    tmp1 =  1* interpolate_section(section_dsm[[\"cfc11\", \"cfc12\", \"sf6\", \"sigma2\", \"thkcello\", \"z\", \"thetao\"]].isel(year = i).compute(),\n",
    "                                 new_sigma_grid, \n",
    "                                interp_coord = \"sigma2\",iterate_coord =  \"locations\", kind = \"linear\")\n",
    "    ds_sections = ds_sections + [tmp1]\n",
    "    #now do lo-res\n",
    "    tmp2 =  1* interpolate_section(section_dsm_lo[[\"cfc11\", \"cfc12\", \"sf6\", \"sigma2\", \"thkcello\", \"z\", \"thetao\"]].isel(year = i).compute(),\n",
    "                                 new_sigma_grid, \n",
    "                                interp_coord = \"sigma2\",iterate_coord =  \"locations\", kind = \"linear\")\n",
    "    ds_sections_lo = ds_sections_lo + [tmp2]\n",
    "    \n",
    "ds_section = xr.concat(ds_sections, dim = \"year\")\n",
    "ds_section[\"year\"] = section_dsm.year\n",
    "\n",
    "ds_section_lo = xr.concat(ds_sections_lo, dim = \"year\")\n",
    "ds_section_lo[\"year\"] = section_dsm_lo.year"
   ]
  },
  {
   "cell_type": "code",
   "execution_count": null,
   "id": "cb9081b5-6d29-4a34-9189-08d23886cafa",
   "metadata": {},
   "outputs": [],
   "source": [
    "def make_float(num):\n",
    "    num = num.replace(' ','').replace(',','.').replace(\"−\", \"-\")\n",
    "    return float(num)\n"
   ]
  },
  {
   "cell_type": "code",
   "execution_count": null,
   "id": "0d8a5d17-86c5-4671-8fb4-4a15922a85d3",
   "metadata": {
    "tags": []
   },
   "outputs": [],
   "source": [
    "fig, ax = plt.subplots(1, 3, figsize = (15, 5), sharey = True)\n",
    "\n",
    "\n",
    "cm = ax[0].pcolormesh(ds_locs['lon'], ds_section.sigma2, \n",
    "                 ds_section.cfc11.isel(year = -1) * variable_kwargs[\"cfc11\"][\"conversion\"], \n",
    "                 vmin = 0, vmax  = 4, cmap = variable_kwargs[\"cfc11\"][\"cmap\"])\n",
    "fig.colorbar(cm, ax = ax[0], orientation = \"horizontal\", fraction = 0.04, label= \"pmol/kg\")\n",
    "\n",
    "ax[0].set_title(\"2014 CFC-11 Concentration Along Section\")\n",
    "cm = ax[1].pcolormesh(ds_locs['lon'], ds_section.sigma2, \n",
    "                 ds_section.cfc12.isel(year = -1) * variable_kwargs[\"cfc12\"][\"conversion\"], \n",
    "                 vmin = 0, vmax  = 2, cmap = variable_kwargs[\"cfc12\"][\"cmap\"])\n",
    "\n",
    "fig.colorbar(cm, ax = ax[1], orientation = \"horizontal\", fraction = 0.04, label= \"pmol/kg\")\n",
    "ax[1].set_title(\"2014 CFC-12 Concentration Along Section\")\n",
    "\n",
    "cm = ax[2].pcolormesh(ds_locs['lon'], ds_section.sigma2, \n",
    "                 ds_section.sf6.isel(year = -1) * variable_kwargs[\"sf6\"][\"conversion\"], \n",
    "                 vmin = 0, vmax  = 2, cmap = variable_kwargs[\"sf6\"][\"cmap\"])\n",
    "fig.colorbar(cm, ax = ax[2], orientation = \"horizontal\", fraction = 0.04, label= \"fmol/kg\")\n",
    "\n",
    "ax[2].set_title(\"2014 SF6 Concentration Along Section\")\n",
    "\n",
    "[a.set_ylim(34.5, 37.2) for a in ax]\n",
    "[a.invert_yaxis() for a in ax]\n",
    "fig.suptitle(\"CM4X 0.125°\")\n",
    "labels = [item.get_text() for item in ax[0].get_xticklabels()]\n",
    "labels = np.array([make_float(l) for l in labels])\n",
    "labels = CM4X_LON_to_GLODAPP(labels)\n",
    "labels = labels.astype(int).astype(str)\n",
    "\n",
    "[a.set_xticklabels(labels) for a in ax]\n",
    "\n",
    "[a.set_xlabel(\"longitude\") for a in ax]\n",
    "[a.set_ylabel(r\"$\\sigma_2$\") for a in ax]\n"
   ]
  },
  {
   "cell_type": "code",
   "execution_count": null,
   "id": "9627a0f7-90f2-4ebe-b41e-7f85f10c356c",
   "metadata": {
    "tags": []
   },
   "outputs": [],
   "source": [
    "#now plotting for low-res\n",
    "fig, ax = plt.subplots(1, 3, figsize = (15, 5), sharey = True)\n",
    "\n",
    "\n",
    "cm = ax[0].pcolormesh(ds_locs['lon'], ds_section_lo.sigma2, \n",
    "                 ds_section_lo.cfc11.isel(year = -1) * variable_kwargs[\"cfc11\"][\"conversion\"], \n",
    "                 vmin = 0, vmax  = 4, cmap = variable_kwargs[\"cfc11\"][\"cmap\"])\n",
    "fig.colorbar(cm, ax = ax[0], orientation = \"horizontal\", fraction = 0.04, label= \"pmol/kg\")\n",
    "\n",
    "ax[0].set_title(\"2014 CFC-11 Concentration Along Section\")\n",
    "cm = ax[1].pcolormesh(ds_locs['lon'], ds_section_lo.sigma2, \n",
    "                 ds_section_lo.cfc12.isel(year = -1) * variable_kwargs[\"cfc12\"][\"conversion\"], \n",
    "                 vmin = 0, vmax  = 2, cmap = variable_kwargs[\"cfc12\"][\"cmap\"])\n",
    "\n",
    "fig.colorbar(cm, ax = ax[1], orientation = \"horizontal\", fraction = 0.04, label= \"pmol/kg\")\n",
    "ax[1].set_title(\"2014 CFC-12 Concentration Along Section\")\n",
    "\n",
    "cm = ax[2].pcolormesh(ds_locs['lon'], ds_section_lo.sigma2, \n",
    "                 ds_section_lo.sf6.isel(year = -1) * variable_kwargs[\"sf6\"][\"conversion\"], \n",
    "                 vmin = 0, vmax  = 2, cmap = variable_kwargs[\"sf6\"][\"cmap\"])\n",
    "fig.colorbar(cm, ax = ax[2], orientation = \"horizontal\", fraction = 0.04, label= \"fmol/kg\")\n",
    "\n",
    "ax[2].set_title(\"2014 SF6 Concentration Along Section\")\n",
    "\n",
    "labels = [item.get_text() for item in ax[0].get_xticklabels()]\n",
    "labels = np.array([make_float(l) for l in labels])\n",
    "labels = CM4X_LON_to_GLODAPP(labels)\n",
    "labels = labels.astype(int).astype(str)\n",
    "[a.set_xticklabels(labels) for a in ax]\n",
    "\n",
    "[a.set_ylim(34.5, 37.2) for a in ax]\n",
    "[a.invert_yaxis() for a in ax]\n",
    "[a.set_xlabel(\"longitude\") for a in ax]\n",
    "[a.set_ylabel(r\"$\\sigma_2$\") for a in ax]\n",
    "fig.suptitle(\"CM4X 0.25°\")"
   ]
  },
  {
   "cell_type": "code",
   "execution_count": null,
   "id": "2b8763fa-eb18-4145-b6f7-83ba36d4d4e3",
   "metadata": {
    "tags": []
   },
   "outputs": [],
   "source": [
    "mean_ds = (ds_section * ds_section.thkcello).sum(\"locations\") / ds_section.thkcello.sum(\"locations\")\n",
    "mean_ds[\"thkcello\"] = ds_section[\"thkcello\"].mean(\"locations\")\n",
    "mean_ds[\"year\"]= section_dsm.year\n",
    "\n",
    "mean_ds_lo = (ds_section_lo * ds_section_lo.thkcello).sum(\"locations\") / ds_section_lo.thkcello.sum(\"locations\")\n",
    "mean_ds_lo[\"thkcello\"] = ds_section_lo[\"thkcello\"].mean(\"locations\")\n",
    "mean_ds_lo[\"year\"]= section_dsm_lo.year"
   ]
  },
  {
   "cell_type": "code",
   "execution_count": null,
   "id": "dbc25c14-effe-4363-aac2-fac8511fe85e",
   "metadata": {
    "tags": []
   },
   "outputs": [],
   "source": [
    "def derivative(ds):\n",
    "    return ds.values[1:, :] - ds.values[:-1, :]"
   ]
  },
  {
   "cell_type": "code",
   "execution_count": null,
   "id": "3884c01f-fc6f-4642-bed9-f6636bfd8438",
   "metadata": {
    "tags": []
   },
   "outputs": [],
   "source": [
    "fig, ax = plt.subplots(1, 3, figsize = (15, 5))\n",
    "\n",
    "cm = ax[0].contourf(mean_ds.year, mean_ds.sigma2, mean_ds.cfc11.T * variable_kwargs[\"cfc11\"][\"conversion\"], \n",
    "               cmap = variable_kwargs[\"cfc11\"][\"cmap\"], vmin = 0, vmax = 5, levels = np.arange(0, 6, 0.5), extend = \"max\")\n",
    "fig.colorbar(cm, ax = ax[0], orientation = \"horizontal\", label = \"pmol/kg\")\n",
    "\n",
    "cm = ax[1].contourf(mean_ds.year, mean_ds.sigma2, mean_ds.cfc12.T * variable_kwargs[\"cfc12\"][\"conversion\"], \n",
    "               cmap = variable_kwargs[\"cfc12\"][\"cmap\"], vmin = 0, vmax = 3, levels = np.arange(0, 3, 0.25), extend = \"max\")\n",
    "fig.colorbar(cm, ax = ax[1], orientation = \"horizontal\", label = \"pmol/kg\")\n",
    "\n",
    "cm = ax[2].contourf(mean_ds.year, mean_ds.sigma2, mean_ds.sf6.T * variable_kwargs[\"sf6\"][\"conversion\"], \n",
    "               cmap = variable_kwargs[\"sf6\"][\"cmap\"], vmin = 0, vmax = 3, levels = np.arange(0, 3, 0.25), extend = \"max\")\n",
    "fig.colorbar(cm, ax = ax[2], orientation = \"horizontal\", label = \"fmol/kg\")\n",
    "\n",
    "[a.set_ylabel(r\"$\\sigma_2$\") for a in ax]\n",
    "[a.set_xlabel(\"year\") for a in ax]\n",
    "[a.set_ylim(34.5, 37.2) for a in ax]\n",
    "[a.set_xlim(1942, 2014) for a in ax]\n",
    "[a.invert_yaxis() for a in ax]\n",
    "fig.suptitle(\"Average Concentration CM4X 0.125°\")"
   ]
  },
  {
   "cell_type": "code",
   "execution_count": null,
   "id": "4df744b6-8867-496d-a5da-d594e00a0ce3",
   "metadata": {
    "tags": []
   },
   "outputs": [],
   "source": [
    "fig, ax = plt.subplots(1, 3, figsize = (15, 5))\n",
    "\n",
    "cm = ax[0].contourf(mean_ds_lo.year, mean_ds_lo.sigma2, mean_ds_lo.cfc11.T * variable_kwargs[\"cfc11\"][\"conversion\"], \n",
    "               cmap = variable_kwargs[\"cfc11\"][\"cmap\"], vmin = 0, vmax = 5, levels = np.arange(0, 6, 0.5), extend = \"max\")\n",
    "fig.colorbar(cm, ax = ax[0], orientation = \"horizontal\", label = \"pmol/kg\")\n",
    "\n",
    "cm = ax[1].contourf(mean_ds_lo.year, mean_ds_lo.sigma2, mean_ds_lo.cfc12.T * variable_kwargs[\"cfc12\"][\"conversion\"], \n",
    "               cmap = variable_kwargs[\"cfc12\"][\"cmap\"], vmin = 0, vmax = 3, levels = np.arange(0, 3, 0.25), extend = \"max\")\n",
    "fig.colorbar(cm, ax = ax[1], orientation = \"horizontal\", label = \"pmol/kg\")\n",
    "\n",
    "cm = ax[2].contourf(mean_ds_lo.year, mean_ds_lo.sigma2, mean_ds_lo.sf6.T * variable_kwargs[\"sf6\"][\"conversion\"], \n",
    "               cmap = variable_kwargs[\"sf6\"][\"cmap\"], vmin = 0, vmax = 3, levels = np.arange(0, 3, 0.25), extend = \"max\")\n",
    "fig.colorbar(cm, ax = ax[2], orientation = \"horizontal\", label = \"fmol/kg\")\n",
    "\n",
    "[a.set_ylabel(r\"$\\sigma_2$\") for a in ax]\n",
    "[a.set_xlabel(\"year\") for a in ax]\n",
    "[a.set_ylim(34.5, 37.2) for a in ax]\n",
    "[a.set_xlim(1942, 2014) for a in ax]\n",
    "[a.invert_yaxis() for a in ax]\n",
    "fig.suptitle(\"Average Concentration CM4X 0.25°\")"
   ]
  },
  {
   "cell_type": "code",
   "execution_count": null,
   "id": "c2c54244-288e-4221-967d-93dc33f4f4af",
   "metadata": {
    "tags": []
   },
   "outputs": [],
   "source": [
    "fig, ax = plt.subplots(1, 3, figsize = (15, 5))\n",
    "\n",
    "cm = ax[0].pcolormesh(mean_ds.year[1:], mean_ds.sigma2, derivative(mean_ds.cfc11).T * variable_kwargs[\"cfc11\"][\"conversion\"], \n",
    "               cmap = variable_kwargs[\"cfc11\"][\"cmap\"], vmin = 0, vmax = .25)\n",
    "fig.colorbar(cm, ax = ax[0], orientation = \"horizontal\", label = \"pmol/kg/year\")\n",
    "ax[0].set_title(\"CFC-11\")\n",
    "cm = ax[1].pcolormesh(mean_ds.year[1:], mean_ds.sigma2, derivative(mean_ds.cfc12).T * variable_kwargs[\"cfc12\"][\"conversion\"], \n",
    "               cmap = variable_kwargs[\"cfc12\"][\"cmap\"], vmin = 0, vmax = .25)\n",
    "fig.colorbar(cm, ax = ax[1], orientation = \"horizontal\", label = \"pmol/kg/year\")\n",
    "ax[1].set_title(\"CFC-12\")\n",
    "\n",
    "cm = ax[2].pcolormesh(mean_ds.year[1:], mean_ds.sigma2, derivative(mean_ds.sf6).T * variable_kwargs[\"sf6\"][\"conversion\"], \n",
    "               cmap = variable_kwargs[\"sf6\"][\"cmap\"], vmin = 0, vmax = .25)\n",
    "ax[1].set_title(\"SF6\")\n",
    "\n",
    "fig.colorbar(cm, ax = ax[2], orientation = \"horizontal\", label = \"fmol/kg/year\")\n",
    "\n",
    "\n",
    "[a.set_ylim(34.5, 37.2) for a in ax]\n",
    "# [a.set_xlim(1942, 2015) for a in ax]\n",
    "[a.invert_yaxis() for a in ax]\n",
    "[a.set_ylabel(r\"$\\sigma_2$\") for a in ax]\n",
    "[a.set_xlabel(\"year\") for a in ax]\n",
    "\n",
    "fig.suptitle(\"d(Concentraton)/dt CM4X 0.125°\")\n",
    "\n",
    "\n",
    "fig, ax = plt.subplots(1, 3, figsize = (15, 5))\n",
    "\n",
    "cm = ax[0].pcolormesh(mean_ds_lo.year[1:], mean_ds_lo.sigma2, derivative(mean_ds_lo.cfc11).T * variable_kwargs[\"cfc11\"][\"conversion\"], \n",
    "               cmap = variable_kwargs[\"cfc11\"][\"cmap\"], vmin = 0, vmax = .25)\n",
    "fig.colorbar(cm, ax = ax[0], orientation = \"horizontal\", label = \"pmol/kg/year\")\n",
    "ax[0].set_title(\"CFC-11\")\n",
    "\n",
    "cm = ax[1].pcolormesh(mean_ds_lo.year[1:], mean_ds_lo.sigma2, derivative(mean_ds_lo.cfc12).T * variable_kwargs[\"cfc12\"][\"conversion\"], \n",
    "               cmap = variable_kwargs[\"cfc12\"][\"cmap\"], vmin = 0, vmax = .25)\n",
    "fig.colorbar(cm, ax = ax[1], orientation = \"horizontal\", label = \"pmol/kg/year\")\n",
    "ax[1].set_title(\"CFC-12\")\n",
    "\n",
    "cm = ax[2].pcolormesh(mean_ds_lo.year[1:], mean_ds_lo.sigma2, derivative(mean_ds_lo.sf6).T * variable_kwargs[\"sf6\"][\"conversion\"], \n",
    "               cmap = variable_kwargs[\"sf6\"][\"cmap\"], vmin = 0, vmax = .25)\n",
    "fig.colorbar(cm, ax = ax[2], orientation = \"horizontal\", label = \"fmol/kg/year\")\n",
    "ax[1].set_title(\"SF6\")\n",
    "\n",
    "[a.set_ylabel(r\"$\\sigma_2$\") for a in ax]\n",
    "[a.set_xlabel(\"year\") for a in ax]\n",
    "[a.set_ylim(34.5, 37.2) for a in ax]\n",
    "[a.invert_yaxis() for a in ax]\n",
    "fig.suptitle(\"d(Concentraton)/dt CM4X 0.25°\")"
   ]
  },
  {
   "cell_type": "code",
   "execution_count": null,
   "id": "c7d29861-9564-42c9-bb75-026069516465",
   "metadata": {
    "tags": []
   },
   "outputs": [],
   "source": [
    "fig, ax = plt.subplots(1, 2, figsize = (10, 5))\n",
    "\n",
    "cm = ax[0].pcolormesh(mean_ds.year, mean_ds.sigma2, (mean_ds.thetao - mean_ds.thetao.mean(\"year\")).T, \n",
    "               cmap = cmocean.cm.balance, vmin = -0.5, vmax = 0.5)\n",
    "fig.colorbar(cm, ax = ax[0], orientation = \"horizontal\", label = \"deg C\")\n",
    "cm = ax[1].pcolormesh(mean_ds.year, mean_ds.sigma2,  np.log(mean_ds.thkcello).T, \n",
    "               cmap = cmocean.cm.matter, vmin = 0, vmax = 5.5)\n",
    "fig.colorbar(cm, ax = ax[1], orientation = \"horizontal\", label = \"\")\n",
    "\n",
    "[a.set_ylim(34.5, 37.2) for a in ax]\n",
    "# [a.set_xlim(1942, 2015) for a in ax]\n",
    "[a.invert_yaxis() for a in ax]\n",
    "ax[0].set_ylabel(r\"$\\sigma_2$\")\n",
    "ax[1].set_ylabel(r\"$\\sigma_2$\")\n",
    "ax[0].set_xlabel(\"year\")\n",
    "ax[1].set_xlabel(\"year\")\n",
    "ax[0].set_title(\"Temperature Anomaly\")\n",
    "ax[1].set_title(\"log(Layer Thickness [meters])\")\n",
    "fig.suptitle(\"CM4X 0.125°\")\n",
    "\n",
    "\n",
    "fig, ax = plt.subplots(1, 2, figsize = (10, 5))\n",
    "\n",
    "cm = ax[0].pcolormesh(mean_ds_lo.year, mean_ds_lo.sigma2, (mean_ds_lo.thetao - mean_ds_lo.thetao.mean(\"year\")).T, \n",
    "               cmap = cmocean.cm.balance, vmin = -0.5, vmax = 0.5)\n",
    "fig.colorbar(cm, ax = ax[0], orientation = \"horizontal\", label = \"deg C\")\n",
    "cm = ax[1].pcolormesh(mean_ds_lo.year, mean_ds_lo.sigma2,  np.log(mean_ds_lo.thkcello).T, \n",
    "               cmap = cmocean.cm.matter, vmin = 0, vmax = 5.5)\n",
    "fig.colorbar(cm, ax = ax[1], orientation = \"horizontal\", label = \"\")\n",
    "\n",
    "[a.set_ylim(34.5, 37.2) for a in ax]\n",
    "# [a.set_xlim(1942, 2015) for a in ax]\n",
    "[a.invert_yaxis() for a in ax]\n",
    "ax[0].set_ylabel(r\"$\\sigma_2$\")\n",
    "ax[1].set_ylabel(r\"$\\sigma_2$\")\n",
    "ax[0].set_xlabel(\"year\")\n",
    "ax[1].set_xlabel(\"year\")\n",
    "ax[0].set_title(\"Temperature Anomaly\")\n",
    "ax[1].set_title(\"log(Layer Thickness [meters])\")\n",
    "fig.suptitle(\"CM4X 0.25°\")"
   ]
  },
  {
   "cell_type": "code",
   "execution_count": null,
   "id": "3496b7f2-19b6-4f8f-863d-08230ce610fa",
   "metadata": {},
   "outputs": [],
   "source": [
    "def compute_concentration(ds, varn, sigma = 36.75): \n",
    "    cfc = ds.sel(sigma2 = 36.75, method = \"nearest\")[varn]\n",
    "    cfc = cfc* variable_kwargs[varn][\"conversion\"]\n",
    "    return cfc\n",
    "def derivative2(ds):\n",
    "    return (ds.values[2:] - ds.values[:-2]) / 2"
   ]
  },
  {
   "cell_type": "code",
   "execution_count": null,
   "id": "64fc1170-0b59-4c3d-accb-c7a074f64bfd",
   "metadata": {
    "tags": []
   },
   "outputs": [],
   "source": [
    "fig, ax = plt.subplots(1, 4, figsize = (15, 5))\n",
    "\n",
    "mean_ds.sel(sigma2 = 36.75, method = \"nearest\").thetao.plot(ax = ax[0], label = \"CM4X 1/8°\"); \n",
    "mean_ds_lo.sel(sigma2 = 36.75, method = \"nearest\").thetao.plot(ax = ax[0], label = \"CM4X 1/4°\"); \n",
    "ax[0].set_title(r\"$\\sigma_2 = 36.75$\" + \" Potential Temperature\")\n",
    "\n",
    "cfc = compute_concentration(mean_ds, \"cfc12\", sigma =  36.75)\n",
    "cfc_lo = compute_concentration(mean_ds_lo, \"cfc12\", sigma =  36.75)\n",
    "cfc.plot(ax = ax[1], label = \"CM4X 1/8°\"); \n",
    "cfc_lo.plot(ax = ax[1], label = \"CM4X 1/4°\"); \n",
    "ax[1].set_title(r\"$\\sigma_2 = 36.75$\" + \" CFC12 \")\n",
    "\n",
    "ax[2].plot(section_dsm.year[2:], derivative2(cfc), label = \"CM4X 1/8°\"); \n",
    "ax[2].plot(section_dsm.year[2:], derivative2(cfc_lo), label = \"CM4X 1/4°\"); \n",
    "ax[2].set_title(r\"$\\sigma_2 = 36.75$\" + \" d(CFC12)/dt \")\n",
    "\n",
    "\n",
    "mean_ds.sel(sigma2 = 36.75, method = \"nearest\").thkcello.plot(ax = ax[3], label = \"CM4X 1/8°\"); \n",
    "mean_ds_lo.sel(sigma2 = 36.75, method = \"nearest\").thkcello.plot(ax = ax[3], label = \"CM4X 1/4°\"); \n",
    "ax[3].set_title(r\"$\\sigma_2 = 36.75$\" + \" Thickness\")\n",
    "\n",
    "ax[0].set_ylabel(\"deg C\")\n",
    "ax[1].set_ylabel(\"pmol / kg\")\n",
    "ax[2].set_ylabel(\"pmol / kg / year\")\n",
    "\n",
    "ax[3].set_ylabel(\"meters\")      \n",
    "[a.set_xlim(1850, 2014) for a in ax]\n",
    "[a.legend(frameon = False) for a in ax]\n",
    "fig.tight_layout()"
   ]
  },
  {
   "cell_type": "code",
   "execution_count": null,
   "id": "8e712104-5c64-4875-99ed-bc850d0451da",
   "metadata": {
    "tags": []
   },
   "outputs": [],
   "source": [
    "fig, ax = plt.subplots(1, 4, figsize = (15, 5))\n",
    "\n",
    "mean_ds.sel(sigma2 = 36.75, method = \"nearest\").thetao.plot(ax = ax[0], label = \"CM4X 1/8°\"); \n",
    "mean_ds_lo.sel(sigma2 = 36.75, method = \"nearest\").thetao.plot(ax = ax[0], label = \"CM4X 1/4°\"); \n",
    "ax[0].set_title(r\"$\\sigma_2 = 36.75$\" + \" Potential Temperature\")\n",
    "\n",
    "varn = \"cfc11\"; varnl = \" CFC11 \"\n",
    "cfc = compute_concentration(mean_ds, varn, sigma =  36.75)\n",
    "cfc_lo = compute_concentration(mean_ds_lo, varn, sigma =  36.75)\n",
    "cfc.plot(ax = ax[1], label = \"CM4X 1/8°\"); \n",
    "cfc_lo.plot(ax = ax[1], label = \"CM4X 1/4°\"); \n",
    "ax[1].set_title(r\"$\\sigma_2 = 36.75$\" + varnl)\n",
    "\n",
    "varnl =\" d(CFC11)/dt \"\n",
    "ax[2].plot(section_dsm.year[2:], derivative2(cfc), label = \"CM4X 1/8°\"); \n",
    "ax[2].plot(section_dsm.year[2:], derivative2(cfc_lo), label = \"CM4X 1/4°\"); \n",
    "ax[2].set_title(r\"$\\sigma_2 = 36.75$\" + varnl)\n",
    "\n",
    "mean_ds.sel(sigma2 = 36.75, method = \"nearest\").thkcello.plot(ax = ax[3], label = \"CM4X 1/8°\"); \n",
    "mean_ds_lo.sel(sigma2 = 36.75, method = \"nearest\").thkcello.plot(ax = ax[3], label = \"CM4X 1/4°\"); \n",
    "ax[3].set_title(r\"$\\sigma_2 = 36.75$\" + \" Thickness\")\n",
    "\n",
    "ax[0].set_ylabel(\"deg C\")\n",
    "ax[1].set_ylabel(\"pmol / kg\")\n",
    "ax[2].set_ylabel(\"pmol / kg / year\")\n",
    "\n",
    "ax[3].set_ylabel(\"meters\")      \n",
    "[a.set_xlim(1850, 2014) for a in ax]\n",
    "[a.legend(frameon = False) for a in ax]\n",
    "fig.tight_layout()"
   ]
  },
  {
   "cell_type": "code",
   "execution_count": null,
   "id": "796adbfb-781b-4465-a275-9bd7a3431f02",
   "metadata": {
    "tags": []
   },
   "outputs": [],
   "source": [
    "fig, ax = plt.subplots(1, 4, figsize = (15, 5))\n",
    "\n",
    "mean_ds.sel(sigma2 = 36.75, method = \"nearest\").thetao.plot(ax = ax[0], label = \"CM4X 1/8°\"); \n",
    "mean_ds_lo.sel(sigma2 = 36.75, method = \"nearest\").thetao.plot(ax = ax[0], label = \"CM4X 1/4°\"); \n",
    "ax[0].set_title(r\"$\\sigma_2 = 36.65$\" + \" Potential Temperature\")\n",
    "\n",
    "varn = \"sf6\"; varnl = \" SF6 \"\n",
    "cfc = compute_concentration(mean_ds, varn, sigma =  36.75)\n",
    "cfc_lo = compute_concentration(mean_ds_lo, varn, sigma =  36.75)\n",
    "cfc.plot(ax = ax[1], label = \"CM4X 1/8°\"); \n",
    "cfc_lo.plot(ax = ax[1], label = \"CM4X 1/4°\"); \n",
    "ax[1].set_title(r\"$\\sigma_2 = 36.65$\" + varnl)\n",
    "\n",
    "varnl =\" d(SF6)/dt \"\n",
    "ax[2].plot(section_dsm.year[2:], derivative2(cfc), label = \"CM4X 1/8°\"); \n",
    "ax[2].plot(section_dsm.year[2:], derivative2(cfc_lo), label = \"CM4X 1/4°\"); \n",
    "ax[2].set_title(r\"$\\sigma_2 = 36.65$\" + varnl)\n",
    "\n",
    "mean_ds.sel(sigma2 = 36.75, method = \"nearest\").thkcello.plot(ax = ax[3], label = \"CM4X 1/8°\"); \n",
    "mean_ds_lo.sel(sigma2 = 36.75, method = \"nearest\").thkcello.plot(ax = ax[3], label = \"CM4X 1/4°\"); \n",
    "ax[3].set_title(r\"$\\sigma_2 = 36.65$\" + \" Thickness\")\n",
    "\n",
    "ax[0].set_ylabel(\"deg C\")\n",
    "ax[1].set_ylabel(\"fmol / kg\")\n",
    "ax[2].set_ylabel(\"fmol / kg / year\")\n",
    "\n",
    "ax[3].set_ylabel(\"meters\")      \n",
    "[a.set_xlim(1850, 2014) for a in ax]\n",
    "[a.legend(frameon = False) for a in ax]\n",
    "fig.tight_layout()"
   ]
  },
  {
   "cell_type": "code",
   "execution_count": null,
   "id": "2f535c87-6474-4584-82d0-d725b402af5d",
   "metadata": {},
   "outputs": [],
   "source": [
    "ds = pd.read_csv(datadir('mf_CFC-11_obs.csv'), skiprows = 3)\n",
    "times = ds.iloc[:, 0]\n",
    "cfcs = np.float32(ds.iloc[:, 1])"
   ]
  },
  {
   "cell_type": "code",
   "execution_count": null,
   "id": "af80e9ea-42a8-449a-ae7b-58bc2be91f1c",
   "metadata": {
    "tags": []
   },
   "outputs": [],
   "source": [
    "dtimes = (times.values[1:] + times.values[:-1]) / 2"
   ]
  },
  {
   "cell_type": "code",
   "execution_count": null,
   "id": "65bd1985-aaf1-49af-b71d-5f106a592131",
   "metadata": {
    "tags": []
   },
   "outputs": [],
   "source": [
    "dt = times.values[1:] - times.values[:-1]\n",
    "dcfcs = cfcs[1:] - cfcs[:-1]"
   ]
  },
  {
   "cell_type": "code",
   "execution_count": null,
   "id": "e7ec45cb-9fb7-45a7-9bd3-21143779d1b4",
   "metadata": {
    "tags": []
   },
   "outputs": [],
   "source": [
    "import numpy as np\n",
    "from scipy import interpolate\n",
    "def fill_nan(A):\n",
    "    '''\n",
    "    interpolate to fill nan values\n",
    "    '''\n",
    "    inds = np.arange(A.shape[0])\n",
    "    good = np.where(np.isfinite(A))\n",
    "    f = interpolate.interp1d(inds[good], A[good],bounds_error=False)\n",
    "    B = np.where(np.isfinite(A),A,f(inds))\n",
    "    return B"
   ]
  },
  {
   "cell_type": "code",
   "execution_count": null,
   "id": "a75a076b-fd7a-49bb-a8f3-a5b55ac9701e",
   "metadata": {
    "tags": []
   },
   "outputs": [],
   "source": [
    "import numpy as np\n",
    "from scipy.signal import butter, lfilter, freqz, filtfilt\n",
    "import matplotlib.pyplot as plt\n",
    "\n",
    "\n",
    "def butter_lowpass(cutoff, fs, order=5):\n",
    "    return butter(order, cutoff, fs=fs, btype='low', analog=False)\n",
    "\n",
    "def butter_lowpass_filter(data, cutoff, fs, order=5):\n",
    "    b, a = butter_lowpass(cutoff, fs, order=order)\n",
    "    y = filtfilt(b, a, data)\n",
    "    return y\n",
    "\n",
    "\n",
    "# Filter requirements.\n",
    "order = 2\n",
    "fs = 12       # sample rate, Hz\n",
    "cutoff = 1/(12 * 1)  # desired cutoff frequency of the filter, Hz\n",
    "\n",
    "# Get the filter coefficients so we can check its frequency response.\n",
    "b, a = butter_lowpass(cutoff, fs, order)\n"
   ]
  },
  {
   "cell_type": "code",
   "execution_count": null,
   "id": "cc303ba2-d74f-41e3-a778-8461a25a34ac",
   "metadata": {},
   "outputs": [],
   "source": []
  },
  {
   "cell_type": "code",
   "execution_count": null,
   "id": "8d7a7a3b-cf9d-4797-ac24-d5cb659e7676",
   "metadata": {
    "tags": []
   },
   "outputs": [
    {
     "data": {
      "text/plain": [
       "(1950.0, 2014.0)"
      ]
     },
     "execution_count": 27,
     "metadata": {},
     "output_type": "execute_result"
    },
    {
     "data": {
      "image/png": "[encoded data removed]",
      "text/plain": [
       "<Figure size 640x480 with 1 Axes>"
      ]
     },
     "metadata": {},
     "output_type": "display_data"
    }
   ],
   "source": [
    "plt.plot(times, cfcs)\n",
    "y = butter_lowpass_filter(fill_nan(cfcs)[:-7], 1/12, 12, 2)\n",
    "plt.plot(times[:-7],y)\n",
    "plt.xlim(1950, 2014)\n"
   ]
  },
  {
   "cell_type": "code",
   "execution_count": null,
   "id": "129f45d1-5f47-4c07-9c96-b95047412534",
   "metadata": {
    "tags": []
   },
   "outputs": [
    {
     "data": {
      "text/plain": [
       "(1950.0, 2014.0)"
      ]
     },
     "execution_count": 28,
     "metadata": {},
     "output_type": "execute_result"
    },
    {
     "data": {
      "image/png": "[encoded data removed]",
      "text/plain": [
       "<Figure size 640x480 with 1 Axes>"
      ]
     },
     "metadata": {},
     "output_type": "display_data"
    }
   ],
   "source": [
    "plt.plot(dtimes, dcfcs / dt)\n",
    "y = butter_lowpass_filter(fill_nan(dcfcs / dt)[:-7], 1/12, 12, 2)\n",
    "plt.plot(dtimes[:-7],y)\n",
    "plt.xlim(1950, 2014)\n"
   ]
  },
  {
   "cell_type": "code",
   "execution_count": null,
   "id": "e4c0fed7-e782-4c07-8997-22dc4388d010",
   "metadata": {
    "tags": []
   },
   "outputs": [
    {
     "data": {
      "text/plain": [
       "[<matplotlib.lines.Line2D at 0x2aac2797e4a0>]"
      ]
     },
     "execution_count": 29,
     "metadata": {},
     "output_type": "execute_result"
    },
    {
     "data": {
      "image/png": "[encoded data removed]",
      "text/plain": [
       "<Figure size 640x480 with 1 Axes>"
      ]
     },
     "metadata": {},
     "output_type": "display_data"
    },
    {
     "name": "stderr",
     "output_type": "stream",
     "text": [
      "2024-04-05 23:15:29,891 - distributed.batched - INFO - Batched Comm Closed <TCP (closed)  local=tcp://172.16.3.67:39382 remote=tcp://172.16.3.67:59012>\n",
      "Traceback (most recent call last):\n",
      "  File \"/vortexfs1/home/anthony.meza/mambaforge/envs/atm_rivers/lib/python3.10/site-packages/distributed/batched.py\", line 115, in _background_send\n",
      "    nbytes = yield coro\n",
      "  File \"/vortexfs1/home/anthony.meza/mambaforge/envs/atm_rivers/lib/python3.10/site-packages/tornado/gen.py\", line 767, in run\n",
      "    value = future.result()\n",
      "  File \"/vortexfs1/home/anthony.meza/mambaforge/envs/atm_rivers/lib/python3.10/site-packages/distributed/comm/tcp.py\", line 269, in write\n",
      "    raise CommClosedError()\n",
      "distributed.comm.core.CommClosedError\n"
     ]
    }
   ],
   "source": [
    "cfc11 = ds_section.sel(sigma2 = 37., locations = 350, method = \"nearest\").cfc11\n",
    "cfc11.plot()"
   ]
  },
  {
   "cell_type": "code",
   "execution_count": null,
   "id": "0a5d4b02-83db-4c1b-b4e2-96e51d4019df",
   "metadata": {
    "tags": []
   },
   "outputs": [
    {
     "data": {
      "text/plain": [
       "[<matplotlib.lines.Line2D at 0x2aac4b7b17e0>]"
      ]
     },
     "execution_count": 82,
     "metadata": {},
     "output_type": "execute_result"
    },
    {
     "data": {
      "image/png": "[encoded data removed]",
      "text/plain": [
       "<Figure size 640x480 with 1 Axes>"
      ]
     },
     "metadata": {},
     "output_type": "display_data"
    }
   ],
   "source": [
    "dcfc11 = cfc11.values[1:] - cfc11.values[:-1]\n",
    "plt.plot(cfc11.year[1:], dcfc11)\n",
    "\n",
    "dcfc11 = cfc11.values[2:] - cfc11.values[:-2]\n",
    "plt.plot(cfc11.year[2:], dcfc11 / 2)"
   ]
  },
  {
   "cell_type": "code",
   "execution_count": null,
   "id": "d9e41669-b11f-4163-90bc-63f95ec71c85",
   "metadata": {},
   "outputs": [],
   "source": []
  },
  {
   "cell_type": "code",
   "execution_count": null,
   "id": "81947eda-cd66-4183-8960-cf9c17d88c70",
   "metadata": {},
   "outputs": [],
   "source": []
  }
 ],
 "metadata": {
  "kernelspec": {
   "display_name": "Python (Atmospheric Rivers)",
   "language": "python",
   "name": "atm_rivers"
  },
  "language_info": {
   "codemirror_mode": {
    "name": "ipython",
    "version": 3
   },
   "file_extension": ".py",
   "mimetype": "text/x-python",
   "name": "python",
   "nbconvert_exporter": "python",
   "pygments_lexer": "ipython3",
   "version": "3.10.10"
  }
 },
 "nbformat": 4,
 "nbformat_minor": 5
}
