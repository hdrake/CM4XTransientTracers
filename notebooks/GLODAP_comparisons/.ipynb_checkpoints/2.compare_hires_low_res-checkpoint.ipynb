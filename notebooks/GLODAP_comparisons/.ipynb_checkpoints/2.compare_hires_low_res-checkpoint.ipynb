{
 "cells": [
  {
   "cell_type": "code",
   "execution_count": null,
   "id": "f1a20ada-ceb4-422f-896b-28f53c9403f9",
   "metadata": {
    "tags": []
   },
   "outputs": [],
   "source": [
    "import pandas as pd\n",
    "from cartopy import crs as ccrs\n",
    "import matplotlib.pyplot as plt\n",
    "import xarray as xr\n",
    "from xhistogram.xarray import histogram\n",
    "import numpy as np\n",
    "import gfdl_utils as gu\n",
    "import glob\n",
    "import re\n",
    "from scipy.interpolate import griddata\n",
    "import geopy\n",
    "import cmocean\n",
    "import xesmf as xe\n",
    "import sectionate\n",
    "from geopy import distance\n",
    "import sys\n",
    "sys.path.insert(0, '/vortexfs1/home/anthony.meza/scratch/CM4X/CM4XTransientTracers/src')\n",
    "from src import *"
   ]
  },
  {
   "cell_type": "code",
   "execution_count": null,
   "id": "59fa4c89-1ce3-4ea9-9863-ff5d22fe3912",
   "metadata": {
    "tags": []
   },
   "outputs": [],
   "source": [
    "plotsdir = lambda x=\"\" : \"/vortexfs1/home/anthony.meza/scratch/CM4X/CM4XTransientTracers/figures/\" + x\n",
    "datadir = lambda x=\"\" : \"/vortexfs1/home/anthony.meza/scratch/CM4X/CM4XTransientTracers/data/\" + x"
   ]
  },
  {
   "cell_type": "code",
   "execution_count": null,
   "id": "72498f58-b593-4889-bb8b-16cdc19bc98d",
   "metadata": {
    "tags": []
   },
   "outputs": [],
   "source": [
    "# GLODAP:model variable naming conventions\n",
    "model2glodap_names = {'cfc12':'cfc12','cfc11':'cfc11','sf6':'sf6','thetao':'theta','so':'salinity'}\n",
    "variable_kwargs = {\n",
    "    'cfc12':{'conversion':1e12/1035,'cmap':'Greens','units':'pmolkg-1'},\n",
    "    'cfc11':{'conversion':1e12/1035,'cmap':'PuRd','units':'pmolkg-1'},\n",
    "    'sf6':{'conversion':1e12/1035 * 1e3,'cmap':'PuRd','units':'fmolkg-1'},\n",
    "    'theta':{'conversion':1,'cmap':cmocean.cm.thermal,'units':'degK','bins':np.arange(-2,35,0.2),'anombins':np.arange(-4,4.05,0.05)},\n",
    "    'salinity':{'conversion':1,'cmap':cmocean.cm.haline,'units':'psu','bins':np.arange(32,37,0.05),'anombins':np.arange(-1,1.02,0.02)}\n",
    "}"
   ]
  },
  {
   "cell_type": "code",
   "execution_count": null,
   "id": "f036980e-023c-4876-b613-059edf77d843",
   "metadata": {
    "tags": []
   },
   "outputs": [],
   "source": [
    "from dask_jobqueue import SLURMCluster  # setup dask cluster \n",
    "cluster = SLURMCluster(\n",
    "    cores=36,\n",
    "    processes=1,\n",
    "    memory='150GB',\n",
    "    walltime='02:00:00',\n",
    "    queue='compute',\n",
    "    interface='ib0')\n",
    "print(cluster.job_script())\n",
    "cluster.scale(jobs=16)\n",
    "from dask.distributed import Client\n",
    "client = Client(cluster)\n"
   ]
  },
  {
   "cell_type": "code",
   "execution_count": null,
   "id": "242f5243-bec8-443e-ad02-ff3ea8663c9a",
   "metadata": {
    "tags": []
   },
   "outputs": [],
   "source": [
    "client"
   ]
  },
  {
   "cell_type": "code",
   "execution_count": null,
   "id": "b52aa1ef-cfc2-43ea-874b-6d836d38fb80",
   "metadata": {
    "tags": []
   },
   "outputs": [],
   "source": [
    "def read_CM4X(fname): \n",
    "    return xr.open_mfdataset(\n",
    "        fname,\n",
    "        data_vars=\"minimal\",\n",
    "        coords=\"minimal\",\n",
    "        compat=\"override\",\n",
    "        parallel=True,\n",
    "        chunks={\"latitude\":10, \"longitude\":10, \"zl\":-1, \"year\":-1},\n",
    "        engine=\"zarr\")\n",
    "\n",
    "\n",
    "ds = read_CM4X(datadir(\"CM4Xp25_historical_transient_tracers.zarr\")).isel(zl = 0)\n",
    "ds_hi = read_CM4X(datadir(\"CM4Xp125_historical_transient_tracers.zarr\")).isel(zl = 0)"
   ]
  },
  {
   "cell_type": "code",
   "execution_count": 2,
   "id": "1776bf7a-9ea4-488f-8667-5b43af463000",
   "metadata": {
    "tags": []
   },
   "outputs": [],
   "source": [
    "def weighted_average(ds):\n",
    "    weights = ds.thkcello * ds.areacello\n",
    "    return (ds * weights).sum([\"xh\", \"yh\"]) / weights.sum([\"xh\", \"yh\"])"
   ]
  },
  {
   "cell_type": "code",
   "execution_count": 3,
   "id": "fd85cfd2-cd08-44e7-9dbb-aebeeb7d8d28",
   "metadata": {},
   "outputs": [
    {
     "ename": "NameError",
     "evalue": "name 'ds' is not defined",
     "output_type": "error",
     "traceback": [
      "\u001b[0;31m---------------------------------------------------------------------------\u001b[0m",
      "\u001b[0;31mNameError\u001b[0m                                 Traceback (most recent call last)",
      "Cell \u001b[0;32mIn[3], line 1\u001b[0m\n\u001b[0;32m----> 1\u001b[0m tmp \u001b[38;5;241m=\u001b[39m weighted_average(\u001b[43mds\u001b[49m)\u001b[38;5;241m.\u001b[39mthetao\u001b[38;5;241m.\u001b[39mcompute()\n\u001b[1;32m      2\u001b[0m tmphi \u001b[38;5;241m=\u001b[39m weighted_average(ds_hi)\u001b[38;5;241m.\u001b[39mthetao\u001b[38;5;241m.\u001b[39mcompute()\n",
      "\u001b[0;31mNameError\u001b[0m: name 'ds' is not defined"
     ]
    }
   ],
   "source": [
    "tmp = weighted_average(ds).thetao.compute()\n",
    "tmphi = weighted_average(ds_hi).thetao.compute()"
   ]
  },
  {
   "cell_type": "code",
   "execution_count": 1,
   "id": "6b1600d0-b7e3-46d6-897b-a74360b3edb7",
   "metadata": {
    "tags": []
   },
   "outputs": [
    {
     "ename": "NameError",
     "evalue": "name 'tmp' is not defined",
     "output_type": "error",
     "traceback": [
      "\u001b[0;31m---------------------------------------------------------------------------\u001b[0m",
      "\u001b[0;31mNameError\u001b[0m                                 Traceback (most recent call last)",
      "Cell \u001b[0;32mIn[1], line 1\u001b[0m\n\u001b[0;32m----> 1\u001b[0m (\u001b[43mtmp\u001b[49m \u001b[38;5;241m-\u001b[39m tmp[\u001b[38;5;241m0\u001b[39m])\u001b[38;5;241m.\u001b[39mplot()\n\u001b[1;32m      2\u001b[0m (tmphi \u001b[38;5;241m-\u001b[39m tmphi[\u001b[38;5;241m0\u001b[39m])\u001b[38;5;241m.\u001b[39mplot()\n",
      "\u001b[0;31mNameError\u001b[0m: name 'tmp' is not defined"
     ]
    }
   ],
   "source": [
    "(tmp - tmp[0]).plot()\n",
    "(tmphi - tmphi[0]).plot()"
   ]
  },
  {
   "cell_type": "code",
   "execution_count": null,
   "id": "f5378c76-baa4-4b76-9897-8161df01e0fc",
   "metadata": {},
   "outputs": [],
   "source": []
  }
 ],
 "metadata": {
  "kernelspec": {
   "display_name": "“cm4x_analysis”",
   "language": "python",
   "name": "cm4x_analysis"
  },
  "language_info": {
   "codemirror_mode": {
    "name": "ipython",
    "version": 3
   },
   "file_extension": ".py",
   "mimetype": "text/x-python",
   "name": "python",
   "nbconvert_exporter": "python",
   "pygments_lexer": "ipython3",
   "version": "3.12.4"
  }
 },
 "nbformat": 4,
 "nbformat_minor": 5
}
