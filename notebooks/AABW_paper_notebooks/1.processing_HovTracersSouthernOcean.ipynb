{
 "cells": [
  {
   "cell_type": "code",
   "execution_count": 1,
   "id": "fef38425-241d-4f70-880a-9f4cdee2ca22",
   "metadata": {},
   "outputs": [],
   "source": [
    "%load_ext autoreload\n",
    "%autoreload 2"
   ]
  },
  {
   "cell_type": "code",
   "execution_count": 2,
   "id": "e2e0ae96-754b-453c-bc47-d7b4255b92b2",
   "metadata": {},
   "outputs": [],
   "source": [
    "import warnings\n",
    "import matplotlib.pyplot as plt"
   ]
  },
  {
   "cell_type": "code",
   "execution_count": 3,
   "id": "1344ba68-cd49-4ab1-b0a2-5e54b05a5a63",
   "metadata": {},
   "outputs": [],
   "source": [
    "import numpy as np\n",
    "import glob\n",
    "import xarray as xr\n",
    "import xbudget\n",
    "import regionate\n",
    "import xwmt\n",
    "import xwmb\n",
    "import xgcm\n",
    "import cartopy.crs as ccrs\n",
    "import CM4Xutils #needed to run pip install nc-time-axis\n",
    "from regionate import MaskRegions, GriddedRegion"
   ]
  },
  {
   "cell_type": "code",
   "execution_count": 4,
   "id": "5d18c141-86f5-48ee-907c-074b5b1152fe",
   "metadata": {},
   "outputs": [],
   "source": [
    "import sys\n",
    "sys.path.insert(0, '/vortexfs1/home/anthony.meza/scratch/CM4XTransientTracers/src')\n",
    "from src import *"
   ]
  },
  {
   "cell_type": "markdown",
   "id": "a46f6332-4dc9-4a45-8514-4ea0a994cb02",
   "metadata": {},
   "source": [
    "### Request HPC Resources"
   ]
  },
  {
   "cell_type": "code",
   "execution_count": 5,
   "id": "30250de5-1ed4-4a27-af61-2457b1eac6bc",
   "metadata": {},
   "outputs": [
    {
     "name": "stdout",
     "output_type": "stream",
     "text": [
      "#!/usr/bin/env bash\n",
      "\n",
      "#SBATCH -J dask-worker\n",
      "#SBATCH -e /vortexfs1/home/anthony.meza/scratch/CM4X/CM4XTransientTracers/WaterMassBudgets/logs/dask-worker-%J.err\n",
      "#SBATCH -o /vortexfs1/home/anthony.meza/scratch/CM4X/CM4XTransientTracers/WaterMassBudgets/logs/dask-worker-%J.out\n",
      "#SBATCH -p compute\n",
      "#SBATCH -n 1\n",
      "#SBATCH --cpus-per-task=36\n",
      "#SBATCH --mem=177G\n",
      "#SBATCH -t 03:00:00\n",
      "\n",
      "/vortexfs1/home/anthony.meza/miniforge3/envs/cm4x_analysis/bin/python -m distributed.cli.dask_worker tcp://172.16.3.90:38200 --name dummy-name --nthreads 36 --memory-limit 176.95GiB --nanny --death-timeout 60 --interface ib0\n",
      "\n"
     ]
    },
    {
     "data": {
      "text/html": [
       "<div>\n",
       "    <div style=\"width: 24px; height: 24px; background-color: #e1e1e1; border: 3px solid #9D9D9D; border-radius: 5px; position: absolute;\"> </div>\n",
       "    <div style=\"margin-left: 48px;\">\n",
       "        <h3 style=\"margin-bottom: 0px;\">Client</h3>\n",
       "        <p style=\"color: #9D9D9D; margin-bottom: 0px;\">Client-234ce9c5-13be-11f0-bab9-3cfdfe55fb40</p>\n",
       "        <table style=\"width: 100%; text-align: left;\">\n",
       "\n",
       "        <tr>\n",
       "        \n",
       "            <td style=\"text-align: left;\"><strong>Connection method:</strong> Cluster object</td>\n",
       "            <td style=\"text-align: left;\"><strong>Cluster type:</strong> dask_jobqueue.SLURMCluster</td>\n",
       "        \n",
       "        </tr>\n",
       "\n",
       "        \n",
       "            <tr>\n",
       "                <td style=\"text-align: left;\">\n",
       "                    <strong>Dashboard: </strong> <a href=\"/proxy/8787/status\" target=\"_blank\">/proxy/8787/status</a>\n",
       "                </td>\n",
       "                <td style=\"text-align: left;\"></td>\n",
       "            </tr>\n",
       "        \n",
       "\n",
       "        </table>\n",
       "\n",
       "        \n",
       "            <button style=\"margin-bottom: 12px;\" data-commandlinker-command=\"dask:populate-and-launch-layout\" data-commandlinker-args='{\"url\": \"/proxy/8787/status\" }'>\n",
       "                Launch dashboard in JupyterLab\n",
       "            </button>\n",
       "        \n",
       "\n",
       "        \n",
       "            <details>\n",
       "            <summary style=\"margin-bottom: 20px;\"><h3 style=\"display: inline;\">Cluster Info</h3></summary>\n",
       "            <div class=\"jp-RenderedHTMLCommon jp-RenderedHTML jp-mod-trusted jp-OutputArea-output\">\n",
       "    <div style=\"width: 24px; height: 24px; background-color: #e1e1e1; border: 3px solid #9D9D9D; border-radius: 5px; position: absolute;\">\n",
       "    </div>\n",
       "    <div style=\"margin-left: 48px;\">\n",
       "        <h3 style=\"margin-bottom: 0px; margin-top: 0px;\">SLURMCluster</h3>\n",
       "        <p style=\"color: #9D9D9D; margin-bottom: 0px;\">df90682f</p>\n",
       "        <table style=\"width: 100%; text-align: left;\">\n",
       "            <tr>\n",
       "                <td style=\"text-align: left;\">\n",
       "                    <strong>Dashboard:</strong> <a href=\"/proxy/8787/status\" target=\"_blank\">/proxy/8787/status</a>\n",
       "                </td>\n",
       "                <td style=\"text-align: left;\">\n",
       "                    <strong>Workers:</strong> 0\n",
       "                </td>\n",
       "            </tr>\n",
       "            <tr>\n",
       "                <td style=\"text-align: left;\">\n",
       "                    <strong>Total threads:</strong> 0\n",
       "                </td>\n",
       "                <td style=\"text-align: left;\">\n",
       "                    <strong>Total memory:</strong> 0 B\n",
       "                </td>\n",
       "            </tr>\n",
       "            \n",
       "        </table>\n",
       "\n",
       "        <details>\n",
       "            <summary style=\"margin-bottom: 20px;\">\n",
       "                <h3 style=\"display: inline;\">Scheduler Info</h3>\n",
       "            </summary>\n",
       "\n",
       "            <div style=\"\">\n",
       "    <div>\n",
       "        <div style=\"width: 24px; height: 24px; background-color: #FFF7E5; border: 3px solid #FF6132; border-radius: 5px; position: absolute;\"> </div>\n",
       "        <div style=\"margin-left: 48px;\">\n",
       "            <h3 style=\"margin-bottom: 0px;\">Scheduler</h3>\n",
       "            <p style=\"color: #9D9D9D; margin-bottom: 0px;\">Scheduler-1ee78778-d9ec-4e9f-bdeb-1d76a50ff279</p>\n",
       "            <table style=\"width: 100%; text-align: left;\">\n",
       "                <tr>\n",
       "                    <td style=\"text-align: left;\">\n",
       "                        <strong>Comm:</strong> tcp://172.16.3.90:38200\n",
       "                    </td>\n",
       "                    <td style=\"text-align: left;\">\n",
       "                        <strong>Workers:</strong> 0\n",
       "                    </td>\n",
       "                </tr>\n",
       "                <tr>\n",
       "                    <td style=\"text-align: left;\">\n",
       "                        <strong>Dashboard:</strong> <a href=\"/proxy/8787/status\" target=\"_blank\">/proxy/8787/status</a>\n",
       "                    </td>\n",
       "                    <td style=\"text-align: left;\">\n",
       "                        <strong>Total threads:</strong> 0\n",
       "                    </td>\n",
       "                </tr>\n",
       "                <tr>\n",
       "                    <td style=\"text-align: left;\">\n",
       "                        <strong>Started:</strong> Just now\n",
       "                    </td>\n",
       "                    <td style=\"text-align: left;\">\n",
       "                        <strong>Total memory:</strong> 0 B\n",
       "                    </td>\n",
       "                </tr>\n",
       "            </table>\n",
       "        </div>\n",
       "    </div>\n",
       "\n",
       "    <details style=\"margin-left: 48px;\">\n",
       "        <summary style=\"margin-bottom: 20px;\">\n",
       "            <h3 style=\"display: inline;\">Workers</h3>\n",
       "        </summary>\n",
       "\n",
       "        \n",
       "\n",
       "    </details>\n",
       "</div>\n",
       "\n",
       "        </details>\n",
       "    </div>\n",
       "</div>\n",
       "            </details>\n",
       "        \n",
       "\n",
       "    </div>\n",
       "</div>"
      ],
      "text/plain": [
       "<Client: 'tcp://172.16.3.90:38200' processes=0 threads=0, memory=0 B>"
      ]
     },
     "execution_count": 5,
     "metadata": {},
     "output_type": "execute_result"
    }
   ],
   "source": [
    "from dask_jobqueue import SLURMCluster  # setup dask cluster \n",
    "from dask.distributed import Client\n",
    "\n",
    "log_directory=\"/vortexfs1/home/anthony.meza/scratch/CM4X/CM4XTransientTracers/WaterMassBudgets/logs\"\n",
    "\n",
    "cluster = SLURMCluster(\n",
    "    cores=36,\n",
    "    processes=1,\n",
    "    memory='190GB',\n",
    "    walltime='03:00:00',\n",
    "    queue='compute',\n",
    "    interface='ib0', \n",
    "log_directory = log_directory)\n",
    "print(cluster.job_script())\n",
    "cluster.scale(jobs=4)\n",
    "\n",
    "client = Client(cluster)\n",
    "client"
   ]
  },
  {
   "cell_type": "markdown",
   "id": "158f9eff-ddad-4e01-b33c-52f33858da46",
   "metadata": {},
   "source": [
    "### Load in data"
   ]
  },
  {
   "cell_type": "code",
   "execution_count": 6,
   "id": "1f751650-c1f2-4bee-b9db-8bc16d15ff2c",
   "metadata": {},
   "outputs": [],
   "source": [
    "import cmocean\n",
    "model2glodap_names = {'cfc12':'cfc12','cfc11':'cfc11','sf6':'sf6','thetao':'theta','so':'salinity'}\n",
    "variable_kwargs = {\n",
    "    'cfc12':{'conversion':1e12/1035,'cmap':'Greens','units':'pmol kg-1'}, #originally mol/m^3\n",
    "    'cfc11':{'conversion':1e12/1035,'cmap':'PuRd','units':'pmol kg-1'},\n",
    "    'sf6':{'conversion':1e12/1035 * 1e3,'cmap':'Blues','units':'fmol kg-1'},\n",
    "    'theta':{'conversion':1,'cmap':cmocean.cm.thermal,'units':'degK','bins':np.arange(-2,35,0.2),'anombins':np.arange(-4,4.05,0.05)},\n",
    "    'thetao':{'conversion':1,'cmap':cmocean.cm.thermal,'units':'deg C','bins':np.arange(-2,35,0.2),'anombins':np.arange(-4,4.05,0.05)},\n",
    "    'salinity':{'conversion':1,'cmap':cmocean.cm.haline,'units':'psu','bins':np.arange(32,37,0.05),'anombins':np.arange(-1,1.02,0.02)}\n",
    "}"
   ]
  },
  {
   "cell_type": "code",
   "execution_count": 7,
   "id": "b408827f-0c2a-4c2c-aa2f-260627ca4ce9",
   "metadata": {},
   "outputs": [],
   "source": [
    "import glob\n",
    "datadir = lambda x=\"\" : \"/vortexfs1/home/anthony.meza/scratch/CM4XTransientTracers/data/model/tracers_sigma2/\" + x\n",
    "\n",
    "spinup_datafiles = sorted(glob.glob(datadir(\"CM4Xp125*spinup*\")))\n",
    "historical_datafiles = sorted(glob.glob(datadir(\"CM4Xp125*historical*\")))\n",
    "ssp585_datafiles = sorted(glob.glob(datadir(\"CM4Xp125_ssp585*\")))\n",
    "picontrol_datafiles = sorted(glob.glob(datadir(\"CM4Xp125*piControl*\")))\n",
    "picontrol_datafiles = sorted(list(set(picontrol_datafiles) - set(spinup_datafiles)))\n",
    "\n",
    "expt_datafiles = {\"forced\": historical_datafiles + ssp585_datafiles, \n",
    "                  \"control\": picontrol_datafiles}"
   ]
  },
  {
   "cell_type": "code",
   "execution_count": 9,
   "id": "0f2a4037-0519-45e1-96eb-891229b59551",
   "metadata": {},
   "outputs": [
    {
     "name": "stdout",
     "output_type": "stream",
     "text": [
      "forced : /vortexfs1/home/anthony.meza/scratch/CM4XTransientTracers/data/model/tracers_sigma2/CM4Xp125_historical_tracers_sigma2_1850-1854.zarr\n",
      "forced : /vortexfs1/home/anthony.meza/scratch/CM4XTransientTracers/data/model/tracers_sigma2/CM4Xp125_historical_tracers_sigma2_1855-1859.zarr\n",
      "forced : /vortexfs1/home/anthony.meza/scratch/CM4XTransientTracers/data/model/tracers_sigma2/CM4Xp125_historical_tracers_sigma2_1860-1864.zarr\n",
      "forced : /vortexfs1/home/anthony.meza/scratch/CM4XTransientTracers/data/model/tracers_sigma2/CM4Xp125_historical_tracers_sigma2_1865-1869.zarr\n",
      "forced : /vortexfs1/home/anthony.meza/scratch/CM4XTransientTracers/data/model/tracers_sigma2/CM4Xp125_historical_tracers_sigma2_1870-1874.zarr\n",
      "forced : /vortexfs1/home/anthony.meza/scratch/CM4XTransientTracers/data/model/tracers_sigma2/CM4Xp125_historical_tracers_sigma2_1875-1879.zarr\n",
      "forced : /vortexfs1/home/anthony.meza/scratch/CM4XTransientTracers/data/model/tracers_sigma2/CM4Xp125_historical_tracers_sigma2_1880-1884.zarr\n",
      "forced : /vortexfs1/home/anthony.meza/scratch/CM4XTransientTracers/data/model/tracers_sigma2/CM4Xp125_historical_tracers_sigma2_1885-1889.zarr\n",
      "forced : /vortexfs1/home/anthony.meza/scratch/CM4XTransientTracers/data/model/tracers_sigma2/CM4Xp125_historical_tracers_sigma2_1890-1894.zarr\n",
      "forced : /vortexfs1/home/anthony.meza/scratch/CM4XTransientTracers/data/model/tracers_sigma2/CM4Xp125_historical_tracers_sigma2_1895-1899.zarr\n",
      "Saving forced to :  /vortexfs1/home/anthony.meza/scratch/CM4XTransientTracers/data/model/SO_Tracer_Hov_forced_w_sigma2.nc\n",
      "control : /vortexfs1/home/anthony.meza/scratch/CM4XTransientTracers/data/model/tracers_sigma2/CM4Xp125_piControl_tracers_sigma2_0101-0105.zarr\n",
      "control : /vortexfs1/home/anthony.meza/scratch/CM4XTransientTracers/data/model/tracers_sigma2/CM4Xp125_piControl_tracers_sigma2_0106-0110.zarr\n",
      "control : /vortexfs1/home/anthony.meza/scratch/CM4XTransientTracers/data/model/tracers_sigma2/CM4Xp125_piControl_tracers_sigma2_0111-0115.zarr\n",
      "control : /vortexfs1/home/anthony.meza/scratch/CM4XTransientTracers/data/model/tracers_sigma2/CM4Xp125_piControl_tracers_sigma2_0116-0120.zarr\n",
      "control : /vortexfs1/home/anthony.meza/scratch/CM4XTransientTracers/data/model/tracers_sigma2/CM4Xp125_piControl_tracers_sigma2_0121-0125.zarr\n",
      "control : /vortexfs1/home/anthony.meza/scratch/CM4XTransientTracers/data/model/tracers_sigma2/CM4Xp125_piControl_tracers_sigma2_0126-0130.zarr\n",
      "control : /vortexfs1/home/anthony.meza/scratch/CM4XTransientTracers/data/model/tracers_sigma2/CM4Xp125_piControl_tracers_sigma2_0131-0135.zarr\n",
      "control : /vortexfs1/home/anthony.meza/scratch/CM4XTransientTracers/data/model/tracers_sigma2/CM4Xp125_piControl_tracers_sigma2_0136-0140.zarr\n",
      "control : /vortexfs1/home/anthony.meza/scratch/CM4XTransientTracers/data/model/tracers_sigma2/CM4Xp125_piControl_tracers_sigma2_0141-0145.zarr\n",
      "control : /vortexfs1/home/anthony.meza/scratch/CM4XTransientTracers/data/model/tracers_sigma2/CM4Xp125_piControl_tracers_sigma2_0146-0150.zarr\n",
      "Saving control to :  /vortexfs1/home/anthony.meza/scratch/CM4XTransientTracers/data/model/SO_Tracer_Hov_control_w_sigma2.nc\n"
     ]
    }
   ],
   "source": [
    "for key in expt_datafiles.keys():\n",
    "    datafiles = expt_datafiles[key]\n",
    "    ds_hovs = []\n",
    "    for (t, file) in enumerate(datafiles): \n",
    "        print(key, \":\", file)\n",
    "        ds = xr.open_mfdataset(\n",
    "            file,\n",
    "            data_vars=\"minimal\",\n",
    "            coords=\"minimal\",\n",
    "            compat=\"override\",\n",
    "            parallel=True,\n",
    "            engine=\"zarr\")\n",
    "        \n",
    "        # ds[\"z\"] = approximate_z_bottom_up(ds, dim = \"sigma2\")\n",
    "        \n",
    "        ds[\"Z\"] = approximate_z_on_boundaries(ds, dim = \"sigma2\")\n",
    "        \n",
    "        ds[\"density\"] = ds.sigma2_l * xr.where(ds.thkcello.fillna(0.0) > 0.0, 1, 0) \n",
    "        ds[\"density\"] = ds[\"density\"].where(ds[\"density\"] > 0)\n",
    "        ds[\"density\"].attrs[\"cell_methods\"] = ds[\"thetao\"].attrs[\"cell_methods\"]\n",
    "\n",
    "        ds = ds.chunk({\"sigma2_l\":-1, \"sigma2_i\":-1, \"time\":1})\n",
    "        grid = CM4Xutils.ds_to_grid(ds, Zprefix = \"sigma2\")\n",
    "\n",
    "        # dz = 20\n",
    "        # z_i = np.arange(-6500, 200 + 0.1, dz)\n",
    "        z_i_1 = np.arange(-6320, -5000 + 0.1, 20)\n",
    "        z_i_2 = np.arange(z_i_1[-1], 300 + 0.1, 100)\n",
    "        z_i = np.unique(np.concatenate([z_i_1, z_i_2]))\n",
    "        z_l = (z_i[1:] + z_i[0:-1]) / 2\n",
    "        ds = ds.assign_coords({\"Z_l\": z_l, \"Z_i\":z_i})\n",
    "        \n",
    "        with warnings.catch_warnings():\n",
    "            warnings.simplefilter(action='ignore', category=FutureWarning)\n",
    "            warnings.simplefilter(action='ignore', category=UserWarning)\n",
    "            ds_remap = remap_vertical_coord_custom(\"Z\", ds, grid, ds[\"Z\"])            \n",
    "            \n",
    "        ds_remap_SO = ds_remap.where(ds_remap.geolat < -40)\n",
    "        # ds_remap_SO[\"sigma2\"] = calc_sigma2(ds_remap_SO, z_name = \"Z_l\")\n",
    "        ds_SO_hov = volume_weighted_average(ds_remap_SO).compute()\n",
    "\n",
    "        ds_hovs += [1 * ds_SO_hov]\n",
    "\n",
    "    ds_hov_ts = xr.concat(ds_hovs, dim = \"time\").sortby(\"time\")\n",
    "    \n",
    "    savedir = \"/vortexfs1/home/anthony.meza/scratch/CM4XTransientTracers/data/model/\"\n",
    "    \n",
    "    savename = savedir + f\"SO_Tracer_Hov_{key}_w_sigma2.nc\"\n",
    "    print(f\"Saving {key} to\", \": \", savename)\n",
    "    ds_hov_ts.to_netcdf(savename)"
   ]
  },
  {
   "cell_type": "code",
   "execution_count": 10,
   "id": "1074a32d-26eb-48f5-ba71-f31a252109d1",
   "metadata": {},
   "outputs": [],
   "source": [
    "ds_forced = xr.open_dataset(datadir(\"../SO_Tracer_Hov_forced_w_sigma2.nc\"))\n",
    "ds_ctrl = xr.open_dataset(datadir(\"../SO_Tracer_Hov_control_w_sigma2.nc\"))\n",
    "ds_ctrl.coords[\"time\"] = ds_forced.time.values"
   ]
  },
  {
   "cell_type": "code",
   "execution_count": 11,
   "id": "63ac3402-fc12-4df5-807a-e41d5d5f5afe",
   "metadata": {},
   "outputs": [
    {
     "ename": "AttributeError",
     "evalue": "'Dataset' object has no attribute 'sigma2'",
     "output_type": "error",
     "traceback": [
      "\u001b[0;31m---------------------------------------------------------------------------\u001b[0m",
      "\u001b[0;31mAttributeError\u001b[0m                            Traceback (most recent call last)",
      "Cell \u001b[0;32mIn[11], line 2\u001b[0m\n\u001b[1;32m      1\u001b[0m fig, ax \u001b[38;5;241m=\u001b[39m plt\u001b[38;5;241m.\u001b[39msubplots(\u001b[38;5;241m1\u001b[39m, \u001b[38;5;241m2\u001b[39m, figsize \u001b[38;5;241m=\u001b[39m (\u001b[38;5;241m10\u001b[39m, \u001b[38;5;241m4\u001b[39m), sharex \u001b[38;5;241m=\u001b[39m \u001b[38;5;28;01mTrue\u001b[39;00m)\n\u001b[0;32m----> 2\u001b[0m \u001b[43mds_ctrl\u001b[49m\u001b[38;5;241;43m.\u001b[39;49m\u001b[43msigma2\u001b[49m\u001b[38;5;241m.\u001b[39mT\u001b[38;5;241m.\u001b[39mplot(ax \u001b[38;5;241m=\u001b[39m ax[\u001b[38;5;241m0\u001b[39m], vmin \u001b[38;5;241m=\u001b[39m \u001b[38;5;241m34\u001b[39m, vmax \u001b[38;5;241m=\u001b[39m \u001b[38;5;241m40\u001b[39m)\n\u001b[1;32m      3\u001b[0m ax[\u001b[38;5;241m0\u001b[39m]\u001b[38;5;241m.\u001b[39mset_title(\u001b[38;5;124m\"\u001b[39m\u001b[38;5;124mControl\u001b[39m\u001b[38;5;124m\"\u001b[39m)\n\u001b[1;32m      4\u001b[0m ds_forced\u001b[38;5;241m.\u001b[39msigma2\u001b[38;5;241m.\u001b[39mT\u001b[38;5;241m.\u001b[39mplot(ax \u001b[38;5;241m=\u001b[39m ax[\u001b[38;5;241m1\u001b[39m], vmin \u001b[38;5;241m=\u001b[39m \u001b[38;5;241m34\u001b[39m, vmax \u001b[38;5;241m=\u001b[39m \u001b[38;5;241m40\u001b[39m)\n",
      "File \u001b[0;32m~/miniforge3/envs/cm4x_analysis/lib/python3.12/site-packages/xarray/core/common.py:300\u001b[0m, in \u001b[0;36mAttrAccessMixin.__getattr__\u001b[0;34m(self, name)\u001b[0m\n\u001b[1;32m    298\u001b[0m         \u001b[38;5;28;01mwith\u001b[39;00m suppress(\u001b[38;5;167;01mKeyError\u001b[39;00m):\n\u001b[1;32m    299\u001b[0m             \u001b[38;5;28;01mreturn\u001b[39;00m source[name]\n\u001b[0;32m--> 300\u001b[0m \u001b[38;5;28;01mraise\u001b[39;00m \u001b[38;5;167;01mAttributeError\u001b[39;00m(\n\u001b[1;32m    301\u001b[0m     \u001b[38;5;124mf\u001b[39m\u001b[38;5;124m\"\u001b[39m\u001b[38;5;132;01m{\u001b[39;00m\u001b[38;5;28mtype\u001b[39m(\u001b[38;5;28mself\u001b[39m)\u001b[38;5;241m.\u001b[39m\u001b[38;5;18m__name__\u001b[39m\u001b[38;5;132;01m!r}\u001b[39;00m\u001b[38;5;124m object has no attribute \u001b[39m\u001b[38;5;132;01m{\u001b[39;00mname\u001b[38;5;132;01m!r}\u001b[39;00m\u001b[38;5;124m\"\u001b[39m\n\u001b[1;32m    302\u001b[0m )\n",
      "\u001b[0;31mAttributeError\u001b[0m: 'Dataset' object has no attribute 'sigma2'"
     ]
    },
    {
     "data": {
      "image/png": "[encoded data removed]",
      "text/plain": [
       "<Figure size 1000x400 with 2 Axes>"
      ]
     },
     "metadata": {},
     "output_type": "display_data"
    }
   ],
   "source": [
    "fig, ax = plt.subplots(1, 2, figsize = (10, 4), sharex = True)\n",
    "ds_ctrl.sigma2.T.plot(ax = ax[0], vmin = 34, vmax = 40)\n",
    "ax[0].set_title(\"Control\")\n",
    "ds_forced.sigma2.T.plot(ax = ax[1], vmin = 34, vmax = 40)\n",
    "ax[1].set_title(\"Forced\")"
   ]
  },
  {
   "cell_type": "code",
   "execution_count": null,
   "id": "2f6e388e-c796-4d25-9e4e-453c3ec76f75",
   "metadata": {},
   "outputs": [],
   "source": [
    "fig, ax = plt.subplots(1, 2, figsize = (10, 4), sharex = True)\n",
    "ds_ctrl.thetao.T.plot.contourf(ax = ax[0], vmin = -2, vmax = 4)\n",
    "ax[0].set_title(\"Control\")\n",
    "ds_forced.thetao.T.plot.contourf(ax = ax[1], vmin = -2, vmax = 4)\n",
    "ax[1].set_title(\"Forced\")\n"
   ]
  },
  {
   "cell_type": "code",
   "execution_count": null,
   "id": "a80e7f24-f2f5-47c5-baf8-9c43f7f803dd",
   "metadata": {},
   "outputs": [],
   "source": [
    "tracer = \"cfc11\"\n",
    "levels = np.arange(0, 1.51, 0.25)\n",
    "fig, ax = plt.subplots(1, 2, figsize = (10, 4), sharex = True)\n",
    "(ds_ctrl.cfc11 * variable_kwargs[tracer][\"conversion\"]).T.plot.contourf(ax = ax[0], \n",
    "                                                                        levels = levels, \n",
    "                                                                        extend = \"both\", \n",
    "                                                                         cmap = \"Spectral_r\")\n",
    "ax[0].set_title(\"Control\")\n",
    "(ds_forced.cfc11 * variable_kwargs[tracer][\"conversion\"]).T.plot.contourf(ax = ax[1], \n",
    "                                                                          levels = levels, \n",
    "                                                                          extend = \"both\", \n",
    "                                                                         cmap = \"Spectral_r\")\n",
    "ax[1].set_title(\"Forced\")\n",
    "ax[0].set_xlim(1950., None)"
   ]
  },
  {
   "cell_type": "code",
   "execution_count": null,
   "id": "078bf710-592e-4ca8-a8ff-0a57ea2382c4",
   "metadata": {},
   "outputs": [],
   "source": []
  }
 ],
 "metadata": {
  "kernelspec": {
   "display_name": "Python 3 (ipykernel)",
   "language": "python",
   "name": "python3"
  },
  "language_info": {
   "codemirror_mode": {
    "name": "ipython",
    "version": 3
   },
   "file_extension": ".py",
   "mimetype": "text/x-python",
   "name": "python",
   "nbconvert_exporter": "python",
   "pygments_lexer": "ipython3",
   "version": "3.12.4"
  }
 },
 "nbformat": 4,
 "nbformat_minor": 5
}
