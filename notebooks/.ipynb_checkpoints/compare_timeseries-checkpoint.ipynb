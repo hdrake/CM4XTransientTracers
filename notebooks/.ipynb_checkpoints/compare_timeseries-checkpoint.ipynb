{
 "cells": [
  {
   "cell_type": "code",
   "execution_count": 1,
   "id": "160ff084-e266-4f51-b836-4274e5b7d603",
   "metadata": {
    "tags": []
   },
   "outputs": [],
   "source": [
    "import os\n",
    "import xarray as xr\n",
    "import pandas as pd\n",
    "import netCDF4 as nc\n",
    "from pathlib import Path\n",
    "from natsort import natsorted\n",
    "import matplotlib.pyplot as plt\n",
    "import gc\n",
    "import os \n",
    "from os.path import exists\n",
    "import dask_labextension\n",
    "import numpy as np\n",
    "import xarray as xr"
   ]
  },
  {
   "cell_type": "code",
   "execution_count": 2,
   "id": "69b796dd-a687-4716-b411-4cb6dd64df8f",
   "metadata": {
    "tags": []
   },
   "outputs": [],
   "source": [
    "def plotsdir(x = \"\"): \n",
    "    return \"/scratch/anthony.meza/CM4X/CM4XTransientTracers/figures\" + x"
   ]
  },
  {
   "cell_type": "code",
   "execution_count": 3,
   "id": "6ac69e8b-f2fb-4c02-800a-57f123b015df",
   "metadata": {
    "tags": []
   },
   "outputs": [],
   "source": [
    "import gsw, xwmt, xgcm\n",
    "import cmocean.cm as cm"
   ]
  },
  {
   "cell_type": "code",
   "execution_count": 4,
   "id": "b5e83791-91cb-4734-800d-d0438d394974",
   "metadata": {
    "tags": []
   },
   "outputs": [
    {
     "name": "stdout",
     "output_type": "stream",
     "text": [
      "#!/usr/bin/env bash\n",
      "\n",
      "#SBATCH -J dask-worker\n",
      "#SBATCH -p scavenger\n",
      "#SBATCH -n 1\n",
      "#SBATCH --cpus-per-task=36\n",
      "#SBATCH --mem=38G\n",
      "#SBATCH -t 02:00:00\n",
      "\n",
      "/vortexfs1/home/anthony.meza/mambaforge/envs/atm_rivers/bin/python -m distributed.cli.dask_worker tcp://172.16.3.54:32812 --nthreads 36 --memory-limit 37.25GiB --name dummy-name --nanny --death-timeout 60 --interface ib0\n",
      "\n"
     ]
    }
   ],
   "source": [
    "from dask_jobqueue import SLURMCluster  # setup dask cluster \n",
    "cluster = SLURMCluster(\n",
    "    cores=36,\n",
    "    processes=1,\n",
    "    memory='40GB',\n",
    "    walltime='02:00:00',\n",
    "    queue='scavenger',\n",
    "    interface='ib0')\n",
    "print(cluster.job_script())\n",
    "cluster.scale(jobs=16)\n",
    "from dask.distributed import Client\n",
    "client = Client(cluster)"
   ]
  },
  {
   "cell_type": "code",
   "execution_count": 5,
   "id": "9ab13768-acf0-4b51-adfc-b583246243ee",
   "metadata": {
    "tags": []
   },
   "outputs": [
    {
     "data": {
      "text/html": [
       "<div>\n",
       "    <div style=\"width: 24px; height: 24px; background-color: #e1e1e1; border: 3px solid #9D9D9D; border-radius: 5px; position: absolute;\"> </div>\n",
       "    <div style=\"margin-left: 48px;\">\n",
       "        <h3 style=\"margin-bottom: 0px;\">Client</h3>\n",
       "        <p style=\"color: #9D9D9D; margin-bottom: 0px;\">Client-42d105ac-ec7a-11ee-89e8-3cfdfe561760</p>\n",
       "        <table style=\"width: 100%; text-align: left;\">\n",
       "\n",
       "        <tr>\n",
       "        \n",
       "            <td style=\"text-align: left;\"><strong>Connection method:</strong> Cluster object</td>\n",
       "            <td style=\"text-align: left;\"><strong>Cluster type:</strong> dask_jobqueue.SLURMCluster</td>\n",
       "        \n",
       "        </tr>\n",
       "\n",
       "        \n",
       "            <tr>\n",
       "                <td style=\"text-align: left;\">\n",
       "                    <strong>Dashboard: </strong> <a href=\"/proxy/8787/status\" target=\"_blank\">/proxy/8787/status</a>\n",
       "                </td>\n",
       "                <td style=\"text-align: left;\"></td>\n",
       "            </tr>\n",
       "        \n",
       "\n",
       "        </table>\n",
       "\n",
       "        \n",
       "            <button style=\"margin-bottom: 12px;\" data-commandlinker-command=\"dask:populate-and-launch-layout\" data-commandlinker-args='{\"url\": \"/proxy/8787/status\" }'>\n",
       "                Launch dashboard in JupyterLab\n",
       "            </button>\n",
       "        \n",
       "\n",
       "        \n",
       "            <details>\n",
       "            <summary style=\"margin-bottom: 20px;\"><h3 style=\"display: inline;\">Cluster Info</h3></summary>\n",
       "            <div class=\"jp-RenderedHTMLCommon jp-RenderedHTML jp-mod-trusted jp-OutputArea-output\">\n",
       "    <div style=\"width: 24px; height: 24px; background-color: #e1e1e1; border: 3px solid #9D9D9D; border-radius: 5px; position: absolute;\">\n",
       "    </div>\n",
       "    <div style=\"margin-left: 48px;\">\n",
       "        <h3 style=\"margin-bottom: 0px; margin-top: 0px;\">SLURMCluster</h3>\n",
       "        <p style=\"color: #9D9D9D; margin-bottom: 0px;\">7dbc6fd1</p>\n",
       "        <table style=\"width: 100%; text-align: left;\">\n",
       "            <tr>\n",
       "                <td style=\"text-align: left;\">\n",
       "                    <strong>Dashboard:</strong> <a href=\"/proxy/8787/status\" target=\"_blank\">/proxy/8787/status</a>\n",
       "                </td>\n",
       "                <td style=\"text-align: left;\">\n",
       "                    <strong>Workers:</strong> 0\n",
       "                </td>\n",
       "            </tr>\n",
       "            <tr>\n",
       "                <td style=\"text-align: left;\">\n",
       "                    <strong>Total threads:</strong> 0\n",
       "                </td>\n",
       "                <td style=\"text-align: left;\">\n",
       "                    <strong>Total memory:</strong> 0 B\n",
       "                </td>\n",
       "            </tr>\n",
       "            \n",
       "        </table>\n",
       "\n",
       "        <details>\n",
       "            <summary style=\"margin-bottom: 20px;\">\n",
       "                <h3 style=\"display: inline;\">Scheduler Info</h3>\n",
       "            </summary>\n",
       "\n",
       "            <div style=\"\">\n",
       "    <div>\n",
       "        <div style=\"width: 24px; height: 24px; background-color: #FFF7E5; border: 3px solid #FF6132; border-radius: 5px; position: absolute;\"> </div>\n",
       "        <div style=\"margin-left: 48px;\">\n",
       "            <h3 style=\"margin-bottom: 0px;\">Scheduler</h3>\n",
       "            <p style=\"color: #9D9D9D; margin-bottom: 0px;\">Scheduler-ca2364da-6942-4376-9950-98c927fc055a</p>\n",
       "            <table style=\"width: 100%; text-align: left;\">\n",
       "                <tr>\n",
       "                    <td style=\"text-align: left;\">\n",
       "                        <strong>Comm:</strong> tcp://172.16.3.54:32812\n",
       "                    </td>\n",
       "                    <td style=\"text-align: left;\">\n",
       "                        <strong>Workers:</strong> 0\n",
       "                    </td>\n",
       "                </tr>\n",
       "                <tr>\n",
       "                    <td style=\"text-align: left;\">\n",
       "                        <strong>Dashboard:</strong> <a href=\"/proxy/8787/status\" target=\"_blank\">/proxy/8787/status</a>\n",
       "                    </td>\n",
       "                    <td style=\"text-align: left;\">\n",
       "                        <strong>Total threads:</strong> 0\n",
       "                    </td>\n",
       "                </tr>\n",
       "                <tr>\n",
       "                    <td style=\"text-align: left;\">\n",
       "                        <strong>Started:</strong> Just now\n",
       "                    </td>\n",
       "                    <td style=\"text-align: left;\">\n",
       "                        <strong>Total memory:</strong> 0 B\n",
       "                    </td>\n",
       "                </tr>\n",
       "            </table>\n",
       "        </div>\n",
       "    </div>\n",
       "\n",
       "    <details style=\"margin-left: 48px;\">\n",
       "        <summary style=\"margin-bottom: 20px;\">\n",
       "            <h3 style=\"display: inline;\">Workers</h3>\n",
       "        </summary>\n",
       "\n",
       "        \n",
       "\n",
       "    </details>\n",
       "</div>\n",
       "\n",
       "        </details>\n",
       "    </div>\n",
       "</div>\n",
       "            </details>\n",
       "        \n",
       "\n",
       "    </div>\n",
       "</div>"
      ],
      "text/plain": [
       "<Client: 'tcp://172.16.3.54:32812' processes=0 threads=0, memory=0 B>"
      ]
     },
     "execution_count": 5,
     "metadata": {},
     "output_type": "execute_result"
    }
   ],
   "source": [
    "client"
   ]
  },
  {
   "cell_type": "code",
   "execution_count": 6,
   "id": "c8bb8c29-f577-4e71-8468-4252f34d5b43",
   "metadata": {
    "tags": []
   },
   "outputs": [],
   "source": [
    "def get_sigma2(ds, keep_vars = False): \n",
    "    ds['p'] = xr.apply_ufunc(\n",
    "        gsw.p_from_z, ds.z, ds.lat, 0, 0, dask=\"parallelized\"\n",
    "    )\n",
    "\n",
    "\n",
    "    ds['sa'] = xr.apply_ufunc(\n",
    "        gsw.SA_from_SP,\n",
    "        ds.so,\n",
    "        ds.p,\n",
    "        ds.lon,\n",
    "        ds.lat,\n",
    "        dask=\"parallelized\",\n",
    "    )\n",
    "    ds['ct'] = xr.apply_ufunc(\n",
    "        gsw.CT_from_t,\n",
    "        ds.sa,\n",
    "        ds.thetao,\n",
    "        ds.p,\n",
    "        dask=\"parallelized\"\n",
    "    )\n",
    "\n",
    "    ds['sigma2'] = xr.apply_ufunc(\n",
    "        gsw.sigma2,\n",
    "        ds.sa,\n",
    "        ds.ct,\n",
    "        dask=\"parallelized\"\n",
    "    )\n",
    "    if keep_vars: \n",
    "        return ds\n",
    "    else: \n",
    "        return ds.drop_vars([\"p\", \"sa\", \"ct\"])"
   ]
  },
  {
   "cell_type": "code",
   "execution_count": 7,
   "id": "065e317b-9021-458f-bce7-660d7bea961c",
   "metadata": {
    "tags": []
   },
   "outputs": [],
   "source": [
    "def read_CM4X(fname): \n",
    "    return xr.open_mfdataset(\n",
    "        fname,\n",
    "        data_vars=\"minimal\",\n",
    "        coords=\"minimal\",\n",
    "        compat=\"override\",\n",
    "        parallel=True,\n",
    "        chunks={\"latitude\":-1, \"longitude\":-1, \"time\":-1, \"depth\":2},\n",
    "        engine=\"zarr\")\n",
    "\n",
    "def compute_depth_average(ds, zmin, zmax): \n",
    "    return ds.sel(zl = slice(zmin, zmax)).mean(\"zl\")"
   ]
  },
  {
   "cell_type": "code",
   "execution_count": 8,
   "id": "676c8aa8-f378-4e10-99a3-d09780a4d547",
   "metadata": {
    "tags": []
   },
   "outputs": [],
   "source": [
    "CM4Xp25_historical = read_CM4X(\"../../CM4Xp25_historical_transient_tracers.zarr\")\n",
    "CM4Xp25_ssp585 = read_CM4X(\"../../CM4Xp25_ssp585_transient_tracers.zarr\")\n",
    "CM4Xp25_piControl = read_CM4X(\"../../CM4Xp25_piControl_transient_tracers.zarr\")"
   ]
  },
  {
   "cell_type": "code",
   "execution_count": 9,
   "id": "0d310060-ba4a-4afe-9e9b-6fcfe8c0bb08",
   "metadata": {
    "tags": []
   },
   "outputs": [],
   "source": [
    "CFC_12_C = xr.open_mfdataset(\"../../CimoliData/CFC.nc\")\n",
    "CFC_11_C = xr.open_mfdataset(\"../../CimoliData/CFC11.nc\")\n",
    "SF6_C = xr.open_mfdataset(\"../../CimoliData/SF6.nc\")"
   ]
  },
  {
   "cell_type": "code",
   "execution_count": 10,
   "id": "692928bd-531d-4e4c-9919-bf693af60eb9",
   "metadata": {
    "tags": []
   },
   "outputs": [],
   "source": [
    "diff = -300 \n",
    "def get_time_series_cimoli(ds):\n",
    "    return ds.sel(longitude = slice(200, 220), latitude = slice(-40, -20)).mean([\"longitude\", \"latitude\"])\n",
    "    \n",
    "def get_time_series_CM4X(ds):\n",
    "    ds.sel(xh = slice(200 + diff, 220 + diff), yh = slice(-40, -20))\n",
    "    ds = (ds * ds.thkcello).sum([\"xh\", \"yh\"]) / ds.thkcello.sum([\"xh\", \"yh\"])\n",
    "    ds = ds.compute()\n",
    "    ds[\"lon\"] = 210\n",
    "    ds[\"lat\"] = -30\n",
    "\n",
    "    return ds\n"
   ]
  },
  {
   "cell_type": "code",
   "execution_count": 11,
   "id": "c285def9-8859-46af-bea5-bdf92d1dd228",
   "metadata": {
    "tags": []
   },
   "outputs": [],
   "source": [
    "CM4_timeseries = get_time_series_CM4X(CM4Xp25_historical)\n",
    "CM4_timeseries = get_sigma2(CM4_timeseries).compute()\n",
    "CFC_12_ts = get_time_series_cimoli(CFC_12_C).compute()\n",
    "CFC_11_ts = get_time_series_cimoli(CFC_11_C).compute()\n",
    "SF6_ts = get_time_series_cimoli(SF6_C).compute()"
   ]
  },
  {
   "cell_type": "code",
   "execution_count": 12,
   "id": "748170a6-4710-4c5f-bf65-bdd41dbc25be",
   "metadata": {
    "tags": []
   },
   "outputs": [],
   "source": [
    "from scipy.interpolate import interp1d"
   ]
  },
  {
   "cell_type": "code",
   "execution_count": null,
   "id": "7bf5193e-8dcf-47a8-8632-72b9b9b84e90",
   "metadata": {
    "tags": []
   },
   "outputs": [],
   "source": []
  },
  {
   "cell_type": "code",
   "execution_count": null,
   "id": "c8041894-f2d1-4067-8dd8-f156f3469cb5",
   "metadata": {},
   "outputs": [],
   "source": []
  },
  {
   "cell_type": "code",
   "execution_count": 37,
   "id": "5e90b80d-02ad-422d-9617-b3232af2090a",
   "metadata": {
    "tags": []
   },
   "outputs": [],
   "source": [
    "CM4_sigma2 = CM4_timeseries.sigma2.values \n",
    "mask = (CM4_sigma2 > 35.5) * (CM4_sigma2 < 35.71)\n",
    "CFC_masked = (CM4_timeseries.cfc12 * mask * CM4_timeseries.thkcello).mean(\"zl\")* 1e9"
   ]
  },
  {
   "cell_type": "code",
   "execution_count": 38,
   "id": "7f8cd687-d8f9-4769-9ac5-7826101bb90d",
   "metadata": {
    "tags": []
   },
   "outputs": [
    {
     "data": {
      "text/plain": [
       "<matplotlib.collections.PathCollection at 0x2aac2d43f880>"
      ]
     },
     "execution_count": 38,
     "metadata": {},
     "output_type": "execute_result"
    },
    {
     "data": {
      "image/png": "[encoded data removed]",
      "text/plain": [
       "<Figure size 640x480 with 1 Axes>"
      ]
     },
     "metadata": {},
     "output_type": "display_data"
    }
   ],
   "source": [
    "x = CFC_12_ts.sel(gamma_n = 2600, method = \"nearest\").cfc12_obs\n",
    "x_rec = CFC_12_ts.sel(gamma_n = 2600, method = \"nearest\").cfc12_rec\n",
    "\n",
    "plt.plot(CFC_12_ts.time, x_rec)\n",
    "plt.scatter(CFC_12_ts.time, x)\n",
    "plt.scatter(CFC_masked.year, CFC_masked)"
   ]
  },
  {
   "cell_type": "code",
   "execution_count": 39,
   "id": "27ea794b-7bc1-453f-8db9-d363738a16cc",
   "metadata": {},
   "outputs": [],
   "source": [
    "CM4_sigma2 = CM4_timeseries.sigma2.values \n",
    "mask = (CM4_sigma2 > 35.5) * (CM4_sigma2 < 35.71)\n",
    "\n",
    "CFC_masked = 1e9 * (CM4_timeseries.cfc11 * mask * CM4_timeseries.thkcello).sum(\"zl\") / (mask * CM4_timeseries.thkcello).sum(\"zl\")\n",
    "\n",
    "\n"
   ]
  },
  {
   "cell_type": "code",
   "execution_count": 40,
   "id": "a0e06126-1ce7-48d3-bfa5-88efcd4f81ce",
   "metadata": {
    "tags": []
   },
   "outputs": [],
   "source": [
    "CM4_sigma2 = CM4_timeseries.sigma2.values \n",
    "mask = (CM4_sigma2 > 35.5) * (CM4_sigma2 < 35.71)\n",
    "CFC_masked = 1e9 * (CM4_timeseries.sf6 * mask * CM4_timeseries.thkcello).sum(\"zl\") / (mask * CM4_timeseries.thkcello).sum(\"zl\")"
   ]
  },
  {
   "cell_type": "code",
   "execution_count": 41,
   "id": "4ac20170-cb61-4951-86d1-6cdb355a50ef",
   "metadata": {
    "tags": []
   },
   "outputs": [
    {
     "data": {
      "text/plain": [
       "[<matplotlib.lines.Line2D at 0x2aac2d852b90>]"
      ]
     },
     "execution_count": 41,
     "metadata": {},
     "output_type": "execute_result"
    },
    {
     "data": {
      "image/png": "[encoded data removed]",
      "text/plain": [
       "<Figure size 640x480 with 1 Axes>"
      ]
     },
     "metadata": {},
     "output_type": "display_data"
    }
   ],
   "source": [
    "x = SF6_ts.sel(gamma_n = 2600, method = \"nearest\").sf6_obs\n",
    "x_rec = SF6_ts.sel(gamma_n = 2600, method = \"nearest\").sf6_rec\n",
    "\n",
    "plt.plot(CFC_12_ts.time, x_rec)\n",
    "plt.scatter(CFC_12_ts.time, x)\n",
    "plt.plot(CFC_masked.year, CFC_masked)"
   ]
  },
  {
   "cell_type": "code",
   "execution_count": 42,
   "id": "4064c559-db9f-4d3a-89c0-d46bb0dd314c",
   "metadata": {},
   "outputs": [],
   "source": [
    "new_sigma_grid = np.linspace(CM4_timeseries.sigma2[0, :].min(), CM4_timeseries.sigma2[0, :].max())\n",
    "def interpolate_values(ds_sigma, ds_val):\n",
    "    interp = interp1d(ds_sigma.values, ds_val.values, \n",
    "                      bounds_error = False, kind = \"cubic\", fill_value=np.nan)\n",
    "    return interp(new_sigma_grid)\n",
    "    \n",
    "\n",
    "\n",
    "CFC12_interp = np.zeros((len(new_sigma_grid), CM4_timeseries.cfc12.shape[0]))\n",
    "\n",
    "for (i, y) in enumerate(CM4_timeseries.year):\n",
    "    ds = CM4_timeseries.isel(year = i)\n",
    "    CFC12_interp[:, i] = interpolate_values(ds.sigma2, ds.cfc12)[:]"
   ]
  },
  {
   "cell_type": "code",
   "execution_count": 43,
   "id": "c2071b24-ff5f-40ac-b1cc-c5b2915c5e2d",
   "metadata": {
    "tags": []
   },
   "outputs": [
    {
     "ename": "SyntaxError",
     "evalue": "'[' was never closed (1382553401.py, line 2)",
     "output_type": "error",
     "traceback": [
      "\u001b[0;36m  Cell \u001b[0;32mIn[43], line 2\u001b[0;36m\u001b[0m\n\u001b[0;31m    CFC12_interp[\u001b[0m\n\u001b[0m                ^\u001b[0m\n\u001b[0;31mSyntaxError\u001b[0m\u001b[0;31m:\u001b[0m '[' was never closed\n"
     ]
    }
   ],
   "source": [
    "mask = (new_sigma_grid > 35.5) * (new_sigma_grid < 35.71)\n",
    "CFC12_interp[\n",
    "CFC_masked = (CFC12_interp * mask).mean(axis = 0)* 1e9"
   ]
  },
  {
   "cell_type": "code",
   "execution_count": 44,
   "id": "86e91033-ec69-49e0-abc0-a239e7dc2fd7",
   "metadata": {
    "tags": []
   },
   "outputs": [
    {
     "data": {
      "text/plain": [
       "array([[ 0.00000000e+00,             nan,  0.00000000e+00, ...,\n",
       "         1.78069091e-09,  1.69929735e-09,  1.82157878e-09],\n",
       "       [ 0.00000000e+00,  0.00000000e+00,  0.00000000e+00, ...,\n",
       "         1.85214903e-09,  1.60004493e-09,  2.61958429e-09],\n",
       "       [ 0.00000000e+00,  0.00000000e+00,  0.00000000e+00, ...,\n",
       "         1.69311999e-09,  1.62017981e-09,  2.60608887e-09],\n",
       "       ...,\n",
       "       [ 0.00000000e+00,  0.00000000e+00,  0.00000000e+00, ...,\n",
       "         1.73389913e-10, -1.77168414e-09,  5.22760840e-10],\n",
       "       [ 0.00000000e+00,  0.00000000e+00,  0.00000000e+00, ...,\n",
       "        -3.35648319e-10,  4.34368003e-09, -1.16027502e-09],\n",
       "       [ 0.00000000e+00,             nan,             nan, ...,\n",
       "                    nan,             nan,             nan]])"
      ]
     },
     "execution_count": 44,
     "metadata": {},
     "output_type": "execute_result"
    }
   ],
   "source": [
    "CFC12_interp"
   ]
  },
  {
   "cell_type": "code",
   "execution_count": 45,
   "id": "2a73cfc1-5b61-4952-ab22-ee7d3f02125d",
   "metadata": {
    "tags": []
   },
   "outputs": [
    {
     "data": {
      "text/plain": [
       "Text(510.3244949494949, 0.5, '$\\\\gamma_n$')"
      ]
     },
     "execution_count": 45,
     "metadata": {},
     "output_type": "execute_result"
    },
    {
     "data": {
      "image/png": "[encoded data removed]",
      "text/plain": [
       "<Figure size 1000x500 with 2 Axes>"
      ]
     },
     "metadata": {},
     "output_type": "display_data"
    }
   ],
   "source": [
    "fig, ax = plt.subplots(1,2,figsize=(10, 5), sharey = False, sharex = True)\n",
    "# fig.suptitle(\"Average CFC-12, CFC-11 and SF6 Concentrations along section P16 \\n t = 2010 - 2014\", fontsize = 14, y = 1, x = 0.5)\n",
    "\n",
    "fig.tight_layout()\n",
    "fig.subplots_adjust(wspace = 0.4, hspace = 0.3)\n",
    "\n",
    "\n",
    "# [a.set_ylim(23, 28) for a in axes[:, 1].flatten()]\n",
    "# [a.set_ylim(30, 37) for a in axes[:, 0].flatten()]\n",
    "[a.set_xlim(1940, 2020) for a in ax.flatten()]\n",
    "\n",
    "\n",
    "ax[0].pcolormesh(CM4_timeseries.year,new_sigma_grid,CFC12_interp * 1e9, vmin = 0, vmax = 3, shading = \"nearest\")\n",
    "ax[1].pcolormesh(CFC_12_ts.time,CFC_12_ts.gamma_n / 100,CFC_12_ts.cfc12_rec, vmin = 0, vmax = 3,shading = \"nearest\")\n",
    "\n",
    "# fig.colorbar(cm, ax = ax[:], label = \"CFC12 [pmol/kg]\", orientation = \"vertical\", fraction = 0.06)\n",
    "[a.invert_yaxis() for a in ax[:]]\n",
    "ax[0].set_title(\"CM4X Historical, 1/4° Resolution\")\n",
    "ax[1].set_title(\"TCM Reconstruction (Cimoli, et. al. 2023)\")\n",
    "ax[0].set_ylabel(r\"$\\sigma_2$\")\n",
    "ax[1].set_ylabel(r\"$\\gamma_n$\")"
   ]
  },
  {
   "cell_type": "code",
   "execution_count": null,
   "id": "e967cc8c-fbf4-4b2a-ad27-f8db9ad10cd7",
   "metadata": {},
   "outputs": [],
   "source": []
  }
 ],
 "metadata": {
  "kernelspec": {
   "display_name": "Python (Atmospheric Rivers)",
   "language": "python",
   "name": "atm_rivers"
  },
  "language_info": {
   "codemirror_mode": {
    "name": "ipython",
    "version": 3
   },
   "file_extension": ".py",
   "mimetype": "text/x-python",
   "name": "python",
   "nbconvert_exporter": "python",
   "pygments_lexer": "ipython3",
   "version": "3.10.10"
  }
 },
 "nbformat": 4,
 "nbformat_minor": 5
}
