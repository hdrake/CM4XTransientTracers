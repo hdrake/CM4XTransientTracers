{
 "cells": [
  {
   "cell_type": "code",
   "execution_count": null,
   "id": "ecca0f25-af9d-477c-935c-334d4819ffc9",
   "metadata": {},
   "outputs": [],
   "source": [
    "import xarray as xr\n",
    "import matplotlib.pyplot as plt\n",
    "import pandas as pd\n",
    "\n",
    "import cftime\n",
    "import numpy as np\n",
    "import matplotlib.dates as mdates"
   ]
  },
  {
   "cell_type": "code",
   "execution_count": null,
   "id": "8ac0ec30-dec2-4594-a92e-4a444d3940b4",
   "metadata": {},
   "outputs": [],
   "source": [
    "df_cfc11 = pd.read_csv(\"/work/hfd/datasets/ScenarioMIP/f11_gblannualdata\", skiprows=1, delim_whitespace=\" \", names=[\"year\", \"CFC11\"])\n",
    "df_cfc12 = pd.read_csv(\"/work/hfd/datasets/ScenarioMIP/f12_gblannualdata\", skiprows=1, delim_whitespace=\" \", names=[\"year\", \"CFC12\"])\n",
    "df_sf6 = pd.read_csv(\"/work/hfd/datasets/ScenarioMIP/sf6_monthly_cmip6_from_esgf.csv\", skiprows=1, names=[\"time\", \"SF6\"])\n",
    "df_sf6['year'] = [np.int64(t[:4]) for t in df_sf6['time']]\n",
    "df_sf6 = df_sf6.groupby('year').mean(numeric_only=True)"
   ]
  },
  {
   "cell_type": "code",
   "execution_count": null,
   "id": "860dd047-2cda-48e7-bad0-b1e3a8007a3d",
   "metadata": {},
   "outputs": [],
   "source": [
    "bc = xr.open_dataset(\"/archive/oar.gfdl.cmip6/datasets/OMIP/cfc/CFC_histories_revised_2015_20x20deg.20171208.nc\", decode_times=False) # file for the historical run\n",
    "bc_new = bc.copy()\n",
    "bc_new['Time'] = bc_new['Time'] + 1601. # convert to CE years for convenient referencing and temporal interpolation keep_attrs=True)\n",
    "bc_new = bc_new.interp(Time = np.append(bc_new['Time'].values[:-2], np.arange(2015.5, 2300., 1.)))\n",
    "\n",
    "for i, t in enumerate(bc_new['Time']):\n",
    "    if t>2015:\n",
    "        # Remove global mean (but leave behind hemispheric spatial pattern) and add in global mean from SSP5-8.5 protocol\n",
    "        bc_new['CFC11'][i,:,:] += -bc_new['CFC11'].sel(Time=t.values).mean() + df_cfc11['CFC11'].loc[df_cfc11.index==np.int64(np.floor(t))].values[0]\n",
    "        bc_new['CFC12'][i,:,:] += -bc_new['CFC12'].sel(Time=t.values).mean() + df_cfc12['CFC12'].loc[df_cfc12.index==np.int64(np.floor(t))].values[0]\n",
    "        bc_new['SF6'][i,:,:] += -bc_new['SF6'].sel(Time=t.values).mean() + df_sf6['SF6'].loc[df_sf6.index==np.int64(np.floor(t))].values[0]\n",
    "\n",
    "bc_new['Time'] = bc_new['Time'] - 1601. # convert back to years since 1601\n",
    "bc_new['Time'].attrs = bc['Time'].attrs\n",
    "\n",
    "encoding = {v: {\"_FillValue\": 1e+20} for v in list(bc_new.data_vars) + list(bc_new.coords)}\n",
    "bc_new.to_netcdf(\"/archive/hfd/datasets/input_files/CFC_SSP585_20x20deg.20220203.nc\", mode=\"w\", encoding=encoding)"
   ]
  },
  {
   "cell_type": "code",
   "execution_count": null,
   "id": "4593c9e0-6409-4183-bb34-6bea7b7aa293",
   "metadata": {},
   "outputs": [],
   "source": [
    "plt.figure(figsize=(10,5))\n",
    "plt.subplot(1,2,1)\n",
    "df_cfc11['CFC11'].plot(color=\"C0\")\n",
    "df_cfc12['CFC12'].plot(color=\"C1\")\n",
    "df_sf6['SF6'].plot(color=\"C2\")\n",
    "plt.plot(bc['Time']+1601., bc['CFC11'].mean(['Longitude', 'Latitude']), ls=\"--\")\n",
    "plt.plot(bc['Time']+1601., bc['CFC12'].mean(['Longitude', 'Latitude']), ls=\"--\")\n",
    "plt.plot(bc['Time']+1601., bc['SF6'].mean(['Longitude', 'Latitude']), ls=\"--\")\n",
    "plt.plot([], [], \"k-\", label=\"Atmospheric SSP5-8.5 Forcing\")\n",
    "plt.plot([], [], \"k--\", label=\"Ocean Historical Forcing (contd.)\")\n",
    "plt.grid(True, alpha=0.15)\n",
    "plt.ylim([1, 1000])\n",
    "plt.legend(loc=\"upper left\")\n",
    "plt.ylabel(\"Concentration [ppt]\")\n",
    "plt.yscale(\"log\")\n",
    "plt.xlim(1850, 2100)\n",
    "\n",
    "plt.subplot(1,2,2)\n",
    "plt.plot(bc_new['Time']+1601., bc_new['CFC11'].mean(['Longitude', 'Latitude']), ls=\"-\")\n",
    "plt.plot(bc_new['Time']+1601., bc_new['CFC12'].mean(['Longitude', 'Latitude']), ls=\"-\")\n",
    "plt.plot(bc_new['Time']+1601., bc_new['SF6'].mean(['Longitude', 'Latitude']), ls=\"-\")\n",
    "plt.plot([], [], \"k-\", label=\"Extended Ocean SSP5-8.5 forcing\")\n",
    "plt.grid(True, alpha=0.15)\n",
    "plt.ylim([1, 1000])\n",
    "plt.legend(loc=\"upper left\")\n",
    "plt.ylabel(\"Concentration [ppt]\")\n",
    "plt.yscale(\"log\")\n",
    "plt.xlim(1850, 2100)\n",
    "plt.savefig(\"../figures/extended_transient_tracer_BCs.png\", bbox_inches=\"tight\", dpi=100)"
   ]
  },
  {
   "cell_type": "code",
   "execution_count": null,
   "id": "9d68e972-06c6-4b1b-80c1-b738471e8f8d",
   "metadata": {},
   "outputs": [],
   "source": [
    "bc_new.close()"
   ]
  },
  {
   "cell_type": "code",
   "execution_count": null,
   "id": "bf2b4bfd-c989-48b5-aeaf-8f808db281db",
   "metadata": {},
   "outputs": [],
   "source": []
  }
 ],
 "metadata": {
  "kernelspec": {
   "display_name": "Python 3 (ipykernel)",
   "language": "python",
   "name": "python3"
  },
  "language_info": {
   "codemirror_mode": {
    "name": "ipython",
    "version": 3
   },
   "file_extension": ".py",
   "mimetype": "text/x-python",
   "name": "python",
   "nbconvert_exporter": "python",
   "pygments_lexer": "ipython3",
   "version": "3.12.2"
  }
 },
 "nbformat": 4,
 "nbformat_minor": 5
}
