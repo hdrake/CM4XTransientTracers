{
 "cells": [
  {
   "cell_type": "code",
   "execution_count": null,
   "id": "160ff084-e266-4f51-b836-4274e5b7d603",
   "metadata": {
    "tags": []
   },
   "outputs": [],
   "source": [
    "import os\n",
    "import xarray as xr\n",
    "import pandas as pd\n",
    "import netCDF4 as nc\n",
    "from pathlib import Path\n",
    "import matplotlib.pyplot as plt\n",
    "import gc\n",
    "import os \n",
    "from os.path import exists\n",
    "import dask_labextension\n",
    "import numpy as np\n",
    "import xarray as xr\n",
    "import regionmask\n",
    "from xmip.regionmask import merged_mask\n",
    "import xesmf\n",
    "import sys\n",
    "sys.path.insert(0, '/vortexfs1/home/anthony.meza/scratch/CM4XTransientTracers/src')\n",
    "import src\n",
    "from src import *\n",
    "import gsw, xwmt, xgcm\n",
    "import cmocean.cm as cm"
   ]
  },
  {
   "cell_type": "code",
   "execution_count": null,
   "id": "f5fe4ad5-aa26-40e2-8601-347ae4f66595",
   "metadata": {},
   "outputs": [],
   "source": [
    "from dask_jobqueue import SLURMCluster  # setup dask cluster \n",
    "cluster = SLURMCluster(\n",
    "    cores=36,\n",
    "    processes=1,\n",
    "    memory='125GB',\n",
    "    walltime='02:00:00',\n",
    "    queue='scavenger',\n",
    "    interface='ib0',\n",
    "    log_directory = rootdir + \"/slurmscratch\")\n",
    "print(cluster.job_script())\n",
    "cluster.scale(jobs=5)\n",
    "from dask.distributed import Client\n",
    "client = Client(cluster)\n",
    "client"
   ]
  },
  {
   "cell_type": "code",
   "execution_count": null,
   "id": "4f577ded-fdb8-4efb-8abf-9307254aa350",
   "metadata": {},
   "outputs": [],
   "source": [
    "import cmocean"
   ]
  },
  {
   "cell_type": "code",
   "execution_count": null,
   "id": "4536dd99-a468-43ad-b4e6-a484912119e0",
   "metadata": {},
   "outputs": [],
   "source": [
    "# GLODAP:model variable naming conventions\n",
    "model2glodap_names = {'cfc12':'cfc12','cfc11':'cfc11','sf6':'sf6','thetao':'theta','so':'salinity'}\n",
    "variable_kwargs = {\n",
    "    'cfc12':{'conversion':1e12/1035,'cmap':'Greens','units':'pmol kg-1'},\n",
    "    'cfc11':{'conversion':1e12/1035,'cmap':'PuRd','units':'pmol kg-1'},\n",
    "    'sf6':{'conversion':1e12/1035 * 1e3,'cmap':'Blues','units':'fmol kg-1'},\n",
    "    'theta':{'conversion':1,'cmap':cmocean.cm.thermal,'units':'degK','bins':np.arange(-2,35,0.2),'anombins':np.arange(-4,4.05,0.05)},\n",
    "    'thetao':{'conversion':1,'cmap':cmocean.cm.thermal,'units':'deg C','bins':np.arange(-2,35,0.2),'anombins':np.arange(-4,4.05,0.05)},\n",
    "    'salinity':{'conversion':1,'cmap':cmocean.cm.haline,'units':'psu','bins':np.arange(32,37,0.05),'anombins':np.arange(-1,1.02,0.02)}\n",
    "}"
   ]
  },
  {
   "cell_type": "code",
   "execution_count": null,
   "id": "065e317b-9021-458f-bce7-660d7bea961c",
   "metadata": {
    "tags": []
   },
   "outputs": [],
   "source": [
    "def read_CM4X(fname): \n",
    "    ds = xr.open_mfdataset(\n",
    "        datadir(f\"model/yearly_output_0.25deg/{fname}\"),\n",
    "        data_vars=\"minimal\",\n",
    "        coords=\"minimal\",\n",
    "        compat=\"override\",\n",
    "        parallel=True,\n",
    "        chunks={\"latitude\":-1, \"longitude\":-1, \"time\":-1, \"depth\":2},\n",
    "        engine=\"zarr\")\n",
    "    ds = ds.drop([\"lat\", \"lon\"])\n",
    "    ds = ds.rename({\"geolat\":\"lat\", \"geolon\":\"lon\"})\n",
    "    ds = approximate_z(ds)\n",
    "    ds = ds.where(ds.thkcello > 1e-9)\n",
    "    return ds\n",
    "    \n",
    "def compute_depth_average(ds, zmin, zmax): \n",
    "    return ds.sel(zl = slice(zmin, zmax)).mean(\"zl\")"
   ]
  },
  {
   "cell_type": "code",
   "execution_count": null,
   "id": "676c8aa8-f378-4e10-99a3-d09780a4d547",
   "metadata": {
    "tags": []
   },
   "outputs": [],
   "source": [
    "CM4Xp125_historical = read_CM4X(\"CM4Xp125_historical_transient_tracers.zarr\")\n",
    "CM4Xp125_ctrl = read_CM4X(\"CM4Xp125_piControl_transient_tracers.zarr\")\n",
    "CM4Xp125_ctrl = CM4Xp125_ctrl.isel(year = slice(None, 165))\n",
    "CM4Xp125_ctrl.coords['year'] = CM4Xp125_historical.coords['year'].values"
   ]
  },
  {
   "cell_type": "markdown",
   "id": "6a35be26-b241-4f20-887e-2a7862992013",
   "metadata": {},
   "source": [
    "### Taking time average between 2010 - 2014"
   ]
  },
  {
   "cell_type": "code",
   "execution_count": null,
   "id": "ca4be5b8-823c-4129-a49c-833ef02f23dc",
   "metadata": {},
   "outputs": [],
   "source": [
    "CM4Xp125_ctrl = CM4Xp125_ctrl.sel(year = slice(2010, None)).mean(\"year\")\n",
    "CM4Xp125_historical = CM4Xp125_historical.sel(year = slice(2010, None)).mean(\"year\")"
   ]
  },
  {
   "cell_type": "markdown",
   "id": "a7668c41-998c-427b-9e13-3c2568c65639",
   "metadata": {},
   "source": [
    "### Defining Pacific Ocean Mask"
   ]
  },
  {
   "cell_type": "code",
   "execution_count": null,
   "id": "d2806d3b-0b20-4792-ab06-98bb68db3010",
   "metadata": {},
   "outputs": [],
   "source": [
    "# from xmip.regionmask import merged_mask\n"
   ]
  },
  {
   "cell_type": "code",
   "execution_count": null,
   "id": "db968ebc-38eb-435c-85e6-d61d4e9189c0",
   "metadata": {
    "tags": []
   },
   "outputs": [],
   "source": [
    "basins = regionmask.defined_regions.natural_earth_v4_1_0.ocean_basins_50\n",
    "mask = merged_mask(basins,CM4Xp125_ctrl, lon_name = \"xh\", lat_name = \"yh\").compute()\n",
    "mask.plot()"
   ]
  },
  {
   "cell_type": "code",
   "execution_count": null,
   "id": "201c1185-2e33-4259-9515-a6cdbe3d5586",
   "metadata": {
    "tags": []
   },
   "outputs": [],
   "source": [
    "PAC_mask =np.logical_or(np.logical_or(mask == 2, mask==3),mask==4) #Pacific + marginal seas\n",
    "PAC_mask =np.logical_or(PAC_mask, mask == 7) #add southern ocean\n",
    "PAC_mask =np.logical_or(PAC_mask, mask == 5) #add Indian ocean\n",
    "\n",
    "PAC_mask.plot()"
   ]
  },
  {
   "cell_type": "code",
   "execution_count": null,
   "id": "85e47ef1-5075-49a9-877e-abf2c403b39e",
   "metadata": {
    "tags": []
   },
   "outputs": [],
   "source": [
    "CM4Xp125_hist_PAC = get_sigma2(CM4Xp125_historical.where(PAC_mask)).compute()\n",
    "CM4Xp125_ctrl_PAC = get_sigma2(CM4Xp125_ctrl.where(PAC_mask)).compute()"
   ]
  },
  {
   "cell_type": "code",
   "execution_count": null,
   "id": "22c5fd0d-16e4-4b39-bfaf-85034b5dae59",
   "metadata": {},
   "outputs": [],
   "source": [
    "def zonal_average(ds, var):\n",
    "    weights = ds.thkcello * ds.areacello\n",
    "    weighted_ds = (ds[var] * weights).sum([\"xh\"]) / weights.sum([\"xh\"])\n",
    "    return weighted_ds\n",
    "\n",
    "def get_zonal_average_dataset(ds, var = \"sigma2\"): \n",
    "    ds_zonal = zonal_average(ds, var).compute().rename(var)\n",
    "    ds_zonal[\"z\"] = zonal_average(ds, \"z\").compute()\n",
    "    ds_zonal = ds_zonal.to_dataset()\n",
    "    ds_zonal[\"lat\"] = zonal_average(ds, \"lat\").compute()\n",
    "    ds_zonal = interpolate_section(ds_zonal, -np.arange(100, 7000, 50), interp_coord = \"z\", iterate_coord = \"yh\")\n",
    "    gc.collect()\n",
    "    return ds_zonal\n",
    "    "
   ]
  },
  {
   "cell_type": "code",
   "execution_count": null,
   "id": "76d3f4e7-1115-41fe-8ab2-c7e1a1acafe0",
   "metadata": {},
   "outputs": [],
   "source": [
    "zonal_PAC_hist =  get_zonal_average_dataset(CM4Xp125_hist_PAC, var = \"cfc11\")\n",
    "zonal_PAC_hist = xr.merge([zonal_PAC_hist[[\"cfc11\"]], \n",
    "                          get_zonal_average_dataset(CM4Xp125_hist_PAC, var = \"sigma2\")])\n",
    "zonal_PAC_hist = zonal_PAC_hist.where(zonal_PAC_hist.lat < 0)"
   ]
  },
  {
   "cell_type": "code",
   "execution_count": null,
   "id": "eca44a41-b6fd-4401-b2a7-fb0ff23f3ff5",
   "metadata": {
    "tags": []
   },
   "outputs": [],
   "source": [
    "zonal_PAC_ctrl =  get_zonal_average_dataset(CM4Xp125_ctrl_PAC, var = \"cfc11\")\n",
    "zonal_PAC_ctrl = xr.merge([zonal_PAC_ctrl[[\"cfc11\"]], \n",
    "                          get_zonal_average_dataset(CM4Xp125_ctrl_PAC, var = \"sigma2\")])\n",
    "# zonal_PAC_ctrl = zonal_PAC_ctrl.where(zonal_PAC_hist.lat < 0)"
   ]
  },
  {
   "cell_type": "code",
   "execution_count": null,
   "id": "f960c8b1-8cac-4854-9689-83b6c6e48d9a",
   "metadata": {},
   "outputs": [],
   "source": [
    "difference = (zonal_PAC_hist.cfc11 - zonal_PAC_ctrl.cfc11).rename(\"cfc11_difference\")\n",
    "difference = difference.to_dataset()\n",
    "difference[\"ctrl_cfc11\"] = zonal_PAC_ctrl[\"cfc11\"]\n",
    "difference[\"hist_cfc11\"] = zonal_PAC_hist[\"cfc11\"]\n",
    "\n",
    "difference[\"ctrl_sigma\"] = zonal_PAC_ctrl[\"sigma2\"]\n",
    "difference[\"hist_sigma\"] = zonal_PAC_hist[\"sigma2\"]"
   ]
  },
  {
   "cell_type": "code",
   "execution_count": null,
   "id": "5a5a8993-e928-48d9-9cc4-366160a02b37",
   "metadata": {},
   "outputs": [],
   "source": [
    "import seaborn as sns\n",
    "sns.set_context(\"notebook\")\n",
    "cfc11_levels = np.linspace(-0.2, 0.2, 11)\n",
    "siglevels = np.arange(36.2, 37.4, .2) \n",
    "siglevels = 1.0 * np.append(siglevels, [37.11, 37.17])\n",
    "siglevels = np.sort(siglevels)\n",
    "\n",
    "newcmap = cmocean.tools.crop_by_percent(cmocean.cm.curl, 40)\n",
    "\n",
    "fig, ax = plt.subplots(figsize = (10, 5))\n",
    "cb = ax.pcolormesh(difference.yh, difference.z, difference[\"cfc11_difference\"] * variable_kwargs[\"cfc11\"][\"conversion\"], \n",
    "            vmin = -0.2, vmax = 0.2, cmap = newcmap)\n",
    "\n",
    "CS = ax.contour(difference.yh, difference.z, difference.ctrl_sigma, levels = siglevels, colors = \"black\", linestyles='dashed', zorder = 10, alpha = 0.7)\n",
    "plt.clabel(CS, inline=1, fontsize=10,inline_spacing=5)\n",
    "\n",
    "CS = ax.contour(difference.yh, difference.z, difference.hist_sigma, levels = siglevels, colors = \"red\")\n",
    "plt.clabel(CS, inline=1, fontsize=10,inline_spacing=5)\n",
    "\n",
    "fig.colorbar(cb)\n",
    "ax.set_ylim(-6200, -500)\n",
    "ax.set_xlim(-80, 0)"
   ]
  },
  {
   "cell_type": "code",
   "execution_count": null,
   "id": "0aae5518-1b07-4cf7-8cde-3f30d3f978de",
   "metadata": {},
   "outputs": [],
   "source": [
    "fig, ax = plt.subplots(1, 3, figsize = (10, 5), sharey = True)\n",
    "\n",
    "newcmap = cmocean.tools.crop_by_percent(cmocean.cm.thermal, 20)\n",
    "newcmapd = cmocean.tools.crop_by_percent(cmocean.cm.balance, 40)\n",
    "\n",
    "ax[0].set_title(\"Control\")\n",
    "cb = ax[0].pcolormesh(difference.yh, difference.z, difference[\"ctrl_cfc11\"] * variable_kwargs[\"cfc11\"][\"conversion\"], \n",
    "            vmin = 0, vmax = 1.0, cmap = newcmap)\n",
    "CS = ax[0].contour(difference.yh, difference.z, difference.ctrl_sigma, levels = siglevels, colors = \"white\", linestyles='dashed', zorder = 10, alpha = 0.7)\n",
    "plt.clabel(CS, inline=1, fontsize=10,inline_spacing=3)\n",
    "\n",
    "ax[1].set_title(\"Forced\")\n",
    "\n",
    "cb = ax[1].pcolormesh(difference.yh, difference.z, difference[\"hist_cfc11\"] * variable_kwargs[\"cfc11\"][\"conversion\"], \n",
    "            vmin = 0.0, vmax = 1.0, cmap = newcmap)\n",
    "\n",
    "fig.colorbar(cb, ax = ax[0:2], orientation = \"horizontal\")\n",
    "\n",
    "CS = ax[1].contour(difference.yh, difference.z, difference.hist_sigma, levels = siglevels, colors = \"white\", linestyles='dashed', zorder = 10, alpha = 0.7)\n",
    "plt.clabel(CS, inline=1, fontsize=10,inline_spacing=3)\n",
    "\n",
    "ax[2].set_title(\"Control minus Forced\")\n",
    "\n",
    "cb = ax[2].pcolormesh(difference.yh, difference.z, difference[\"cfc11_difference\"] * variable_kwargs[\"cfc11\"][\"conversion\"], \n",
    "            vmin = -0.2, vmax = 0.2, cmap = newcmapd)\n",
    "fig.colorbar(cb, ax = ax[2], orientation = \"horizontal\")\n",
    "\n",
    "[a.set_ylim(-6200, -500) for a in ax]\n",
    "# [a.set_xlim(-80, 0) for a in ax]"
   ]
  },
  {
   "cell_type": "code",
   "execution_count": null,
   "id": "392aa085-b2bd-4fdc-b4b7-7fb4f976df76",
   "metadata": {},
   "outputs": [],
   "source": [
    "fig, ax = plt.subplots(1, 2, figsize = (10, 5), sharey = True)\n",
    "\n",
    "newcmap = cmocean.tools.crop_by_percent(cmocean.cm.thermal, 20)\n",
    "newcmapd = cmocean.tools.crop_by_percent(cmocean.cm.balance, 40)\n",
    "\n",
    "ax[0].set_title(\"CM4Xp125 Control\")\n",
    "cb = ax[0].pcolormesh(difference.yh, difference.z, difference[\"ctrl_cfc11\"] * variable_kwargs[\"cfc11\"][\"conversion\"], \n",
    "            vmin = 0, vmax = 1.0, cmap = newcmap)\n",
    "CS = ax[0].contour(difference.yh, difference.z, difference.ctrl_sigma, levels = siglevels, colors = \"white\", linestyles='dashed', zorder = 10, alpha = 0.7)\n",
    "plt.clabel(CS, inline=1, fontsize=10,inline_spacing=2)\n",
    "\n",
    "ax[1].set_title(\"CM4Xp125 Forced\")\n",
    "\n",
    "cb = ax[1].pcolormesh(difference.yh, difference.z, difference[\"hist_cfc11\"] * variable_kwargs[\"cfc11\"][\"conversion\"], \n",
    "            vmin = 0.0, vmax = 1.0, cmap = newcmap)\n",
    "\n",
    "CS = ax[1].contour(difference.yh, difference.z, difference.hist_sigma, levels = siglevels, colors = \"white\", linestyles='dashed', zorder = 10, alpha = 0.7)\n",
    "plt.clabel(CS, inline=1, fontsize=10,inline_spacing=2)\n",
    "fig.tight_layout()\n",
    "fig.colorbar(cb, ax = ax[0:2], label = f\"CFC-11 Concentration\\n during 2010 - 2014\\n [{variable_kwargs[\"cfc11\"][\"units\"]}]\", \n",
    "             orientation = \"horizontal\", \n",
    "             fraction = 0.05)\n",
    "[a.set_ylim(-6200, -500) for a in ax]\n",
    "[a.set_xlim(-80, 0) for a in ax]\n",
    "\n",
    "fig.savefig(plotsdir(\"paper_figures/CM4X_CFC11_zonal.png\"), bbox_inches = \"tight\", dpi = 200)"
   ]
  },
  {
   "cell_type": "code",
   "execution_count": null,
   "id": "78ec7b53-d809-4412-9868-355c4d618031",
   "metadata": {},
   "outputs": [],
   "source": []
  }
 ],
 "metadata": {
  "kernelspec": {
   "display_name": "“cm4x_analysis”",
   "language": "python",
   "name": "cm4x_analysis"
  },
  "language_info": {
   "codemirror_mode": {
    "name": "ipython",
    "version": 3
   },
   "file_extension": ".py",
   "mimetype": "text/x-python",
   "name": "python",
   "nbconvert_exporter": "python",
   "pygments_lexer": "ipython3",
   "version": "3.12.4"
  }
 },
 "nbformat": 4,
 "nbformat_minor": 5
}
