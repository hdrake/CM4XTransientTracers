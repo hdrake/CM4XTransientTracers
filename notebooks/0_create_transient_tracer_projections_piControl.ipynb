{
 "cells": [
  {
   "cell_type": "code",
   "execution_count": 100,
   "id": "874e1c9a-6c0a-4a4b-988f-7f1801d8c670",
   "metadata": {},
   "outputs": [],
   "source": [
    "import xarray as xr\n",
    "import matplotlib.pyplot as plt\n",
    "import pandas as pd\n",
    "\n",
    "import cftime\n",
    "import numpy as np\n",
    "import matplotlib.dates as mdates"
   ]
  },
  {
   "cell_type": "code",
   "execution_count": 101,
   "id": "8ac0ec30-dec2-4594-a92e-4a444d3940b4",
   "metadata": {},
   "outputs": [],
   "source": [
    "df_cfc11 = pd.read_csv(\"../data/input/f11_gblannualdata\", skiprows=1, sep=r'\\s+', names=[\"year\", \"CFC11\"]).set_index(\"year\")\n",
    "df_cfc12 = pd.read_csv(\"../data/input/f12_gblannualdata\", skiprows=1, sep=r'\\s+', names=[\"year\", \"CFC12\"]).set_index(\"year\")\n",
    "df_sf6 = pd.read_csv(\"../data/input/sf6_monthly_cmip6_from_esgf.csv\", skiprows=1, names=[\"time\", \"SF6\"])\n",
    "df_sf6['year'] = [np.int64(t[:4]) for t in df_sf6['time']]\n",
    "df_sf6 = df_sf6.groupby('year').mean(numeric_only=True)"
   ]
  },
  {
   "cell_type": "code",
   "execution_count": 102,
   "id": "860dd047-2cda-48e7-bad0-b1e3a8007a3d",
   "metadata": {},
   "outputs": [],
   "source": [
    "bc = xr.open_dataset(\"/archive/oar.gfdl.cmip6/datasets/OMIP/cfc/CFC_histories_revised_2015_20x20deg.20171208.nc\", decode_times=False) # file for the historical run\n",
    "bc_new = bc.copy()\n",
    "bc_new['Time'] = bc_new['Time'] + 1601. # convert to CE years for convenient referencing and temporal interpolation\n",
    "bc_new = bc_new.interp(Time = np.append(bc_new['Time'].values[:-2], np.arange(2015.5, 2300., 1.)))\n",
    "\n",
    "for i, t in enumerate(bc_new['Time']):\n",
    "    if t>2015:\n",
    "        # Remove global mean (but leave behind hemispheric spatial pattern) and add in global mean from SSP5-8.5 protocol\n",
    "        bc_new['CFC11'][i,:,:] += -bc_new['CFC11'].sel(Time=t.values).mean() + df_cfc11['CFC11'].loc[df_cfc11.index==t.values].values[0]\n",
    "        bc_new['CFC12'][i,:,:] += -bc_new['CFC12'].sel(Time=t.values).mean() + df_cfc12['CFC12'].loc[df_cfc12.index==t.values].values[0]\n",
    "        bc_new['SF6'][i,:,:] += -bc_new['SF6'].sel(Time=t.values).mean() + df_sf6['SF6'].loc[df_sf6.index==np.int64(np.floor(t.values))].values[0]\n",
    "\n",
    "bc_new['Time'] = bc_new['Time'] - 1601. # convert back to years since 1601\n",
    "bc_new['Time'].attrs = bc['Time'].attrs\n",
    "\n",
    "# Line up with control experiment, which begins in 101.\n",
    "bc_new = bc_new.sel(Time=slice(1849-1601, None))\n",
    "bc_new['Time'] = bc_new['Time'] - (1850-1601) + 100\n",
    "bc_new['Time'].attrs = bc['Time'].attrs\n",
    "bc_new['Time'].attrs['units'] = 'years since 0001-01-01 00:00:00'\n",
    "\n",
    "encoding = {v: {\"_FillValue\": 1e+20} for v in list(bc_new.data_vars) + list(bc_new.coords)}\n",
    "bc_new.to_netcdf(\"/archive/hfd/datasets/input_files/CFC_SSP585_20x20deg_piControl.20231015.nc\", mode=\"w\", encoding=encoding)"
   ]
  },
  {
   "cell_type": "code",
   "execution_count": 103,
   "id": "9d68e972-06c6-4b1b-80c1-b738471e8f8d",
   "metadata": {},
   "outputs": [],
   "source": [
    "bc_new.close()"
   ]
  },
  {
   "cell_type": "code",
   "execution_count": null,
   "id": "50a300a3-d5d0-40c4-a77b-abf8919e5860",
   "metadata": {},
   "outputs": [],
   "source": []
  }
 ],
 "metadata": {
  "kernelspec": {
   "display_name": "Python 3 (ipykernel)",
   "language": "python",
   "name": "python3"
  },
  "language_info": {
   "codemirror_mode": {
    "name": "ipython",
    "version": 3
   },
   "file_extension": ".py",
   "mimetype": "text/x-python",
   "name": "python",
   "nbconvert_exporter": "python",
   "pygments_lexer": "ipython3",
   "version": "3.12.2"
  }
 },
 "nbformat": 4,
 "nbformat_minor": 5
}
