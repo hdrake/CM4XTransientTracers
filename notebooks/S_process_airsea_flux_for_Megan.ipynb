{
 "cells": [
  {
   "cell_type": "code",
   "execution_count": 1,
   "id": "715785a5-b974-4e12-9d5d-7cca4b128dc8",
   "metadata": {},
   "outputs": [],
   "source": [
    "%load_ext autoreload\n",
    "%autoreload 2"
   ]
  },
  {
   "cell_type": "code",
   "execution_count": 2,
   "id": "79e36027-b427-4a6f-b7c1-615318b55a12",
   "metadata": {},
   "outputs": [],
   "source": [
    "import warnings\n",
    "\n",
    "import doralite\n",
    "import gfdl_utils.core as gu\n",
    "import CM4Xutils\n",
    "import numpy as np\n",
    "import xarray as xr\n",
    "import xgcm\n",
    "\n",
    "import gsw, xwmt, xhistogram\n",
    "import zarr"
   ]
  },
  {
   "cell_type": "code",
   "execution_count": 3,
   "id": "6fb04689-2e62-40bc-8c8a-99aae541ef48",
   "metadata": {},
   "outputs": [],
   "source": [
    "import cmocean\n",
    "import matplotlib.colors as colors\n",
    "import matplotlib.ticker as mtick\n",
    "import matplotlib.pyplot as plt\n",
    "import matplotlib.patheffects as pe\n",
    "from mpl_toolkits.axes_grid1 import make_axes_locatable\n",
    "from matplotlib.legend_handler import HandlerLine2D, HandlerTuple\n",
    "plt.rcParams.update({'font.size': 12})"
   ]
  },
  {
   "cell_type": "code",
   "execution_count": 4,
   "id": "dd5e2bec-3cbb-4d2c-a6db-dc10f468cee8",
   "metadata": {},
   "outputs": [],
   "source": [
    "ds = xr.open_dataset(\"../data/interim/transient_tracer_inventory_CM4Xp125-SSP585.nc\")"
   ]
  },
  {
   "cell_type": "code",
   "execution_count": 7,
   "id": "998fbc23-6fe4-4b13-b752-6e5c040bdc73",
   "metadata": {},
   "outputs": [],
   "source": [
    "ds.drop_dims([\"xh\", \"yh\"]).to_netcdf(\"../data/processed/transient_tracer_inventory_globally_integrated_CM4Xp125-SSP585.nc\")"
   ]
  },
  {
   "cell_type": "code",
   "execution_count": null,
   "id": "5243547e-1876-438d-abf2-7d74a21f8a9e",
   "metadata": {},
   "outputs": [],
   "source": []
  }
 ],
 "metadata": {
  "kernelspec": {
   "display_name": "Python 3 (ipykernel)",
   "language": "python",
   "name": "python3"
  },
  "language_info": {
   "codemirror_mode": {
    "name": "ipython",
    "version": 3
   },
   "file_extension": ".py",
   "mimetype": "text/x-python",
   "name": "python",
   "nbconvert_exporter": "python",
   "pygments_lexer": "ipython3",
   "version": "3.12.3"
  }
 },
 "nbformat": 4,
 "nbformat_minor": 5
}
