{
 "cells": [
  {
   "cell_type": "code",
   "execution_count": 2,
   "id": "fef38425-241d-4f70-880a-9f4cdee2ca22",
   "metadata": {},
   "outputs": [],
   "source": [
    "import os\n",
    "import pandas as pd\n",
    "import netCDF4 as nc\n",
    "from pathlib import Path\n",
    "# from natsort import natsorted\n",
    "import matplotlib.pyplot as plt\n",
    "import gc\n",
    "from os.path import exists\n",
    "import dask_labextension\n",
    "import numpy as np\n",
    "import gsw\n",
    "import cmocean.cm as cm\n",
    "import numpy as np\n",
    "import xarray as xr\n",
    "import xbudget\n",
    "import regionate\n",
    "import xwmt\n",
    "import xwmb\n",
    "import xgcm"
   ]
  },
  {
   "cell_type": "code",
   "execution_count": 3,
   "id": "e2e0ae96-754b-453c-bc47-d7b4255b92b2",
   "metadata": {},
   "outputs": [
    {
     "name": "stdout",
     "output_type": "stream",
     "text": [
      "xgcm version 0.8.2.dev15+g7492277 \n",
      "regionate version 0.0.1 \n",
      "xwmt version 0.1.1 \n",
      "xwmb version 0.1.1\n"
     ]
    }
   ],
   "source": [
    "print('xgcm version', xgcm.__version__, '\\nregionate version', regionate.__version__, '\\nxwmt version', xwmt.__version__, '\\nxwmb version', xwmb.__version__)"
   ]
  },
  {
   "cell_type": "code",
   "execution_count": 4,
   "id": "1344ba68-cd49-4ab1-b0a2-5e54b05a5a63",
   "metadata": {},
   "outputs": [],
   "source": [
    "import matplotlib.pyplot as plt\n",
    "\n",
    "def hovmoller(wmt, var, robust=False, units=\"kg\", **kwargs):\n",
    "    da = wmt[var]\n",
    "    if robust:\n",
    "        vmax = np.abs(da).quantile(0.95).compute()\n",
    "        kwargs[\"vmin\"] = -vmax\n",
    "        kwargs[\"vmax\"] = vmax\n",
    "\n",
    "    coord_bounds = wmt[[c for c in wmt.coords if \"i_target\" in c][0]]\n",
    "    time_idx_bounds = xr.DataArray(np.arange(0, wmt.time_bounds.size), dims=('time_bounds',))\n",
    "    pc = plt.pcolor(\n",
    "        time_idx_bounds,\n",
    "        coord_bounds,\n",
    "        da.transpose() if da.dims[0] == \"time\" else da,\n",
    "        **kwargs\n",
    "    )\n",
    "\n",
    "    dtick = da.time.size//12\n",
    "    date_str = [f\"{d.year}-{str(d.month).zfill(2)}-{str(d.day).zfill(2)}\" for d in wmt[\"time_bounds\"].values[::dtick]]\n",
    "    plt.xticks(time_idx_bounds[::dtick], date_str, rotation=90)\n",
    "    plt.colorbar(label=f\"transformation rate [{units}]\")\n",
    "    for coord_bound in coord_bounds:\n",
    "        plt.axhline(coord_bound, color=\"k\", lw=0.25)\n",
    "    \n",
    "    return pc\n",
    "\n",
    "def stairs(wmt, var, units=\"kg\", **kwargs):\n",
    "    da = wmt[var]\n",
    "    coord = wmt[[c for c in wmt.coords if \"l_target\" in c][0]]\n",
    "    coord_bounds = wmt[[c for c in wmt.coords if \"i_target\" in c][0]]\n",
    "    l = plt.stairs(da, coord_bounds, **kwargs, orientation=\"horizontal\")\n",
    "    plt.xlabel(f\"mean transformation rate [{units}]\")\n",
    "    return l"
   ]
  },
  {
   "cell_type": "markdown",
   "id": "a46f6332-4dc9-4a45-8514-4ea0a994cb02",
   "metadata": {},
   "source": [
    "### Request HPC Resources"
   ]
  },
  {
   "cell_type": "code",
   "execution_count": 5,
   "id": "30250de5-1ed4-4a27-af61-2457b1eac6bc",
   "metadata": {},
   "outputs": [
    {
     "name": "stdout",
     "output_type": "stream",
     "text": [
      "#!/usr/bin/env bash\n",
      "\n",
      "#SBATCH -J dask-worker\n",
      "#SBATCH -p compute\n",
      "#SBATCH -n 1\n",
      "#SBATCH --cpus-per-task=36\n",
      "#SBATCH --mem=47G\n",
      "#SBATCH -t 02:00:00\n",
      "\n",
      "/vortexfs1/home/anthony.meza/miniforge3/envs/cm4x_analysis/bin/python -m distributed.cli.dask_worker tcp://172.16.3.125:40340 --name dummy-name --nthreads 36 --memory-limit 46.57GiB --nanny --death-timeout 60 --interface ib0\n",
      "\n"
     ]
    },
    {
     "data": {
      "text/html": [
       "<div>\n",
       "    <div style=\"width: 24px; height: 24px; background-color: #e1e1e1; border: 3px solid #9D9D9D; border-radius: 5px; position: absolute;\"> </div>\n",
       "    <div style=\"margin-left: 48px;\">\n",
       "        <h3 style=\"margin-bottom: 0px;\">Client</h3>\n",
       "        <p style=\"color: #9D9D9D; margin-bottom: 0px;\">Client-dbcf6110-7449-11ef-ab44-3cfdfe707e10</p>\n",
       "        <table style=\"width: 100%; text-align: left;\">\n",
       "\n",
       "        <tr>\n",
       "        \n",
       "            <td style=\"text-align: left;\"><strong>Connection method:</strong> Cluster object</td>\n",
       "            <td style=\"text-align: left;\"><strong>Cluster type:</strong> dask_jobqueue.SLURMCluster</td>\n",
       "        \n",
       "        </tr>\n",
       "\n",
       "        \n",
       "            <tr>\n",
       "                <td style=\"text-align: left;\">\n",
       "                    <strong>Dashboard: </strong> <a href=\"/proxy/8787/status\" target=\"_blank\">/proxy/8787/status</a>\n",
       "                </td>\n",
       "                <td style=\"text-align: left;\"></td>\n",
       "            </tr>\n",
       "        \n",
       "\n",
       "        </table>\n",
       "\n",
       "        \n",
       "            <button style=\"margin-bottom: 12px;\" data-commandlinker-command=\"dask:populate-and-launch-layout\" data-commandlinker-args='{\"url\": \"/proxy/8787/status\" }'>\n",
       "                Launch dashboard in JupyterLab\n",
       "            </button>\n",
       "        \n",
       "\n",
       "        \n",
       "            <details>\n",
       "            <summary style=\"margin-bottom: 20px;\"><h3 style=\"display: inline;\">Cluster Info</h3></summary>\n",
       "            <div class=\"jp-RenderedHTMLCommon jp-RenderedHTML jp-mod-trusted jp-OutputArea-output\">\n",
       "    <div style=\"width: 24px; height: 24px; background-color: #e1e1e1; border: 3px solid #9D9D9D; border-radius: 5px; position: absolute;\">\n",
       "    </div>\n",
       "    <div style=\"margin-left: 48px;\">\n",
       "        <h3 style=\"margin-bottom: 0px; margin-top: 0px;\">SLURMCluster</h3>\n",
       "        <p style=\"color: #9D9D9D; margin-bottom: 0px;\">f4fe88b7</p>\n",
       "        <table style=\"width: 100%; text-align: left;\">\n",
       "            <tr>\n",
       "                <td style=\"text-align: left;\">\n",
       "                    <strong>Dashboard:</strong> <a href=\"/proxy/8787/status\" target=\"_blank\">/proxy/8787/status</a>\n",
       "                </td>\n",
       "                <td style=\"text-align: left;\">\n",
       "                    <strong>Workers:</strong> 0\n",
       "                </td>\n",
       "            </tr>\n",
       "            <tr>\n",
       "                <td style=\"text-align: left;\">\n",
       "                    <strong>Total threads:</strong> 0\n",
       "                </td>\n",
       "                <td style=\"text-align: left;\">\n",
       "                    <strong>Total memory:</strong> 0 B\n",
       "                </td>\n",
       "            </tr>\n",
       "            \n",
       "        </table>\n",
       "\n",
       "        <details>\n",
       "            <summary style=\"margin-bottom: 20px;\">\n",
       "                <h3 style=\"display: inline;\">Scheduler Info</h3>\n",
       "            </summary>\n",
       "\n",
       "            <div style=\"\">\n",
       "    <div>\n",
       "        <div style=\"width: 24px; height: 24px; background-color: #FFF7E5; border: 3px solid #FF6132; border-radius: 5px; position: absolute;\"> </div>\n",
       "        <div style=\"margin-left: 48px;\">\n",
       "            <h3 style=\"margin-bottom: 0px;\">Scheduler</h3>\n",
       "            <p style=\"color: #9D9D9D; margin-bottom: 0px;\">Scheduler-b2dfc6a8-c54d-4046-b13c-2437ee81a1e0</p>\n",
       "            <table style=\"width: 100%; text-align: left;\">\n",
       "                <tr>\n",
       "                    <td style=\"text-align: left;\">\n",
       "                        <strong>Comm:</strong> tcp://172.16.3.125:40340\n",
       "                    </td>\n",
       "                    <td style=\"text-align: left;\">\n",
       "                        <strong>Workers:</strong> 0\n",
       "                    </td>\n",
       "                </tr>\n",
       "                <tr>\n",
       "                    <td style=\"text-align: left;\">\n",
       "                        <strong>Dashboard:</strong> <a href=\"/proxy/8787/status\" target=\"_blank\">/proxy/8787/status</a>\n",
       "                    </td>\n",
       "                    <td style=\"text-align: left;\">\n",
       "                        <strong>Total threads:</strong> 0\n",
       "                    </td>\n",
       "                </tr>\n",
       "                <tr>\n",
       "                    <td style=\"text-align: left;\">\n",
       "                        <strong>Started:</strong> Just now\n",
       "                    </td>\n",
       "                    <td style=\"text-align: left;\">\n",
       "                        <strong>Total memory:</strong> 0 B\n",
       "                    </td>\n",
       "                </tr>\n",
       "            </table>\n",
       "        </div>\n",
       "    </div>\n",
       "\n",
       "    <details style=\"margin-left: 48px;\">\n",
       "        <summary style=\"margin-bottom: 20px;\">\n",
       "            <h3 style=\"display: inline;\">Workers</h3>\n",
       "        </summary>\n",
       "\n",
       "        \n",
       "\n",
       "    </details>\n",
       "</div>\n",
       "\n",
       "        </details>\n",
       "    </div>\n",
       "</div>\n",
       "            </details>\n",
       "        \n",
       "\n",
       "    </div>\n",
       "</div>"
      ],
      "text/plain": [
       "<Client: 'tcp://172.16.3.125:40340' processes=0 threads=0, memory=0 B>"
      ]
     },
     "execution_count": 5,
     "metadata": {},
     "output_type": "execute_result"
    }
   ],
   "source": [
    "from dask_jobqueue import SLURMCluster  # setup dask cluster \n",
    "cluster = SLURMCluster(\n",
    "    cores=36,\n",
    "    processes=1,\n",
    "    memory='50GB',\n",
    "    walltime='02:00:00',\n",
    "    queue='compute',\n",
    "    interface='ib0')\n",
    "print(cluster.job_script())\n",
    "cluster.scale(jobs=2)\n",
    "from dask.distributed import Client\n",
    "client = Client(cluster)\n",
    "client"
   ]
  },
  {
   "cell_type": "markdown",
   "id": "158f9eff-ddad-4e01-b33c-52f33858da46",
   "metadata": {},
   "source": [
    "### Load in data"
   ]
  },
  {
   "cell_type": "code",
   "execution_count": 17,
   "id": "11b2ea57-ff07-4c63-966b-a0ddce12a708",
   "metadata": {},
   "outputs": [],
   "source": [
    "datadir = lambda x=\"\" : \"/vortexfs1/home/anthony.meza/scratch/CM4X/CM4XTransientTracers/data/\" + x\n",
    "ds = xr.open_mfdataset(\n",
    "        datadir(\"CM4Xp25_budgets_sigma2_2020-2024.zarr\"),\n",
    "        data_vars=\"minimal\",\n",
    "        coords=\"minimal\",\n",
    "        compat=\"override\",\n",
    "        parallel=True,\n",
    "        chunks={\"exp\":1},\n",
    "        engine=\"zarr\")\n",
    "\n",
    "# ds[\"areacello\"] = (ds[\"areacello\"]* ds[\"wet\"])  / (ds[\"areacello\"] * ds[\"wet\"]).sum() #areacello should be the fraction of ocean area at each grid cell, not the actual area"
   ]
  },
  {
   "cell_type": "markdown",
   "id": "f97a3465-a46e-4258-8a62-c85bcbdcaafb",
   "metadata": {},
   "source": [
    "### Add density layer midpoints"
   ]
  },
  {
   "cell_type": "code",
   "execution_count": 18,
   "id": "a354a963-1043-4222-8882-d6b61a38c396",
   "metadata": {},
   "outputs": [],
   "source": [
    "sigma2_i = (ds.sigma2_l.values[1:] + ds.sigma2_l.values[0:-1])/2\n",
    "ds = ds.assign_coords({\"sigma2_i\":np.concatenate(([-100.], sigma2_i, [100.]))})\n",
    "ds = ds.fillna(0.) #remove all NaNs"
   ]
  },
  {
   "cell_type": "markdown",
   "id": "721ab8fa-1049-409b-b524-40ad4d10fb9f",
   "metadata": {},
   "source": [
    "### Create xgcm grid object"
   ]
  },
  {
   "cell_type": "code",
   "execution_count": 19,
   "id": "e455c074-fab7-48df-bcdd-ab963fb0f862",
   "metadata": {},
   "outputs": [],
   "source": [
    "#create an xgcm grid from data \n",
    "Zprefix = \"sigma2_\"\n",
    "\n",
    "coords = {\n",
    "    'X': {'center': 'xh', 'outer': 'xq'},\n",
    "    'Y': {'center': 'yh', 'outer': 'yq'},\n",
    "    'Z': {'center': f'{Zprefix}l', 'outer': f'{Zprefix}i'},\n",
    "}\n",
    "\n",
    "metrics = {\n",
    "    ('X','Y'): \"areacello\",\n",
    "}\n",
    "\n",
    "boundary = {\"X\":\"extend\", \"Y\":\"extend\", \"Z\":\"extend\"}\n",
    "\n",
    "grid = xgcm.Grid(ds, coords=coords, metrics=metrics, boundary=boundary, autoparse_metadata=False)\n",
    "\n",
    "# We specify our target density bins based on the online density-coordinate diagnostics\n",
    "grid._ds = grid._ds.assign_coords({\n",
    "    \"sigma2_l_target\": grid._ds['sigma2_l'].rename({\"sigma2_l\":\"sigma2_l_target\"}),\n",
    "    \"sigma2_i_target\": grid._ds['sigma2_i'].rename({\"sigma2_i\":\"sigma2_i_target\"}),\n",
    "})\n",
    "grid = xwmt.add_gridcoords(\n",
    "    grid,\n",
    "    {\"Z_target\": {\"center\": \"sigma2_l_target\", \"outer\": \"sigma2_i_target\"}},\n",
    "    {\"Z_target\": \"extend\"}\n",
    ")"
   ]
  },
  {
   "cell_type": "markdown",
   "id": "3dab8bf8-72db-4886-992d-4e1fdb7782de",
   "metadata": {},
   "source": [
    "### Collect budget terms"
   ]
  },
  {
   "cell_type": "code",
   "execution_count": 20,
   "id": "7e559dbb-a0be-44f2-91ec-e9427bb26f8b",
   "metadata": {},
   "outputs": [
    {
     "name": "stderr",
     "output_type": "stream",
     "text": [
      "/vortexfs1/home/anthony.meza/miniforge3/envs/cm4x_analysis/lib/python3.12/site-packages/xgcm/grid_ufunc.py:836: FutureWarning: The return type of `Dataset.dims` will be changed to return a set of dimension names in future, in order to be more consistent with `DataArray.dims`. To access a mapping from dimension names to lengths, please use `Dataset.sizes`.\n",
      "  out_dim: grid._ds.dims[out_dim] for arg in out_core_dims for out_dim in arg\n",
      "/vortexfs1/home/anthony.meza/miniforge3/envs/cm4x_analysis/lib/python3.12/site-packages/xgcm/grid_ufunc.py:836: FutureWarning: The return type of `Dataset.dims` will be changed to return a set of dimension names in future, in order to be more consistent with `DataArray.dims`. To access a mapping from dimension names to lengths, please use `Dataset.sizes`.\n",
      "  out_dim: grid._ds.dims[out_dim] for arg in out_core_dims for out_dim in arg\n"
     ]
    }
   ],
   "source": [
    "budgets_dict = xbudget.load_preset_budget(model=\"MOM6_3Donly\")\n",
    "xbudget.collect_budgets(grid, budgets_dict)"
   ]
  },
  {
   "cell_type": "markdown",
   "id": "033b69a5-2f63-48d5-96aa-20d3c0d48053",
   "metadata": {},
   "source": [
    "### Plot Baltic mask"
   ]
  },
  {
   "cell_type": "code",
   "execution_count": null,
   "id": "6d3edd60-38c8-4a61-9814-c6b31df84932",
   "metadata": {},
   "outputs": [],
   "source": [
    "# Note: the properties of this region are quite different from the rest of the Baltic!\n",
    "name = \"intBaltic\"\n",
    "lons = np.array([8.,   20.,  29., 24.5, 24.5, 26.1, 17.5, 11.5])\n",
    "lats = np.array([53.5, 53.5, 54.5,  59.,  61.,  63., 64.5,  62.])\n",
    "region = regionate.GriddedRegion(name, lons, lats, grid)\n",
    "\n",
    "depth = grid._ds['deptho']\n",
    "depth = depth.where(depth >0)\n",
    "plt.figure(figsize=(4.75,3.5))\n",
    "pc = plt.pcolor(\n",
    "    grid._ds['geolon_c'],\n",
    "    grid._ds['geolat_c'],\n",
    "    depth,\n",
    "    cmap=\"viridis_r\", vmin = 0, vmax = 600\n",
    ")\n",
    "plt.colorbar(pc, label=\"depth [m]\")\n",
    "plt.plot(regionate.loop(region.lons), regionate.loop(region.lats), color=\"k\");\n",
    "plt.xlabel(\"longitude\");\n",
    "plt.ylabel(\"latitude\");\n",
    "plt.ylim(53, 65)\n",
    "plt.xlim(5, 30)"
   ]
  },
  {
   "cell_type": "markdown",
   "id": "06c1e4f4-ccd5-48c8-ba05-8f606ab173f7",
   "metadata": {},
   "source": [
    "### Extract mass budget"
   ]
  },
  {
   "cell_type": "code",
   "execution_count": null,
   "id": "3e92d997-e15e-406a-adcf-0e9bbe6762da",
   "metadata": {},
   "outputs": [],
   "source": [
    "import warnings\n",
    "\n",
    "with warnings.catch_warnings():\n",
    "    warnings.simplefilter(action='ignore', category=FutureWarning)\n",
    "    lam = \"sigma2\"\n",
    "    wmb = xwmb.WaterMassBudget(\n",
    "        grid,\n",
    "        budgets_dict,\n",
    "        region\n",
    "    )\n",
    "    wmb.mass_budget(lam)\n",
    "    wmb.wmt.load()\n",
    "    wmt = wmb.wmt\n"
   ]
  },
  {
   "cell_type": "markdown",
   "id": "55a74b1e-902e-4639-b473-06ae56020d0d",
   "metadata": {},
   "source": [
    "### Hovmoller Diagram"
   ]
  },
  {
   "cell_type": "code",
   "execution_count": null,
   "id": "4449f406-23d4-4393-8f1a-9f897de09c8d",
   "metadata": {},
   "outputs": [],
   "source": [
    "toSv = 1.e-6/wmb.rho_ref\n",
    "wmt1 = wmt.isel(exp = 1).compute()*toSv #select the historical run"
   ]
  },
  {
   "cell_type": "code",
   "execution_count": null,
   "id": "befa9a55-5c69-40a3-8502-34be49bfaf50",
   "metadata": {},
   "outputs": [],
   "source": [
    "pc = hovmoller(wmt1, \"diffusion\", cmap=\"RdBu_r\", units=\"Sv\", robust=True)\n",
    "plt.ylim(37.5, 27.25);\n",
    "plt.ylabel(r\"potential density $\\sigma_{2}$ [kg/m$^{3}$]\");\n",
    "plt.title(\"parameterized diapycnal diffusion\");"
   ]
  },
  {
   "cell_type": "markdown",
   "id": "2c4bb159-61d5-47aa-9222-68fc06290bbc",
   "metadata": {},
   "source": [
    "### Time-mean budget"
   ]
  },
  {
   "cell_type": "code",
   "execution_count": null,
   "id": "0aee798c-51dd-43d2-8668-1d2631bd2b26",
   "metadata": {},
   "outputs": [],
   "source": [
    "wmt_mean = wmt.isel(exp = 1).mean('time').compute()*toSv"
   ]
  },
  {
   "cell_type": "code",
   "execution_count": null,
   "id": "33563494-ee20-490d-9e14-b2a508fd1b61",
   "metadata": {},
   "outputs": [],
   "source": [
    "plt.figure(figsize=(6,4.5))\n",
    "\n",
    "kwargs = {\"units\":\"Sv\", \"alpha\":0.7, \"lw\":1.5}\n",
    "\n",
    "stairs( wmt_mean, 'mass_tendency',             label=r\"$\\partial_{t} \\mathcal{M}$ (mass_tendency)\",**kwargs)\n",
    "stairs(-wmt_mean, 'mass_source',               label=r\"$-\\mathcal{S}$ (mass_source)\",            **kwargs)\n",
    "stairs(-wmt_mean, 'convergent_mass_transport', label=r\"$-\\Psi$ (convergent_mass_transport)\",                   **kwargs)\n",
    "stairs( wmt_mean, 'boundary_fluxes',           label=r\"$\\mathcal{G}^{(BF)}$ (boundary_fluxes)\",      **kwargs)\n",
    "stairs( wmt_mean, 'diffusion',                 label=r\"$\\mathcal{G}^{(Mix)}$ (diffusion)\",     **kwargs)\n",
    "stairs( wmt_mean, 'spurious_numerical_mixing', label=r\"$\\mathcal{N}$ (spurious_numerical_mixing)\", **kwargs)\n",
    "\n",
    "plt.legend(loc=\"upper right\", frameon = False, ncols = 2, bbox_to_anchor = (1.2, -0.2))\n",
    "plt.grid(True, alpha=0.25)\n",
    "plt.ylabel(r\"potential density $\\sigma_{2}$ [kg/m$^{3}$]\");\n",
    "plt.ylim( 37.5, 27.25,);"
   ]
  },
  {
   "cell_type": "markdown",
   "id": "493e65da-814f-45a1-99f1-f8db45fc4999",
   "metadata": {},
   "source": [
    "### Time-mean budget all terms except $\\Psi$ and $\\mathcal{N}$ are multiplied by 150 "
   ]
  },
  {
   "cell_type": "code",
   "execution_count": null,
   "id": "873a67ea-093c-486b-86cd-1d8457fd1291",
   "metadata": {},
   "outputs": [],
   "source": [
    "plt.figure(figsize=(6,4.5))\n",
    "\n",
    "kwargs = {\"units\":\"Sv\", \"alpha\":0.7, \"lw\":1.5}\n",
    "\n",
    "stairs(150 * wmt_mean, 'mass_tendency',             label=r\"$150 \\times \\partial_{t} \\mathcal{M}$ (mass_tendency)\",**kwargs)\n",
    "stairs(150 * -wmt_mean, 'mass_source',               label=r\"$150 \\times  -\\mathcal{S}$ (mass_source)\",            **kwargs)\n",
    "stairs(-wmt_mean, 'convergent_mass_transport', label=r\"$-\\Psi$ (convergent_mass_transport)\",                   **kwargs)\n",
    "stairs( 150 * wmt_mean, 'boundary_fluxes',           label=r\"$150 \\times \\mathcal{G}^{(BF)}$ (boundary_fluxes)\",      **kwargs)\n",
    "stairs( 150 * wmt_mean, 'diffusion',                 label=r\"$150 \\times \\mathcal{G}^{(Mix)}$ (diffusion)\",     **kwargs)\n",
    "stairs( wmt_mean, 'spurious_numerical_mixing', label=r\"$\\mathcal{N}$ (spurious_numerical_mixing)\", **kwargs)\n",
    "\n",
    "plt.legend(loc=\"upper right\", frameon = False, ncols = 2, bbox_to_anchor = (1.2, -0.2))\n",
    "plt.grid(True, alpha=0.25)\n",
    "plt.ylabel(r\"potential density $\\sigma_{2}$ [kg/m$^{3}$]\");\n",
    "plt.ylim( 37.5, 35.5,);"
   ]
  },
  {
   "cell_type": "code",
   "execution_count": null,
   "id": "f9aa7ae7-7267-48c2-858c-b8a9ed9535aa",
   "metadata": {},
   "outputs": [],
   "source": []
  }
 ],
 "metadata": {
  "kernelspec": {
   "display_name": "Python 3 (ipykernel)",
   "language": "python",
   "name": "python3"
  },
  "language_info": {
   "codemirror_mode": {
    "name": "ipython",
    "version": 3
   },
   "file_extension": ".py",
   "mimetype": "text/x-python",
   "name": "python",
   "nbconvert_exporter": "python",
   "pygments_lexer": "ipython3",
   "version": "3.12.4"
  }
 },
 "nbformat": 4,
 "nbformat_minor": 5
}
