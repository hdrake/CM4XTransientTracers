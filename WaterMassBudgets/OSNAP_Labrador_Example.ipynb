{
 "cells": [
  {
   "cell_type": "code",
   "execution_count": 1,
   "id": "fef38425-241d-4f70-880a-9f4cdee2ca22",
   "metadata": {},
   "outputs": [],
   "source": [
    "%load_ext autoreload\n",
    "%autoreload 2"
   ]
  },
  {
   "cell_type": "code",
   "execution_count": 2,
   "id": "e2e0ae96-754b-453c-bc47-d7b4255b92b2",
   "metadata": {},
   "outputs": [],
   "source": [
    "import warnings\n",
    "import matplotlib.pyplot as plt"
   ]
  },
  {
   "cell_type": "code",
   "execution_count": 3,
   "id": "1344ba68-cd49-4ab1-b0a2-5e54b05a5a63",
   "metadata": {},
   "outputs": [],
   "source": [
    "import numpy as np\n",
    "import xarray as xr\n",
    "import xbudget\n",
    "import regionate\n",
    "import xwmt\n",
    "import xwmb\n",
    "import xgcm\n",
    "import CM4Xutils #needed to run pip install nc-time-axis"
   ]
  },
  {
   "cell_type": "code",
   "execution_count": 4,
   "id": "e11482ed-e75c-4c25-9988-9344dd04460c",
   "metadata": {},
   "outputs": [
    {
     "name": "stdout",
     "output_type": "stream",
     "text": [
      "xgcm version 0.8.2.dev15+g7492277 \n",
      "regionate version 0.0.1 \n",
      "xwmt version 0.2.0 \n",
      "xwmb version 0.2.0\n"
     ]
    }
   ],
   "source": [
    "print('xgcm version', xgcm.__version__, '\\nregionate version', regionate.__version__, '\\nxwmt version', xwmt.__version__, '\\nxwmb version', xwmb.__version__)"
   ]
  },
  {
   "cell_type": "markdown",
   "id": "a46f6332-4dc9-4a45-8514-4ea0a994cb02",
   "metadata": {},
   "source": [
    "### Request HPC Resources"
   ]
  },
  {
   "cell_type": "code",
   "execution_count": 5,
   "id": "30250de5-1ed4-4a27-af61-2457b1eac6bc",
   "metadata": {},
   "outputs": [
    {
     "name": "stdout",
     "output_type": "stream",
     "text": [
      "#!/usr/bin/env bash\n",
      "\n",
      "#SBATCH -J dask-worker\n",
      "#SBATCH -p compute\n",
      "#SBATCH -n 1\n",
      "#SBATCH --cpus-per-task=36\n",
      "#SBATCH --mem=47G\n",
      "#SBATCH -t 02:00:00\n",
      "\n",
      "/vortexfs1/home/anthony.meza/miniforge3/envs/cm4x_analysis/bin/python -m distributed.cli.dask_worker tcp://172.16.3.58:35193 --name dummy-name --nthreads 36 --memory-limit 46.57GiB --nanny --death-timeout 60 --interface ib0\n",
      "\n"
     ]
    },
    {
     "name": "stderr",
     "output_type": "stream",
     "text": [
      "/vortexfs1/home/anthony.meza/miniforge3/envs/cm4x_analysis/lib/python3.12/site-packages/distributed/node.py:182: UserWarning: Port 8787 is already in use.\n",
      "Perhaps you already have a cluster running?\n",
      "Hosting the HTTP server on port 41193 instead\n",
      "  warnings.warn(\n"
     ]
    },
    {
     "data": {
      "text/html": [
       "<div>\n",
       "    <div style=\"width: 24px; height: 24px; background-color: #e1e1e1; border: 3px solid #9D9D9D; border-radius: 5px; position: absolute;\"> </div>\n",
       "    <div style=\"margin-left: 48px;\">\n",
       "        <h3 style=\"margin-bottom: 0px;\">Client</h3>\n",
       "        <p style=\"color: #9D9D9D; margin-bottom: 0px;\">Client-f2798f10-7c1e-11ef-a8cc-3cfdfe5616a0</p>\n",
       "        <table style=\"width: 100%; text-align: left;\">\n",
       "\n",
       "        <tr>\n",
       "        \n",
       "            <td style=\"text-align: left;\"><strong>Connection method:</strong> Cluster object</td>\n",
       "            <td style=\"text-align: left;\"><strong>Cluster type:</strong> dask_jobqueue.SLURMCluster</td>\n",
       "        \n",
       "        </tr>\n",
       "\n",
       "        \n",
       "            <tr>\n",
       "                <td style=\"text-align: left;\">\n",
       "                    <strong>Dashboard: </strong> <a href=\"/proxy/41193/status\" target=\"_blank\">/proxy/41193/status</a>\n",
       "                </td>\n",
       "                <td style=\"text-align: left;\"></td>\n",
       "            </tr>\n",
       "        \n",
       "\n",
       "        </table>\n",
       "\n",
       "        \n",
       "            <button style=\"margin-bottom: 12px;\" data-commandlinker-command=\"dask:populate-and-launch-layout\" data-commandlinker-args='{\"url\": \"/proxy/41193/status\" }'>\n",
       "                Launch dashboard in JupyterLab\n",
       "            </button>\n",
       "        \n",
       "\n",
       "        \n",
       "            <details>\n",
       "            <summary style=\"margin-bottom: 20px;\"><h3 style=\"display: inline;\">Cluster Info</h3></summary>\n",
       "            <div class=\"jp-RenderedHTMLCommon jp-RenderedHTML jp-mod-trusted jp-OutputArea-output\">\n",
       "    <div style=\"width: 24px; height: 24px; background-color: #e1e1e1; border: 3px solid #9D9D9D; border-radius: 5px; position: absolute;\">\n",
       "    </div>\n",
       "    <div style=\"margin-left: 48px;\">\n",
       "        <h3 style=\"margin-bottom: 0px; margin-top: 0px;\">SLURMCluster</h3>\n",
       "        <p style=\"color: #9D9D9D; margin-bottom: 0px;\">19d1cc74</p>\n",
       "        <table style=\"width: 100%; text-align: left;\">\n",
       "            <tr>\n",
       "                <td style=\"text-align: left;\">\n",
       "                    <strong>Dashboard:</strong> <a href=\"/proxy/41193/status\" target=\"_blank\">/proxy/41193/status</a>\n",
       "                </td>\n",
       "                <td style=\"text-align: left;\">\n",
       "                    <strong>Workers:</strong> 0\n",
       "                </td>\n",
       "            </tr>\n",
       "            <tr>\n",
       "                <td style=\"text-align: left;\">\n",
       "                    <strong>Total threads:</strong> 0\n",
       "                </td>\n",
       "                <td style=\"text-align: left;\">\n",
       "                    <strong>Total memory:</strong> 0 B\n",
       "                </td>\n",
       "            </tr>\n",
       "            \n",
       "        </table>\n",
       "\n",
       "        <details>\n",
       "            <summary style=\"margin-bottom: 20px;\">\n",
       "                <h3 style=\"display: inline;\">Scheduler Info</h3>\n",
       "            </summary>\n",
       "\n",
       "            <div style=\"\">\n",
       "    <div>\n",
       "        <div style=\"width: 24px; height: 24px; background-color: #FFF7E5; border: 3px solid #FF6132; border-radius: 5px; position: absolute;\"> </div>\n",
       "        <div style=\"margin-left: 48px;\">\n",
       "            <h3 style=\"margin-bottom: 0px;\">Scheduler</h3>\n",
       "            <p style=\"color: #9D9D9D; margin-bottom: 0px;\">Scheduler-008086cc-f3db-4bed-99c7-70913029fd26</p>\n",
       "            <table style=\"width: 100%; text-align: left;\">\n",
       "                <tr>\n",
       "                    <td style=\"text-align: left;\">\n",
       "                        <strong>Comm:</strong> tcp://172.16.3.58:35193\n",
       "                    </td>\n",
       "                    <td style=\"text-align: left;\">\n",
       "                        <strong>Workers:</strong> 0\n",
       "                    </td>\n",
       "                </tr>\n",
       "                <tr>\n",
       "                    <td style=\"text-align: left;\">\n",
       "                        <strong>Dashboard:</strong> <a href=\"/proxy/41193/status\" target=\"_blank\">/proxy/41193/status</a>\n",
       "                    </td>\n",
       "                    <td style=\"text-align: left;\">\n",
       "                        <strong>Total threads:</strong> 0\n",
       "                    </td>\n",
       "                </tr>\n",
       "                <tr>\n",
       "                    <td style=\"text-align: left;\">\n",
       "                        <strong>Started:</strong> Just now\n",
       "                    </td>\n",
       "                    <td style=\"text-align: left;\">\n",
       "                        <strong>Total memory:</strong> 0 B\n",
       "                    </td>\n",
       "                </tr>\n",
       "            </table>\n",
       "        </div>\n",
       "    </div>\n",
       "\n",
       "    <details style=\"margin-left: 48px;\">\n",
       "        <summary style=\"margin-bottom: 20px;\">\n",
       "            <h3 style=\"display: inline;\">Workers</h3>\n",
       "        </summary>\n",
       "\n",
       "        \n",
       "\n",
       "    </details>\n",
       "</div>\n",
       "\n",
       "        </details>\n",
       "    </div>\n",
       "</div>\n",
       "            </details>\n",
       "        \n",
       "\n",
       "    </div>\n",
       "</div>"
      ],
      "text/plain": [
       "<Client: 'tcp://172.16.3.58:35193' processes=0 threads=0, memory=0 B>"
      ]
     },
     "execution_count": 5,
     "metadata": {},
     "output_type": "execute_result"
    }
   ],
   "source": [
    "from dask_jobqueue import SLURMCluster  # setup dask cluster \n",
    "cluster = SLURMCluster(\n",
    "    cores=36,\n",
    "    processes=1,\n",
    "    memory='50GB',\n",
    "    walltime='02:00:00',\n",
    "    queue='compute',\n",
    "    interface='ib0')\n",
    "print(cluster.job_script())\n",
    "cluster.scale(jobs=2)\n",
    "from dask.distributed import Client\n",
    "client = Client(cluster)\n",
    "client"
   ]
  },
  {
   "cell_type": "markdown",
   "id": "158f9eff-ddad-4e01-b33c-52f33858da46",
   "metadata": {},
   "source": [
    "### Load in data"
   ]
  },
  {
   "cell_type": "code",
   "execution_count": 6,
   "id": "11b2ea57-ff07-4c63-966b-a0ddce12a708",
   "metadata": {},
   "outputs": [],
   "source": [
    "datadir = lambda x=\"\" : \"/vortexfs1/home/anthony.meza/scratch/CM4X/CM4XTransientTracers/data/\" + x\n",
    "ds = xr.open_mfdataset(\n",
    "        datadir(\"CM4Xp125_budgets_sigma2_2020-2024.zarr\"),\n",
    "        data_vars=\"minimal\",\n",
    "        coords=\"minimal\",\n",
    "        compat=\"override\",\n",
    "        parallel=True,\n",
    "        engine=\"zarr\")\n",
    "ds = ds.fillna(0.) #remove all NaNs\n",
    "\n",
    "grid = CM4Xutils.ds_to_grid(ds, Zprefix = \"sigma2\")"
   ]
  },
  {
   "cell_type": "code",
   "execution_count": 7,
   "id": "58d122a2-b3f7-4fb6-a4d0-c3afa82af2d4",
   "metadata": {},
   "outputs": [],
   "source": [
    "grid._ds = grid._ds.assign_coords({\n",
    "    \"sigma2_l_target\": grid._ds['sigma2_l'].rename({\"sigma2_l\":\"sigma2_l_target\"}),\n",
    "    \"sigma2_i_target\": grid._ds['sigma2_i'].rename({\"sigma2_i\":\"sigma2_i_target\"}),\n",
    "})\n",
    "grid = xwmt.add_gridcoords(\n",
    "    grid,\n",
    "    {\"Z_target\": {\"center\": \"sigma2_l_target\", \"outer\": \"sigma2_i_target\"}},\n",
    "    {\"Z_target\": \"extend\"}\n",
    ")"
   ]
  },
  {
   "cell_type": "code",
   "execution_count": 8,
   "id": "8dadeca7-5ca6-42ec-bc66-0ab9959601d9",
   "metadata": {},
   "outputs": [],
   "source": [
    "name = \"Labrador\"\n",
    "lons = np.array([-56.8775, -52.0956, -49.8604, -47.6107, -44.8000, -50,  -56.0, -61.5,  -63.5, -63.5])\n",
    "lats = np.array([52.0166,   52.6648,  53.5577,  58.8944,  60.4000,  66.5, 66.5,  66.0,   66.0,  57.5])\n",
    "region = regionate.GriddedRegion(name, lons, lats, grid)"
   ]
  },
  {
   "cell_type": "markdown",
   "id": "44a84b41-c437-456b-b3ad-5fc225c32732",
   "metadata": {},
   "source": [
    "### Collect budget terms and mass budget"
   ]
  },
  {
   "cell_type": "code",
   "execution_count": 9,
   "id": "e455c074-fab7-48df-bcdd-ab963fb0f862",
   "metadata": {},
   "outputs": [],
   "source": [
    "with warnings.catch_warnings():\n",
    "    warnings.simplefilter(action='ignore', category=FutureWarning)\n",
    "\n",
    "    budgets_dict = xbudget.load_preset_budget(model=\"MOM6_3Donly\")\n",
    "    xbudget.collect_budgets(grid, budgets_dict)\n",
    "    \n",
    "    wmb = xwmb.WaterMassBudget(\n",
    "        grid,\n",
    "        budgets_dict, \n",
    "        region\n",
    "    ) #if region not passed, the whole globe is taken\n",
    "    wmb.mass_budget(\"sigma2\", greater_than=True, default_bins=False, \n",
    "                    integrate=True, along_section=False)\n",
    "    wmt = wmb.wmt"
   ]
  },
  {
   "cell_type": "markdown",
   "id": "06c1e4f4-ccd5-48c8-ba05-8f606ab173f7",
   "metadata": {},
   "source": [
    "### Extract timemean mass budget"
   ]
  },
  {
   "cell_type": "code",
   "execution_count": 10,
   "id": "3e92d997-e15e-406a-adcf-0e9bbe6762da",
   "metadata": {},
   "outputs": [
    {
     "name": "stdout",
     "output_type": "stream",
     "text": [
      "CPU times: user 1.2 s, sys: 262 ms, total: 1.46 s\n",
      "Wall time: 51.9 s\n"
     ]
    }
   ],
   "source": [
    "%time wmt_mean = (wmt.sel(exp=\"control\").mean(\"time\")/1035*1e-6).compute()"
   ]
  },
  {
   "cell_type": "markdown",
   "id": "2c4bb159-61d5-47aa-9222-68fc06290bbc",
   "metadata": {},
   "source": [
    "### Plot time mean budget"
   ]
  },
  {
   "cell_type": "code",
   "execution_count": 11,
   "id": "b8bc135a-aa01-40de-85f2-808b9727ef5b",
   "metadata": {},
   "outputs": [],
   "source": [
    "def stairs(wmt, var, units=\"kg\", **kwargs):\n",
    "    da = wmt[var]\n",
    "    coord = wmt[[c for c in wmt.coords if \"l_target\" in c][0]]\n",
    "    coord_bounds = wmt[[c for c in wmt.coords if \"i_target\" in c][0]]\n",
    "    l = plt.stairs(da, coord_bounds, **kwargs, orientation=\"horizontal\")\n",
    "    plt.xlabel(f\"mean transformation rate [{units}]\")\n",
    "    return l"
   ]
  },
  {
   "cell_type": "code",
   "execution_count": 13,
   "id": "0aee798c-51dd-43d2-8668-1d2631bd2b26",
   "metadata": {},
   "outputs": [
    {
     "data": {
      "text/plain": [
       "(-12.0, 18.0)"
      ]
     },
     "execution_count": 13,
     "metadata": {},
     "output_type": "execute_result"
    },
    {
     "data": {
      "image/png": "[encoded data removed]",
      "text/plain": [
       "<Figure size 600x450 with 1 Axes>"
      ]
     },
     "metadata": {},
     "output_type": "display_data"
    }
   ],
   "source": [
    "plt.figure(figsize=(6,4.5))\n",
    "\n",
    "kwargs = {\"units\":\"Sv\", \"alpha\":0.7, \"lw\":1.5}\n",
    "\n",
    "stairs(-wmt_mean, 'mass_tendency',             label=r\"$\\partial_{t} \\mathcal{M}$ (mass_tendency)\",**kwargs)\n",
    "stairs(wmt_mean, 'mass_source',               label=r\"$-\\mathcal{S}$ (mass_source)\",            **kwargs)\n",
    "stairs(-wmt_mean, 'convergent_mass_transport', label=r\"$-\\Psi$ (convergent_mass_transport)\",                   **kwargs)\n",
    "stairs(-wmt_mean, 'boundary_fluxes',           label=r\"$\\mathcal{G}^{(BF)}$ (boundary_fluxes)\",      **kwargs)\n",
    "stairs(-wmt_mean, 'diffusion',                 label=r\"$\\mathcal{G}^{(Mix)}$ (diffusion)\",     **kwargs)\n",
    "stairs( -wmt_mean, 'spurious_numerical_mixing', label=r\"$\\mathcal{G}^{S}$ (spurious_numerical_mixing)\", **kwargs)\n",
    "\n",
    "plt.legend(loc=\"upper right\", frameon = False, ncols = 2, bbox_to_anchor = (1.2, -0.2))\n",
    "plt.grid(True, alpha=0.25)\n",
    "plt.ylabel(r\"potential density $\\sigma_{2}$ [kg/m$^{3}$]\");\n",
    "plt.ylim( 37.5, 35.5,);\n",
    "plt.title(\"OSNAP-Irminger-Iceland Budget (2020 - 2024, CM4xp25)\")\n",
    "plt.xlim(-12, 18)\n"
   ]
  },
  {
   "cell_type": "code",
   "execution_count": null,
   "id": "219a6f63-afb4-42b0-a230-115a7a8701b0",
   "metadata": {},
   "outputs": [],
   "source": []
  }
 ],
 "metadata": {
  "kernelspec": {
   "display_name": "Python 3 (ipykernel)",
   "language": "python",
   "name": "python3"
  },
  "language_info": {
   "codemirror_mode": {
    "name": "ipython",
    "version": 3
   },
   "file_extension": ".py",
   "mimetype": "text/x-python",
   "name": "python",
   "nbconvert_exporter": "python",
   "pygments_lexer": "ipython3",
   "version": "3.12.4"
  }
 },
 "nbformat": 4,
 "nbformat_minor": 5
}
